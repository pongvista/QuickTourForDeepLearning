{
 "cells": [
  {
   "cell_type": "code",
   "execution_count": 643,
   "metadata": {},
   "outputs": [
    {
     "data": {
      "text/plain": [
       "'/Users/panxingnan/QuickTourForDeepLearning/Example/Logistic Regression'"
      ]
     },
     "execution_count": 643,
     "metadata": {},
     "output_type": "execute_result"
    }
   ],
   "source": [
    "import torch\n",
    "from torch.utils.data import Dataset, DataLoader\n",
    "from torch import nn\n",
    "\n",
    "import pandas as pd\n",
    "import numpy as np\n",
    "from matplotlib import pyplot as plt\n",
    "import time\n",
    "from IPython.display import display, clear_output\n",
    "import os, sys\n",
    "os.getcwd()"
   ]
  },
  {
   "cell_type": "markdown",
   "metadata": {},
   "source": [
    "# 一、配置学习环境  \n",
    "\n",
    "![配置学习环境](./sources/0.procedure.png) "
   ]
  },
  {
   "cell_type": "markdown",
   "metadata": {},
   "source": [
    "## 1. 界定任务  \n",
    "\n",
    "应用领域：结构化数据  \n",
    "\n",
    "结果类型：2分类  \n",
    "\n",
    "![界定任务](./sources/1.task.png)  "
   ]
  },
  {
   "cell_type": "code",
   "execution_count": 644,
   "metadata": {},
   "outputs": [
    {
     "data": {
      "text/html": [
       "<div>\n",
       "<style scoped>\n",
       "    .dataframe tbody tr th:only-of-type {\n",
       "        vertical-align: middle;\n",
       "    }\n",
       "\n",
       "    .dataframe tbody tr th {\n",
       "        vertical-align: top;\n",
       "    }\n",
       "\n",
       "    .dataframe thead th {\n",
       "        text-align: right;\n",
       "    }\n",
       "</style>\n",
       "<table border=\"1\" class=\"dataframe\">\n",
       "  <thead>\n",
       "    <tr style=\"text-align: right;\">\n",
       "      <th></th>\n",
       "      <th>Kerne_A</th>\n",
       "      <th>Cyto_A</th>\n",
       "      <th>K/C</th>\n",
       "      <th>Kerne_Ycol</th>\n",
       "      <th>Cyto_Ycol</th>\n",
       "      <th>KerneShort</th>\n",
       "      <th>KerneLong</th>\n",
       "      <th>KerneElong</th>\n",
       "      <th>KerneRund</th>\n",
       "      <th>CytoShort</th>\n",
       "      <th>...</th>\n",
       "      <th>KernePeri</th>\n",
       "      <th>CytoPeri</th>\n",
       "      <th>KernePos</th>\n",
       "      <th>KerneMax</th>\n",
       "      <th>KerneMin</th>\n",
       "      <th>CytoMax</th>\n",
       "      <th>CytoMin</th>\n",
       "      <th>Class</th>\n",
       "      <th>ClassName1</th>\n",
       "      <th>ClassName2</th>\n",
       "    </tr>\n",
       "  </thead>\n",
       "  <tbody>\n",
       "    <tr>\n",
       "      <th>0</th>\n",
       "      <td>803.5</td>\n",
       "      <td>27804.1</td>\n",
       "      <td>0.0</td>\n",
       "      <td>85.9</td>\n",
       "      <td>192.5</td>\n",
       "      <td>29.8</td>\n",
       "      <td>34.8</td>\n",
       "      <td>0.9</td>\n",
       "      <td>0.8</td>\n",
       "      <td>181.6</td>\n",
       "      <td>...</td>\n",
       "      <td>101.4</td>\n",
       "      <td>673.5</td>\n",
       "      <td>0.2</td>\n",
       "      <td>44</td>\n",
       "      <td>37</td>\n",
       "      <td>649</td>\n",
       "      <td>655</td>\n",
       "      <td>1</td>\n",
       "      <td>normal_superficiel</td>\n",
       "      <td>normal</td>\n",
       "    </tr>\n",
       "    <tr>\n",
       "      <th>1</th>\n",
       "      <td>610.1</td>\n",
       "      <td>18067.9</td>\n",
       "      <td>0.0</td>\n",
       "      <td>81.5</td>\n",
       "      <td>153.4</td>\n",
       "      <td>25.3</td>\n",
       "      <td>30.8</td>\n",
       "      <td>0.8</td>\n",
       "      <td>0.8</td>\n",
       "      <td>171.1</td>\n",
       "      <td>...</td>\n",
       "      <td>85.2</td>\n",
       "      <td>597.0</td>\n",
       "      <td>0.0</td>\n",
       "      <td>36</td>\n",
       "      <td>26</td>\n",
       "      <td>502</td>\n",
       "      <td>504</td>\n",
       "      <td>1</td>\n",
       "      <td>normal_superficiel</td>\n",
       "      <td>normal</td>\n",
       "    </tr>\n",
       "    <tr>\n",
       "      <th>2</th>\n",
       "      <td>990.4</td>\n",
       "      <td>79029.9</td>\n",
       "      <td>0.0</td>\n",
       "      <td>77.8</td>\n",
       "      <td>118.0</td>\n",
       "      <td>33.6</td>\n",
       "      <td>38.3</td>\n",
       "      <td>0.9</td>\n",
       "      <td>0.9</td>\n",
       "      <td>290.3</td>\n",
       "      <td>...</td>\n",
       "      <td>111.8</td>\n",
       "      <td>1059.1</td>\n",
       "      <td>0.1</td>\n",
       "      <td>53</td>\n",
       "      <td>37</td>\n",
       "      <td>2267</td>\n",
       "      <td>2500</td>\n",
       "      <td>1</td>\n",
       "      <td>normal_superficiel</td>\n",
       "      <td>normal</td>\n",
       "    </tr>\n",
       "  </tbody>\n",
       "</table>\n",
       "<p>3 rows × 23 columns</p>\n",
       "</div>"
      ],
      "text/plain": [
       "   Kerne_A   Cyto_A  K/C  Kerne_Ycol  Cyto_Ycol  KerneShort  KerneLong  \\\n",
       "0    803.5  27804.1  0.0        85.9      192.5        29.8       34.8   \n",
       "1    610.1  18067.9  0.0        81.5      153.4        25.3       30.8   \n",
       "2    990.4  79029.9  0.0        77.8      118.0        33.6       38.3   \n",
       "\n",
       "   KerneElong  KerneRund  CytoShort  ...  KernePeri  CytoPeri  KernePos  \\\n",
       "0         0.9        0.8      181.6  ...      101.4     673.5       0.2   \n",
       "1         0.8        0.8      171.1  ...       85.2     597.0       0.0   \n",
       "2         0.9        0.9      290.3  ...      111.8    1059.1       0.1   \n",
       "\n",
       "   KerneMax  KerneMin  CytoMax  CytoMin  Class          ClassName1  ClassName2  \n",
       "0        44        37      649      655      1  normal_superficiel      normal  \n",
       "1        36        26      502      504      1  normal_superficiel      normal  \n",
       "2        53        37     2267     2500      1  normal_superficiel      normal  \n",
       "\n",
       "[3 rows x 23 columns]"
      ]
     },
     "execution_count": 644,
     "metadata": {},
     "output_type": "execute_result"
    }
   ],
   "source": [
    "path_data = './data/new_database_results.xls'\n",
    "data = pd.read_excel(path_data, sheet_name='results')\n",
    "data.iloc[0:3, 1:].round(1)"
   ]
  },
  {
   "cell_type": "markdown",
   "metadata": {},
   "source": [
    "Kerne_A：核面积  \n",
    "Cyto_A：浆面积  \n",
    "K/C：核浆比  \n",
    "Kerne_Ycol：核颜色  \n",
    "Cyto_Ycol：浆颜色  \n",
    "KerneShort：核短轴  \n",
    "KerneLong：核长轴  \n",
    "KerneRund：核圆度  \n",
    "CytoShort：浆短轴  \n",
    "CytoLong：浆长轴  \n",
    "CytoRund：浆圆度  "
   ]
  },
  {
   "cell_type": "markdown",
   "metadata": {},
   "source": [
    "## 2. 准备数据\n",
    "\n",
    "数据标注：强监督\n",
    "\n",
    "![准备数据](./sources/2.data1.png)  \n",
    "  \n",
    "  \n",
    "数据集：只生成训练集和测试集  \n",
    "\n",
    "![准备数据](./sources/2.data2.png)  "
   ]
  },
  {
   "cell_type": "markdown",
   "metadata": {},
   "source": [
    "### 2-1. 采集数据"
   ]
  },
  {
   "cell_type": "markdown",
   "metadata": {},
   "source": [
    "### 2-2. 检查、清洗数据  \n",
    "\n",
    "- 唯一性  \n",
    "\n",
    "- 一致性  \n",
    "\n",
    "- 完整性  \n",
    "\n",
    "- 准确性  "
   ]
  },
  {
   "cell_type": "markdown",
   "metadata": {},
   "source": [
    "### 2-3. 预处理数据  \n",
    "\n",
    "- 去掉不必要的列  \n",
    "\n",
    "- 生成分类标签  \n",
    "\n",
    "- 将特征归一化  \n"
   ]
  },
  {
   "cell_type": "code",
   "execution_count": 645,
   "metadata": {},
   "outputs": [],
   "source": [
    "# 去掉不必要的列\n",
    "df = data.drop(['ID', 'ClassName1', 'ClassName2'], axis=1)"
   ]
  },
  {
   "cell_type": "code",
   "execution_count": 646,
   "metadata": {},
   "outputs": [
    {
     "name": "stdout",
     "output_type": "stream",
     "text": [
      "2分类标签\n"
     ]
    },
    {
     "data": {
      "text/html": [
       "<div>\n",
       "<style scoped>\n",
       "    .dataframe tbody tr th:only-of-type {\n",
       "        vertical-align: middle;\n",
       "    }\n",
       "\n",
       "    .dataframe tbody tr th {\n",
       "        vertical-align: top;\n",
       "    }\n",
       "\n",
       "    .dataframe thead th {\n",
       "        text-align: right;\n",
       "    }\n",
       "</style>\n",
       "<table border=\"1\" class=\"dataframe\">\n",
       "  <thead>\n",
       "    <tr style=\"text-align: right;\">\n",
       "      <th></th>\n",
       "      <th>Class</th>\n",
       "      <th>label</th>\n",
       "    </tr>\n",
       "  </thead>\n",
       "  <tbody>\n",
       "    <tr>\n",
       "      <th>0</th>\n",
       "      <td>1</td>\n",
       "      <td>0</td>\n",
       "    </tr>\n",
       "    <tr>\n",
       "      <th>74</th>\n",
       "      <td>2</td>\n",
       "      <td>0</td>\n",
       "    </tr>\n",
       "    <tr>\n",
       "      <th>144</th>\n",
       "      <td>3</td>\n",
       "      <td>0</td>\n",
       "    </tr>\n",
       "    <tr>\n",
       "      <th>242</th>\n",
       "      <td>4</td>\n",
       "      <td>1</td>\n",
       "    </tr>\n",
       "    <tr>\n",
       "      <th>424</th>\n",
       "      <td>5</td>\n",
       "      <td>1</td>\n",
       "    </tr>\n",
       "    <tr>\n",
       "      <th>570</th>\n",
       "      <td>6</td>\n",
       "      <td>1</td>\n",
       "    </tr>\n",
       "    <tr>\n",
       "      <th>767</th>\n",
       "      <td>7</td>\n",
       "      <td>1</td>\n",
       "    </tr>\n",
       "  </tbody>\n",
       "</table>\n",
       "</div>"
      ],
      "text/plain": [
       "     Class label\n",
       "0        1     0\n",
       "74       2     0\n",
       "144      3     0\n",
       "242      4     1\n",
       "424      5     1\n",
       "570      6     1\n",
       "767      7     1"
      ]
     },
     "execution_count": 646,
     "metadata": {},
     "output_type": "execute_result"
    }
   ],
   "source": [
    "# 生成分类标签\n",
    "bins = [0, 3, 7]\n",
    "df['label'] = pd.cut(df['Class'], bins=bins, labels=[0, 1])\n",
    "print('2分类标签')\n",
    "df[['Class', 'label']].drop_duplicates()"
   ]
  },
  {
   "cell_type": "code",
   "execution_count": 647,
   "metadata": {},
   "outputs": [
    {
     "name": "stdout",
     "output_type": "stream",
     "text": [
      "归一化前数值\n"
     ]
    },
    {
     "data": {
      "text/html": [
       "<div>\n",
       "<style scoped>\n",
       "    .dataframe tbody tr th:only-of-type {\n",
       "        vertical-align: middle;\n",
       "    }\n",
       "\n",
       "    .dataframe tbody tr th {\n",
       "        vertical-align: top;\n",
       "    }\n",
       "\n",
       "    .dataframe thead th {\n",
       "        text-align: right;\n",
       "    }\n",
       "</style>\n",
       "<table border=\"1\" class=\"dataframe\">\n",
       "  <thead>\n",
       "    <tr style=\"text-align: right;\">\n",
       "      <th></th>\n",
       "      <th>Kerne_A</th>\n",
       "      <th>Cyto_A</th>\n",
       "      <th>K/C</th>\n",
       "      <th>Kerne_Ycol</th>\n",
       "      <th>Cyto_Ycol</th>\n",
       "      <th>KerneShort</th>\n",
       "      <th>KerneLong</th>\n",
       "      <th>KerneElong</th>\n",
       "      <th>KerneRund</th>\n",
       "      <th>CytoShort</th>\n",
       "      <th>CytoLong</th>\n",
       "      <th>CytoElong</th>\n",
       "      <th>CytoRund</th>\n",
       "      <th>KernePeri</th>\n",
       "      <th>CytoPeri</th>\n",
       "      <th>KernePos</th>\n",
       "      <th>KerneMax</th>\n",
       "      <th>KerneMin</th>\n",
       "      <th>CytoMax</th>\n",
       "      <th>CytoMin</th>\n",
       "    </tr>\n",
       "  </thead>\n",
       "  <tbody>\n",
       "    <tr>\n",
       "      <th>0</th>\n",
       "      <td>803.500</td>\n",
       "      <td>27804.125</td>\n",
       "      <td>0.028087</td>\n",
       "      <td>85.866083</td>\n",
       "      <td>192.524631</td>\n",
       "      <td>29.832191</td>\n",
       "      <td>34.828150</td>\n",
       "      <td>0.856554</td>\n",
       "      <td>0.843403</td>\n",
       "      <td>181.574886</td>\n",
       "      <td>242.043385</td>\n",
       "      <td>0.750175</td>\n",
       "      <td>0.604273</td>\n",
       "      <td>101.375</td>\n",
       "      <td>673.500</td>\n",
       "      <td>0.230067</td>\n",
       "      <td>44</td>\n",
       "      <td>37</td>\n",
       "      <td>649</td>\n",
       "      <td>655</td>\n",
       "    </tr>\n",
       "    <tr>\n",
       "      <th>1</th>\n",
       "      <td>610.125</td>\n",
       "      <td>18067.875</td>\n",
       "      <td>0.032665</td>\n",
       "      <td>81.531353</td>\n",
       "      <td>153.439838</td>\n",
       "      <td>25.319871</td>\n",
       "      <td>30.805844</td>\n",
       "      <td>0.821918</td>\n",
       "      <td>0.818583</td>\n",
       "      <td>171.108766</td>\n",
       "      <td>197.570241</td>\n",
       "      <td>0.866065</td>\n",
       "      <td>0.589351</td>\n",
       "      <td>85.250</td>\n",
       "      <td>597.000</td>\n",
       "      <td>0.043701</td>\n",
       "      <td>36</td>\n",
       "      <td>26</td>\n",
       "      <td>502</td>\n",
       "      <td>504</td>\n",
       "    </tr>\n",
       "    <tr>\n",
       "      <th>2</th>\n",
       "      <td>990.375</td>\n",
       "      <td>79029.875</td>\n",
       "      <td>0.012377</td>\n",
       "      <td>77.843655</td>\n",
       "      <td>118.001177</td>\n",
       "      <td>33.552901</td>\n",
       "      <td>38.327536</td>\n",
       "      <td>0.875425</td>\n",
       "      <td>0.858397</td>\n",
       "      <td>290.250246</td>\n",
       "      <td>355.803316</td>\n",
       "      <td>0.815760</td>\n",
       "      <td>0.794843</td>\n",
       "      <td>111.750</td>\n",
       "      <td>1059.125</td>\n",
       "      <td>0.141150</td>\n",
       "      <td>53</td>\n",
       "      <td>37</td>\n",
       "      <td>2267</td>\n",
       "      <td>2500</td>\n",
       "    </tr>\n",
       "  </tbody>\n",
       "</table>\n",
       "</div>"
      ],
      "text/plain": [
       "   Kerne_A     Cyto_A       K/C  Kerne_Ycol   Cyto_Ycol  KerneShort  \\\n",
       "0  803.500  27804.125  0.028087   85.866083  192.524631   29.832191   \n",
       "1  610.125  18067.875  0.032665   81.531353  153.439838   25.319871   \n",
       "2  990.375  79029.875  0.012377   77.843655  118.001177   33.552901   \n",
       "\n",
       "   KerneLong  KerneElong  KerneRund   CytoShort    CytoLong  CytoElong  \\\n",
       "0  34.828150    0.856554   0.843403  181.574886  242.043385   0.750175   \n",
       "1  30.805844    0.821918   0.818583  171.108766  197.570241   0.866065   \n",
       "2  38.327536    0.875425   0.858397  290.250246  355.803316   0.815760   \n",
       "\n",
       "   CytoRund  KernePeri  CytoPeri  KernePos  KerneMax  KerneMin  CytoMax  \\\n",
       "0  0.604273    101.375   673.500  0.230067        44        37      649   \n",
       "1  0.589351     85.250   597.000  0.043701        36        26      502   \n",
       "2  0.794843    111.750  1059.125  0.141150        53        37     2267   \n",
       "\n",
       "   CytoMin  \n",
       "0      655  \n",
       "1      504  \n",
       "2     2500  "
      ]
     },
     "execution_count": 647,
     "metadata": {},
     "output_type": "execute_result"
    }
   ],
   "source": [
    "# 将特征归一化\n",
    "label = df['label']\n",
    "feature = df.drop(['Class', 'label'], axis=1)\n",
    "\n",
    "print('归一化前数值')\n",
    "feature.head(3)"
   ]
  },
  {
   "cell_type": "code",
   "execution_count": 648,
   "metadata": {},
   "outputs": [
    {
     "name": "stdout",
     "output_type": "stream",
     "text": [
      "归一化后数值\n"
     ]
    },
    {
     "data": {
      "text/html": [
       "<div>\n",
       "<style scoped>\n",
       "    .dataframe tbody tr th:only-of-type {\n",
       "        vertical-align: middle;\n",
       "    }\n",
       "\n",
       "    .dataframe tbody tr th {\n",
       "        vertical-align: top;\n",
       "    }\n",
       "\n",
       "    .dataframe thead th {\n",
       "        text-align: right;\n",
       "    }\n",
       "</style>\n",
       "<table border=\"1\" class=\"dataframe\">\n",
       "  <thead>\n",
       "    <tr style=\"text-align: right;\">\n",
       "      <th></th>\n",
       "      <th>Kerne_A</th>\n",
       "      <th>Cyto_A</th>\n",
       "      <th>K/C</th>\n",
       "      <th>Kerne_Ycol</th>\n",
       "      <th>Cyto_Ycol</th>\n",
       "      <th>KerneShort</th>\n",
       "      <th>KerneLong</th>\n",
       "      <th>KerneElong</th>\n",
       "      <th>KerneRund</th>\n",
       "      <th>CytoShort</th>\n",
       "      <th>CytoLong</th>\n",
       "      <th>CytoElong</th>\n",
       "      <th>CytoRund</th>\n",
       "      <th>KernePeri</th>\n",
       "      <th>CytoPeri</th>\n",
       "      <th>KernePos</th>\n",
       "      <th>KerneMax</th>\n",
       "      <th>KerneMin</th>\n",
       "      <th>CytoMax</th>\n",
       "      <th>CytoMin</th>\n",
       "    </tr>\n",
       "  </thead>\n",
       "  <tbody>\n",
       "    <tr>\n",
       "      <th>0</th>\n",
       "      <td>-1.164601</td>\n",
       "      <td>0.675432</td>\n",
       "      <td>-1.539731</td>\n",
       "      <td>-0.212305</td>\n",
       "      <td>2.125615</td>\n",
       "      <td>-1.208496</td>\n",
       "      <td>-1.564634</td>\n",
       "      <td>0.678200</td>\n",
       "      <td>0.891219</td>\n",
       "      <td>0.882348</td>\n",
       "      <td>0.781148</td>\n",
       "      <td>0.328428</td>\n",
       "      <td>1.291274</td>\n",
       "      <td>-1.471815</td>\n",
       "      <td>0.667500</td>\n",
       "      <td>-0.268492</td>\n",
       "      <td>-1.111085</td>\n",
       "      <td>-0.905485</td>\n",
       "      <td>0.366248</td>\n",
       "      <td>0.372045</td>\n",
       "    </tr>\n",
       "    <tr>\n",
       "      <th>1</th>\n",
       "      <td>-1.267560</td>\n",
       "      <td>0.197172</td>\n",
       "      <td>-1.518272</td>\n",
       "      <td>-0.411325</td>\n",
       "      <td>0.563027</td>\n",
       "      <td>-1.449092</td>\n",
       "      <td>-1.737695</td>\n",
       "      <td>0.456926</td>\n",
       "      <td>0.730725</td>\n",
       "      <td>0.736792</td>\n",
       "      <td>0.288009</td>\n",
       "      <td>0.981822</td>\n",
       "      <td>1.204862</td>\n",
       "      <td>-1.709653</td>\n",
       "      <td>0.389174</td>\n",
       "      <td>-1.397596</td>\n",
       "      <td>-1.250199</td>\n",
       "      <td>-1.106092</td>\n",
       "      <td>0.134320</td>\n",
       "      <td>0.129158</td>\n",
       "    </tr>\n",
       "    <tr>\n",
       "      <th>2</th>\n",
       "      <td>-1.065103</td>\n",
       "      <td>3.191719</td>\n",
       "      <td>-1.613363</td>\n",
       "      <td>-0.580639</td>\n",
       "      <td>-0.853791</td>\n",
       "      <td>-1.010109</td>\n",
       "      <td>-1.414071</td>\n",
       "      <td>0.798760</td>\n",
       "      <td>0.988172</td>\n",
       "      <td>2.393732</td>\n",
       "      <td>2.042572</td>\n",
       "      <td>0.698200</td>\n",
       "      <td>2.394885</td>\n",
       "      <td>-1.318787</td>\n",
       "      <td>2.070500</td>\n",
       "      <td>-0.807197</td>\n",
       "      <td>-0.954583</td>\n",
       "      <td>-0.905485</td>\n",
       "      <td>2.919033</td>\n",
       "      <td>3.339759</td>\n",
       "    </tr>\n",
       "  </tbody>\n",
       "</table>\n",
       "</div>"
      ],
      "text/plain": [
       "    Kerne_A    Cyto_A       K/C  Kerne_Ycol  Cyto_Ycol  KerneShort  KerneLong  \\\n",
       "0 -1.164601  0.675432 -1.539731   -0.212305   2.125615   -1.208496  -1.564634   \n",
       "1 -1.267560  0.197172 -1.518272   -0.411325   0.563027   -1.449092  -1.737695   \n",
       "2 -1.065103  3.191719 -1.613363   -0.580639  -0.853791   -1.010109  -1.414071   \n",
       "\n",
       "   KerneElong  KerneRund  CytoShort  CytoLong  CytoElong  CytoRund  KernePeri  \\\n",
       "0    0.678200   0.891219   0.882348  0.781148   0.328428  1.291274  -1.471815   \n",
       "1    0.456926   0.730725   0.736792  0.288009   0.981822  1.204862  -1.709653   \n",
       "2    0.798760   0.988172   2.393732  2.042572   0.698200  2.394885  -1.318787   \n",
       "\n",
       "   CytoPeri  KernePos  KerneMax  KerneMin   CytoMax   CytoMin  \n",
       "0  0.667500 -0.268492 -1.111085 -0.905485  0.366248  0.372045  \n",
       "1  0.389174 -1.397596 -1.250199 -1.106092  0.134320  0.129158  \n",
       "2  2.070500 -0.807197 -0.954583 -0.905485  2.919033  3.339759  "
      ]
     },
     "execution_count": 648,
     "metadata": {},
     "output_type": "execute_result"
    }
   ],
   "source": [
    "feature = (feature - feature.mean())/feature.std()\n",
    "print('归一化后数值')\n",
    "feature.head(3)"
   ]
  },
  {
   "cell_type": "markdown",
   "metadata": {},
   "source": [
    "### 2-4. 划分训练集和测试集"
   ]
  },
  {
   "cell_type": "code",
   "execution_count": 649,
   "metadata": {},
   "outputs": [
    {
     "name": "stdout",
     "output_type": "stream",
     "text": [
      "训练集占80%数据\n",
      "1    533\n",
      "0    201\n",
      "Name: label, dtype: int64\n",
      "测试集占20%数据\n",
      "1    142\n",
      "0     41\n",
      "Name: label, dtype: int64\n"
     ]
    }
   ],
   "source": [
    "feature['label'] = label\n",
    "df_preprocess = feature\n",
    "\n",
    "df_train = df_preprocess.sample(frac=0.8, axis=0)\n",
    "df_test = df_preprocess[~df_preprocess.index.isin(df_train.index)]\n",
    "\n",
    "print('训练集占80%数据')\n",
    "print(df_train['label'].value_counts())\n",
    "print('测试集占20%数据')\n",
    "print(df_test['label'].value_counts())"
   ]
  },
  {
   "cell_type": "code",
   "execution_count": 650,
   "metadata": {},
   "outputs": [],
   "source": [
    "class MyDataset(Dataset):\n",
    "    def __init__(self, df:pd.DataFrame):\n",
    "        feature = df.iloc[:, 0:(-1)].values\n",
    "        label = df.iloc[:, -1].values\n",
    "\n",
    "        self.feature = torch.tensor(feature, dtype=torch.float32)\n",
    "        self.label = torch.tensor(label, dtype=torch.float32)\n",
    "    \n",
    "    def __len__(self):\n",
    "        return len(self.feature)\n",
    "    \n",
    "    def __getitem__(self, index):\n",
    "        return self.feature[index], self.label[index]\n",
    "\n",
    "ds_train = MyDataset(df_train)\n",
    "ds_test = MyDataset(df_test)"
   ]
  },
  {
   "cell_type": "markdown",
   "metadata": {},
   "source": [
    "## 3. 定义模型结构  \n",
    "\n",
    "模型：Logistics（只有一个神经元的神经网络）  \n",
    "\n",
    "![定义模型结构](./sources/3.model.png) "
   ]
  },
  {
   "cell_type": "code",
   "execution_count": 651,
   "metadata": {},
   "outputs": [],
   "source": [
    "class LogisticRegression(nn.Module):\n",
    "    def __init__(self, input_dim):\n",
    "        super(LogisticRegression, self).__init__()\n",
    "\n",
    "        # 线性层\n",
    "        self.linear = nn.Linear(input_dim, 1)\n",
    "        \n",
    "        # 激活函数\n",
    "        self.activation_function = nn.Sigmoid()\n",
    "\n",
    "    def forward(self, x):\n",
    "        x = self.linear(x)\n",
    "        x = self.activation_function(x)\n",
    "        return x\n",
    "\n",
    "LR = LogisticRegression(df_train.shape[1] - 1)"
   ]
  },
  {
   "cell_type": "markdown",
   "metadata": {},
   "source": [
    "## 4. 选择目标函数\n",
    "\n",
    "目标函数：交叉熵损失  \n",
    "\n",
    "![选择目标函数](./sources/4.obj_function.png) "
   ]
  },
  {
   "cell_type": "code",
   "execution_count": 652,
   "metadata": {},
   "outputs": [],
   "source": [
    "loss_function = torch.nn.BCELoss()"
   ]
  },
  {
   "cell_type": "markdown",
   "metadata": {},
   "source": [
    "## 5. 选择优化器\n",
    "\n",
    "优化器：随机梯度下降  \n",
    "\n",
    "学习率：0.01  \n",
    "\n",
    "![选择优化器](./sources/5.optimization.png) "
   ]
  },
  {
   "cell_type": "code",
   "execution_count": 653,
   "metadata": {},
   "outputs": [],
   "source": [
    "learning_rate=0.1\n",
    "optimizer = torch.optim.SGD(LR.parameters(), lr=learning_rate)"
   ]
  },
  {
   "cell_type": "markdown",
   "metadata": {},
   "source": [
    "# 二、学习过程\n",
    "\n",
    "![学习过程](./sources/0.procedure.png) "
   ]
  },
  {
   "cell_type": "markdown",
   "metadata": {},
   "source": [
    "### a. 初始化权重\n",
    "将权重全部初始化为 1, 将偏置初始化为 0"
   ]
  },
  {
   "cell_type": "code",
   "execution_count": 654,
   "metadata": {},
   "outputs": [
    {
     "data": {
      "text/plain": [
       "(array([1., 1., 1., 1., 1., 1., 1., 1., 1., 1., 1., 1., 1., 1., 1., 1., 1.,\n",
       "        1., 1., 1.], dtype=float32),\n",
       " array(0., dtype=float32))"
      ]
     },
     "execution_count": 654,
     "metadata": {},
     "output_type": "execute_result"
    }
   ],
   "source": [
    "nn.init.constant_(LR.linear.weight, 1)\n",
    "nn.init.constant_(LR.linear.bias, 0)\n",
    "LR.linear.weight.squeeze().detach().numpy(), LR.linear.bias.squeeze().detach().numpy()"
   ]
  },
  {
   "cell_type": "code",
   "execution_count": 655,
   "metadata": {},
   "outputs": [],
   "source": [
    "def get_round_weight(vector, lr=None):\n",
    "    '''\n",
    "    与模型无关\n",
    "    用于获取核浆比, 核颜色和核圆度相关向量的输出字符串, 小数取 4 位\n",
    "    '''\n",
    "    lr = 1 if lr is None else -lr\n",
    "    result = vector[:, [2, 3, 9]].squeeze() * lr\n",
    "    result = result.detach().tolist()\n",
    "    result = ['{:.4f}'.format(x) for x in result]\n",
    "    return result"
   ]
  },
  {
   "cell_type": "markdown",
   "metadata": {},
   "source": [
    "## 1. 第一个循环\n",
    "我们选出三个比较关键的参数`核浆比, 核颜色和核圆度`, 并观察他们的权重变化"
   ]
  },
  {
   "cell_type": "markdown",
   "metadata": {},
   "source": [
    "### a. 预测结果\n",
    "首先我们将特征数据输入模型, 然后直接让模型预测结果. 打印前10条记录的`预测结果`"
   ]
  },
  {
   "cell_type": "code",
   "execution_count": 656,
   "metadata": {},
   "outputs": [
    {
     "data": {
      "text/plain": [
       "tensor([[0.4273],\n",
       "        [0.9751],\n",
       "        [0.9999],\n",
       "        [0.9971],\n",
       "        [0.0761],\n",
       "        [0.2016],\n",
       "        [0.0041],\n",
       "        [0.6309],\n",
       "        [0.0212],\n",
       "        [0.0192]], grad_fn=<SliceBackward>)"
      ]
     },
     "execution_count": 656,
     "metadata": {},
     "output_type": "execute_result"
    }
   ],
   "source": [
    "LR.train(True)\n",
    "outputs = LR(ds_train.feature)\n",
    "outputs[:10]"
   ]
  },
  {
   "cell_type": "markdown",
   "metadata": {},
   "source": [
    "### b. 计算损失值\n",
    "然后我们通过`损失函数`去计算和衡量`预测结果与真实情况`之间差距"
   ]
  },
  {
   "cell_type": "code",
   "execution_count": 657,
   "metadata": {},
   "outputs": [
    {
     "data": {
      "text/plain": [
       "tensor(3.4998, grad_fn=<BinaryCrossEntropyBackward>)"
      ]
     },
     "execution_count": 657,
     "metadata": {},
     "output_type": "execute_result"
    }
   ],
   "source": [
    "loss = loss_function(outputs.squeeze(), ds_train.label)\n",
    "loss"
   ]
  },
  {
   "cell_type": "markdown",
   "metadata": {},
   "source": [
    "### c. 计算权重梯度\n",
    "当我们有损失值后, 我们需要通过`反向传播`的方式更新特征对应的系数值."
   ]
  },
  {
   "cell_type": "code",
   "execution_count": 658,
   "metadata": {},
   "outputs": [
    {
     "name": "stdout",
     "output_type": "stream",
     "text": [
      "当前梯度是: ['-0.3410', '-0.0644', '0.4464']\n"
     ]
    }
   ],
   "source": [
    "optimizer.zero_grad()\n",
    "loss.backward()\n",
    "cur_grad = get_round_weight(LR.linear.weight.grad)\n",
    "print('当前梯度是: {}'.format(cur_grad))"
   ]
  },
  {
   "cell_type": "markdown",
   "metadata": {},
   "source": [
    "### d. 更新权重\n",
    "我们用上面获得的梯度, 更新权重\n",
    "```\n",
    "新权重值 = 老权重值 - (学习率 * 梯度)\n",
    "```"
   ]
  },
  {
   "cell_type": "code",
   "execution_count": 659,
   "metadata": {},
   "outputs": [
    {
     "name": "stdout",
     "output_type": "stream",
     "text": [
      "当前循环次数 1:\n",
      "  之前的权重 : ['1.0000', '1.0000', '1.0000']\n",
      "  当前学习率 : 0.1\n",
      "  当前的梯度 : ['-0.3410', '-0.0644', '0.4464']\n",
      "  学习率*梯度: ['0.0341', '0.0064', '-0.0446']\n",
      "  更新后权重 : ['1.0341', '1.0064', '0.9554'] \n"
     ]
    }
   ],
   "source": [
    "last_weight=get_round_weight(LR.linear.weight)\n",
    "cur_update =get_round_weight(LR.linear.weight.grad, lr=learning_rate)\n",
    "optimizer.step()\n",
    "cur_weight=get_round_weight(LR.linear.weight)\n",
    "print('''当前循环次数 1:\n",
    "  之前的权重 : {}\n",
    "  当前学习率 : {}\n",
    "  当前的梯度 : {}\n",
    "  学习率*梯度: {}\n",
    "  更新后权重 : {} '''.format(last_weight, learning_rate, cur_grad, cur_update, cur_weight))"
   ]
  },
  {
   "cell_type": "markdown",
   "metadata": {},
   "source": [
    "## 2. 第二个循环\n",
    "重复上面第一个循环"
   ]
  },
  {
   "cell_type": "markdown",
   "metadata": {},
   "source": [
    "### a. 预测结果"
   ]
  },
  {
   "cell_type": "code",
   "execution_count": 660,
   "metadata": {},
   "outputs": [
    {
     "data": {
      "text/plain": [
       "tensor([[0.4400],\n",
       "        [0.9604],\n",
       "        [0.9998],\n",
       "        [0.9976],\n",
       "        [0.1132],\n",
       "        [0.2413],\n",
       "        [0.0048],\n",
       "        [0.6703],\n",
       "        [0.0232],\n",
       "        [0.0124]], grad_fn=<SliceBackward>)"
      ]
     },
     "execution_count": 660,
     "metadata": {},
     "output_type": "execute_result"
    }
   ],
   "source": [
    "LR.train(True)\n",
    "outputs = LR(ds_train.feature)\n",
    "outputs[:10]"
   ]
  },
  {
   "cell_type": "markdown",
   "metadata": {},
   "source": [
    "### b. 计算损失"
   ]
  },
  {
   "cell_type": "code",
   "execution_count": 661,
   "metadata": {},
   "outputs": [
    {
     "data": {
      "text/plain": [
       "tensor(3.1192, grad_fn=<BinaryCrossEntropyBackward>)"
      ]
     },
     "execution_count": 661,
     "metadata": {},
     "output_type": "execute_result"
    }
   ],
   "source": [
    "loss = loss_function(outputs.squeeze(), ds_train.label)\n",
    "loss"
   ]
  },
  {
   "cell_type": "markdown",
   "metadata": {},
   "source": [
    "### c. 计算权重梯度"
   ]
  },
  {
   "cell_type": "code",
   "execution_count": 662,
   "metadata": {},
   "outputs": [
    {
     "name": "stdout",
     "output_type": "stream",
     "text": [
      "当前梯度是: ['-0.3342', '-0.0570', '0.4446']\n"
     ]
    }
   ],
   "source": [
    "optimizer.zero_grad()\n",
    "loss.backward()\n",
    "cur_grad = get_round_weight(LR.linear.weight.grad)\n",
    "print('当前梯度是: {}'.format(cur_grad))"
   ]
  },
  {
   "cell_type": "markdown",
   "metadata": {},
   "source": [
    "### d. 更新权重"
   ]
  },
  {
   "cell_type": "code",
   "execution_count": 663,
   "metadata": {},
   "outputs": [
    {
     "name": "stdout",
     "output_type": "stream",
     "text": [
      "当前循环次数 2:\n",
      "  之前的权重 : ['1.0341', '1.0064', '0.9554']\n",
      "  当前学习率 : 0.1\n",
      "  当前的梯度 : ['-0.3342', '-0.0570', '0.4446']\n",
      "  学习率*梯度: ['0.0334', '0.0057', '-0.0445']\n",
      "  更新后权重 : ['1.0675', '1.0121', '0.9109'] \n"
     ]
    }
   ],
   "source": [
    "last_weight=get_round_weight(LR.linear.weight)\n",
    "cur_update =get_round_weight(LR.linear.weight.grad, lr=learning_rate)\n",
    "optimizer.step()\n",
    "cur_weight=get_round_weight(LR.linear.weight)\n",
    "print('''当前循环次数 2:\n",
    "  之前的权重 : {}\n",
    "  当前学习率 : {}\n",
    "  当前的梯度 : {}\n",
    "  学习率*梯度: {}\n",
    "  更新后权重 : {} '''.format(last_weight, learning_rate, cur_grad, cur_update, cur_weight))"
   ]
  },
  {
   "cell_type": "markdown",
   "metadata": {},
   "source": [
    "## 3. 全部循环\n",
    "观察`核浆比, 核颜色和核圆度`权重变化"
   ]
  },
  {
   "cell_type": "markdown",
   "metadata": {},
   "source": [
    "### 设置迭代次数"
   ]
  },
  {
   "cell_type": "code",
   "execution_count": 664,
   "metadata": {},
   "outputs": [],
   "source": [
    "epoches = 100"
   ]
  },
  {
   "cell_type": "code",
   "execution_count": 665,
   "metadata": {},
   "outputs": [
    {
     "name": "stdout",
     "output_type": "stream",
     "text": [
      "*************** 当前循环次数:  3 | 准确率: 0.49, 训练集/测试集损失值: 2.7415/3.1050\n",
      "    之前的权重 : ['1.0675', '1.0121', '0.9109']\n",
      "    梯度*学习率: ['0.0326', '0.0049', '-0.0444']\n",
      "    更新后权重 : ['1.1002', '1.0170', '0.8664']\n",
      "*************** 当前循环次数:  4 | 准确率: 0.50, 训练集/测试集损失值: 2.5933/2.9487\n",
      "    之前的权重 : ['1.1002', '1.0170', '0.8664']\n",
      "    梯度*学习率: ['0.0313', '0.0039', '-0.0433']\n",
      "    更新后权重 : ['1.1315', '1.0209', '0.8232']\n",
      "*************** 当前循环次数:  5 | 准确率: 0.52, 训练集/测试集损失值: 2.4529/2.8028\n",
      "    之前的权重 : ['1.1315', '1.0209', '0.8232']\n",
      "    梯度*学习率: ['0.0300', '0.0029', '-0.0421']\n",
      "    更新后权重 : ['1.1615', '1.0238', '0.7811']\n",
      "*************** 当前循环次数:  6 | 准确率: 0.54, 训练集/测试集损失值: 2.3207/2.6649\n",
      "    之前的权重 : ['1.1615', '1.0238', '0.7811']\n",
      "    梯度*学习率: ['0.0286', '0.0020', '-0.0408']\n",
      "    更新后权重 : ['1.1901', '1.0258', '0.7403']\n",
      "*************** 当前循环次数:  7 | 准确率: 0.54, 训练集/测试集损失值: 2.1967/2.5358\n",
      "    之前的权重 : ['1.1901', '1.0258', '0.7403']\n",
      "    梯度*学习率: ['0.0272', '0.0011', '-0.0395']\n",
      "    更新后权重 : ['1.2173', '1.0269', '0.7008']\n",
      "*************** 当前循环次数:  8 | 准确率: 0.56, 训练集/测试集损失值: 2.0807/2.4152\n",
      "    之前的权重 : ['1.2173', '1.0269', '0.7008']\n",
      "    梯度*学习率: ['0.0258', '0.0002', '-0.0381']\n",
      "    更新后权重 : ['1.2431', '1.0270', '0.6628']\n",
      "*************** 当前循环次数:  9 | 准确率: 0.57, 训练集/测试集损失值: 1.9728/2.3029\n",
      "    之前的权重 : ['1.2431', '1.0270', '0.6628']\n",
      "    梯度*学习率: ['0.0244', '-0.0007', '-0.0366']\n",
      "    更新后权重 : ['1.2675', '1.0263', '0.6262']\n",
      "*************** 当前循环次数: 10 | 准确率: 0.57, 训练集/测试集损失值: 1.8728/2.1986\n",
      "    之前的权重 : ['1.2675', '1.0263', '0.6262']\n",
      "    梯度*学习率: ['0.0230', '-0.0015', '-0.0351']\n",
      "    更新后权重 : ['1.2904', '1.0248', '0.5911']\n",
      "*************** 当前循环次数: 11 | 准确率: 0.58, 训练集/测试集损失值: 1.7805/2.1018\n",
      "    之前的权重 : ['1.2904', '1.0248', '0.5911']\n",
      "    梯度*学习率: ['0.0216', '-0.0023', '-0.0335']\n",
      "    更新后权重 : ['1.3120', '1.0225', '0.5576']\n",
      "*************** 当前循环次数: 12 | 准确率: 0.60, 训练集/测试集损失值: 1.6957/2.0123\n",
      "    之前的权重 : ['1.3120', '1.0225', '0.5576']\n",
      "    梯度*学习率: ['0.0202', '-0.0031', '-0.0319']\n",
      "    更新后权重 : ['1.3322', '1.0194', '0.5257']\n",
      "*************** 当前循环次数: 13 | 准确率: 0.60, 训练集/测试集损失值: 1.6181/1.9296\n",
      "    之前的权重 : ['1.3322', '1.0194', '0.5257']\n",
      "    梯度*学习率: ['0.0189', '-0.0038', '-0.0303']\n",
      "    更新后权重 : ['1.3511', '1.0156', '0.4954']\n",
      "*************** 当前循环次数: 14 | 准确率: 0.62, 训练集/测试集损失值: 1.5471/1.8531\n",
      "    之前的权重 : ['1.3511', '1.0156', '0.4954']\n",
      "    梯度*学习率: ['0.0176', '-0.0044', '-0.0287']\n",
      "    更新后权重 : ['1.3687', '1.0112', '0.4668']\n",
      "*************** 当前循环次数: 15 | 准确率: 0.62, 训练集/测试集损失值: 1.4822/1.7823\n",
      "    之前的权重 : ['1.3687', '1.0112', '0.4668']\n",
      "    梯度*学习率: ['0.0165', '-0.0050', '-0.0272']\n",
      "    更新后权重 : ['1.3852', '1.0062', '0.4396']\n",
      "*************** 当前循环次数: 16 | 准确率: 0.63, 训练集/测试集损失值: 1.4228/1.7166\n",
      "    之前的权重 : ['1.3852', '1.0062', '0.4396']\n",
      "    梯度*学习率: ['0.0154', '-0.0056', '-0.0258']\n",
      "    更新后权重 : ['1.4006', '1.0006', '0.4138']\n",
      "*************** 当前循环次数: 17 | 准确率: 0.63, 训练集/测试集损失值: 1.3681/1.6554\n",
      "    之前的权重 : ['1.4006', '1.0006', '0.4138']\n",
      "    梯度*学习率: ['0.0144', '-0.0061', '-0.0245']\n",
      "    更新后权重 : ['1.4149', '0.9945', '0.3894']\n",
      "*************** 当前循环次数: 18 | 准确率: 0.64, 训练集/测试集损失值: 1.3176/1.5980\n",
      "    之前的权重 : ['1.4149', '0.9945', '0.3894']\n",
      "    梯度*学习率: ['0.0135', '-0.0065', '-0.0233']\n",
      "    更新后权重 : ['1.4284', '0.9880', '0.3661']\n",
      "*************** 当前循环次数: 19 | 准确率: 0.65, 训练集/测试集损失值: 1.2706/1.5442\n",
      "    之前的权重 : ['1.4284', '0.9880', '0.3661']\n",
      "    梯度*学习率: ['0.0126', '-0.0068', '-0.0222']\n",
      "    更新后权重 : ['1.4410', '0.9812', '0.3439']\n",
      "*************** 当前循环次数: 20 | 准确率: 0.66, 训练集/测试集损失值: 1.2266/1.4934\n",
      "    之前的权重 : ['1.4410', '0.9812', '0.3439']\n",
      "    梯度*学习率: ['0.0119', '-0.0071', '-0.0213']\n",
      "    更新后权重 : ['1.4529', '0.9740', '0.3226']\n",
      "*************** 当前循环次数: 21 | 准确率: 0.66, 训练集/测试集损失值: 1.1852/1.4454\n",
      "    之前的权重 : ['1.4529', '0.9740', '0.3226']\n",
      "    梯度*学习率: ['0.0112', '-0.0074', '-0.0204']\n",
      "    更新后权重 : ['1.4642', '0.9667', '0.3021']\n",
      "*************** 当前循环次数: 22 | 准确率: 0.68, 训练集/测试集损失值: 1.1461/1.3999\n",
      "    之前的权重 : ['1.4642', '0.9667', '0.3021']\n",
      "    梯度*学习率: ['0.0106', '-0.0076', '-0.0197']\n",
      "    更新后权重 : ['1.4748', '0.9590', '0.2825']\n",
      "*************** 当前循环次数: 23 | 准确率: 0.68, 训练集/测试集损失值: 1.1090/1.3567\n",
      "    之前的权重 : ['1.4748', '0.9590', '0.2825']\n",
      "    梯度*学习率: ['0.0100', '-0.0078', '-0.0190']\n",
      "    更新后权重 : ['1.4848', '0.9513', '0.2635']\n",
      "*************** 当前循环次数: 24 | 准确率: 0.68, 训练集/测试集损失值: 1.0736/1.3155\n",
      "    之前的权重 : ['1.4848', '0.9513', '0.2635']\n",
      "    梯度*学习率: ['0.0095', '-0.0079', '-0.0183']\n",
      "    更新后权重 : ['1.4943', '0.9433', '0.2452']\n",
      "*************** 当前循环次数: 25 | 准确率: 0.68, 训练集/测试集损失值: 1.0398/1.2761\n",
      "    之前的权重 : ['1.4943', '0.9433', '0.2452']\n",
      "    梯度*学习率: ['0.0090', '-0.0081', '-0.0177']\n",
      "    更新后权重 : ['1.5034', '0.9352', '0.2275']\n",
      "*************** 当前循环次数: 26 | 准确率: 0.68, 训练集/测试集损失值: 1.0075/1.2383\n",
      "    之前的权重 : ['1.5034', '0.9352', '0.2275']\n",
      "    梯度*学习率: ['0.0086', '-0.0082', '-0.0172']\n",
      "    更新后权重 : ['1.5120', '0.9271', '0.2103']\n",
      "*************** 当前循环次数: 27 | 准确率: 0.69, 训练集/测试集损失值: 0.9764/1.2020\n",
      "    之前的权重 : ['1.5120', '0.9271', '0.2103']\n",
      "    梯度*学习率: ['0.0081', '-0.0083', '-0.0167']\n",
      "    更新后权重 : ['1.5201', '0.9188', '0.1936']\n",
      "*************** 当前循环次数: 28 | 准确率: 0.70, 训练集/测试集损失值: 0.9466/1.1672\n",
      "    之前的权重 : ['1.5201', '0.9188', '0.1936']\n",
      "    梯度*学习率: ['0.0077', '-0.0083', '-0.0162']\n",
      "    更新后权重 : ['1.5278', '0.9105', '0.1774']\n",
      "*************** 当前循环次数: 29 | 准确率: 0.71, 训练集/测试集损失值: 0.9179/1.1336\n",
      "    之前的权重 : ['1.5278', '0.9105', '0.1774']\n",
      "    梯度*学习率: ['0.0074', '-0.0084', '-0.0158']\n",
      "    更新后权重 : ['1.5352', '0.9021', '0.1616']\n",
      "*************** 当前循环次数: 30 | 准确率: 0.72, 训练集/测试集损失值: 0.8903/1.1013\n",
      "    之前的权重 : ['1.5352', '0.9021', '0.1616']\n",
      "    梯度*学习率: ['0.0070', '-0.0084', '-0.0153']\n",
      "    更新后权重 : ['1.5422', '0.8936', '0.1463']\n",
      "*************** 当前循环次数: 31 | 准确率: 0.72, 训练集/测试集损失值: 0.8636/1.0701\n",
      "    之前的权重 : ['1.5422', '0.8936', '0.1463']\n",
      "    梯度*学习率: ['0.0066', '-0.0085', '-0.0149']\n",
      "    更新后权重 : ['1.5488', '0.8851', '0.1314']\n",
      "*************** 当前循环次数: 32 | 准确率: 0.72, 训练集/测试集损失值: 0.8380/1.0401\n",
      "    之前的权重 : ['1.5488', '0.8851', '0.1314']\n",
      "    梯度*学习率: ['0.0063', '-0.0085', '-0.0145']\n",
      "    更新后权重 : ['1.5551', '0.8766', '0.1168']\n",
      "*************** 当前循环次数: 33 | 准确率: 0.72, 训练集/测试集损失值: 0.8133/1.0111\n",
      "    之前的权重 : ['1.5551', '0.8766', '0.1168']\n",
      "    梯度*学习率: ['0.0059', '-0.0085', '-0.0142']\n",
      "    更新后权重 : ['1.5610', '0.8681', '0.1027']\n",
      "*************** 当前循环次数: 34 | 准确率: 0.72, 训练集/测试集损失值: 0.7894/0.9832\n",
      "    之前的权重 : ['1.5610', '0.8681', '0.1027']\n",
      "    梯度*学习率: ['0.0056', '-0.0085', '-0.0138']\n",
      "    更新后权重 : ['1.5666', '0.8595', '0.0889']\n",
      "*************** 当前循环次数: 35 | 准确率: 0.73, 训练集/测试集损失值: 0.7665/0.9562\n",
      "    之前的权重 : ['1.5666', '0.8595', '0.0889']\n",
      "    梯度*学习率: ['0.0053', '-0.0085', '-0.0134']\n",
      "    更新后权重 : ['1.5719', '0.8510', '0.0755']\n",
      "*************** 当前循环次数: 36 | 准确率: 0.73, 训练集/测试集损失值: 0.7443/0.9302\n",
      "    之前的权重 : ['1.5719', '0.8510', '0.0755']\n",
      "    梯度*学习率: ['0.0050', '-0.0085', '-0.0131']\n",
      "    更新后权重 : ['1.5769', '0.8425', '0.0624']\n",
      "*************** 当前循环次数: 37 | 准确率: 0.73, 训练集/测试集损失值: 0.7230/0.9052\n",
      "    之前的权重 : ['1.5769', '0.8425', '0.0624']\n",
      "    梯度*学习率: ['0.0047', '-0.0085', '-0.0128']\n",
      "    更新后权重 : ['1.5816', '0.8339', '0.0496']\n",
      "*************** 当前循环次数: 38 | 准确率: 0.73, 训练集/测试集损失值: 0.7025/0.8810\n",
      "    之前的权重 : ['1.5816', '0.8339', '0.0496']\n",
      "    梯度*学习率: ['0.0044', '-0.0085', '-0.0124']\n",
      "    更新后权重 : ['1.5860', '0.8254', '0.0372']\n",
      "*************** 当前循环次数: 39 | 准确率: 0.73, 训练集/测试集损失值: 0.6827/0.8577\n",
      "    之前的权重 : ['1.5860', '0.8254', '0.0372']\n",
      "    梯度*学习率: ['0.0041', '-0.0085', '-0.0121']\n",
      "    更新后权重 : ['1.5902', '0.8169', '0.0251']\n",
      "*************** 当前循环次数: 40 | 准确率: 0.73, 训练集/测试集损失值: 0.6637/0.8353\n",
      "    之前的权重 : ['1.5902', '0.8169', '0.0251']\n",
      "    梯度*学习率: ['0.0039', '-0.0085', '-0.0118']\n",
      "    更新后权重 : ['1.5940', '0.8084', '0.0133']\n",
      "*************** 当前循环次数: 41 | 准确率: 0.74, 训练集/测试集损失值: 0.6454/0.8136\n",
      "    之前的权重 : ['1.5940', '0.8084', '0.0133']\n",
      "    梯度*学习率: ['0.0036', '-0.0085', '-0.0115']\n",
      "    更新后权重 : ['1.5977', '0.7999', '0.0018']\n",
      "*************** 当前循环次数: 42 | 准确率: 0.74, 训练集/测试集损失值: 0.6277/0.7928\n",
      "    之前的权重 : ['1.5977', '0.7999', '0.0018']\n",
      "    梯度*学习率: ['0.0034', '-0.0084', '-0.0112']\n",
      "    更新后权重 : ['1.6010', '0.7915', '-0.0095']\n",
      "*************** 当前循环次数: 43 | 准确率: 0.74, 训练集/测试集损失值: 0.6108/0.7727\n",
      "    之前的权重 : ['1.6010', '0.7915', '-0.0095']\n",
      "    梯度*学习率: ['0.0031', '-0.0084', '-0.0109']\n",
      "    更新后权重 : ['1.6041', '0.7831', '-0.0204']\n",
      "*************** 当前循环次数: 44 | 准确率: 0.74, 训练集/测试集损失值: 0.5945/0.7534\n",
      "    之前的权重 : ['1.6041', '0.7831', '-0.0204']\n",
      "    梯度*学习率: ['0.0029', '-0.0084', '-0.0106']\n",
      "    更新后权重 : ['1.6070', '0.7748', '-0.0310']\n",
      "*************** 当前循环次数: 45 | 准确率: 0.75, 训练集/测试集损失值: 0.5788/0.7348\n",
      "    之前的权重 : ['1.6070', '0.7748', '-0.0310']\n",
      "    梯度*学习率: ['0.0027', '-0.0083', '-0.0104']\n",
      "    更新后权重 : ['1.6097', '0.7664', '-0.0414']\n",
      "*************** 当前循环次数: 46 | 准确率: 0.75, 训练集/测试集损失值: 0.5638/0.7169\n",
      "    之前的权重 : ['1.6097', '0.7664', '-0.0414']\n",
      "    梯度*学习率: ['0.0024', '-0.0083', '-0.0101']\n",
      "    更新后权重 : ['1.6121', '0.7581', '-0.0514']\n",
      "*************** 当前循环次数: 47 | 准确率: 0.75, 训练集/测试集损失值: 0.5494/0.6996\n",
      "    之前的权重 : ['1.6121', '0.7581', '-0.0514']\n",
      "    梯度*学习率: ['0.0022', '-0.0082', '-0.0098']\n",
      "    更新后权重 : ['1.6143', '0.7499', '-0.0612']\n",
      "*************** 当前循环次数: 48 | 准确率: 0.75, 训练集/测试集损失值: 0.5355/0.6831\n",
      "    之前的权重 : ['1.6143', '0.7499', '-0.0612']\n",
      "    梯度*学习率: ['0.0020', '-0.0082', '-0.0095']\n",
      "    更新后权重 : ['1.6163', '0.7417', '-0.0708']\n",
      "*************** 当前循环次数: 49 | 准确率: 0.75, 训练集/测试集损失值: 0.5222/0.6671\n",
      "    之前的权重 : ['1.6163', '0.7417', '-0.0708']\n",
      "    梯度*学习率: ['0.0018', '-0.0081', '-0.0093']\n",
      "    更新后权重 : ['1.6181', '0.7336', '-0.0800']\n",
      "*************** 当前循环次数: 50 | 准确率: 0.75, 训练集/测试集损失值: 0.5095/0.6518\n",
      "    之前的权重 : ['1.6181', '0.7336', '-0.0800']\n",
      "    梯度*学习率: ['0.0016', '-0.0081', '-0.0090']\n",
      "    更新后权重 : ['1.6197', '0.7255', '-0.0891']\n",
      "*************** 当前循环次数: 51 | 准确率: 0.75, 训练集/测试集损失值: 0.4973/0.6371\n",
      "    之前的权重 : ['1.6197', '0.7255', '-0.0891']\n",
      "    梯度*学习率: ['0.0014', '-0.0080', '-0.0088']\n",
      "    更新后权重 : ['1.6212', '0.7175', '-0.0978']\n",
      "*************** 当前循环次数: 52 | 准确率: 0.75, 训练集/测试集损失值: 0.4856/0.6230\n",
      "    之前的权重 : ['1.6212', '0.7175', '-0.0978']\n",
      "    梯度*学习率: ['0.0012', '-0.0080', '-0.0085']\n",
      "    更新后权重 : ['1.6224', '0.7095', '-0.1063']\n",
      "*************** 当前循环次数: 53 | 准确率: 0.75, 训练集/测试集损失值: 0.4744/0.6094\n",
      "    之前的权重 : ['1.6224', '0.7095', '-0.1063']\n",
      "    梯度*学习率: ['0.0011', '-0.0079', '-0.0083']\n",
      "    更新后权重 : ['1.6234', '0.7016', '-0.1146']\n",
      "*************** 当前循环次数: 54 | 准确率: 0.76, 训练集/测试集损失值: 0.4637/0.5964\n",
      "    之前的权重 : ['1.6234', '0.7016', '-0.1146']\n",
      "    梯度*学习率: ['0.0009', '-0.0079', '-0.0080']\n",
      "    更新后权重 : ['1.6243', '0.6937', '-0.1226']\n",
      "*************** 当前循环次数: 55 | 准确率: 0.76, 训练集/测试集损失值: 0.4535/0.5840\n",
      "    之前的权重 : ['1.6243', '0.6937', '-0.1226']\n",
      "    梯度*学习率: ['0.0007', '-0.0078', '-0.0078']\n",
      "    更新后权重 : ['1.6250', '0.6859', '-0.1304']\n",
      "*************** 当前循环次数: 56 | 准确率: 0.76, 训练集/测试集损失值: 0.4437/0.5720\n",
      "    之前的权重 : ['1.6250', '0.6859', '-0.1304']\n",
      "    梯度*学习率: ['0.0006', '-0.0077', '-0.0075']\n",
      "    更新后权重 : ['1.6256', '0.6781', '-0.1379']\n",
      "*************** 当前循环次数: 57 | 准确率: 0.77, 训练集/测试集损失值: 0.4343/0.5605\n",
      "    之前的权重 : ['1.6256', '0.6781', '-0.1379']\n",
      "    梯度*学习率: ['0.0004', '-0.0077', '-0.0073']\n",
      "    更新后权重 : ['1.6260', '0.6705', '-0.1452']\n",
      "*************** 当前循环次数: 58 | 准确率: 0.77, 训练集/测试集损失值: 0.4254/0.5495\n",
      "    之前的权重 : ['1.6260', '0.6705', '-0.1452']\n",
      "    梯度*学习率: ['0.0003', '-0.0076', '-0.0071']\n",
      "    更新后权重 : ['1.6263', '0.6628', '-0.1523']\n",
      "*************** 当前循环次数: 59 | 准确率: 0.77, 训练集/测试集损失值: 0.4168/0.5390\n",
      "    之前的权重 : ['1.6263', '0.6628', '-0.1523']\n",
      "    梯度*学习率: ['0.0001', '-0.0076', '-0.0069']\n",
      "    更新后权重 : ['1.6264', '0.6553', '-0.1592']\n",
      "*************** 当前循环次数: 60 | 准确率: 0.78, 训练集/测试集损失值: 0.4086/0.5289\n",
      "    之前的权重 : ['1.6264', '0.6553', '-0.1592']\n",
      "    梯度*学习率: ['-0.0000', '-0.0075', '-0.0067']\n",
      "    更新后权重 : ['1.6263', '0.6478', '-0.1658']\n",
      "*************** 当前循环次数: 61 | 准确率: 0.78, 训练集/测试集损失值: 0.4008/0.5193\n",
      "    之前的权重 : ['1.6263', '0.6478', '-0.1658']\n",
      "    梯度*学习率: ['-0.0002', '-0.0074', '-0.0064']\n",
      "    更新后权重 : ['1.6262', '0.6404', '-0.1723']\n",
      "*************** 当前循环次数: 62 | 准确率: 0.78, 训练集/测试集损失值: 0.3933/0.5100\n",
      "    之前的权重 : ['1.6262', '0.6404', '-0.1723']\n",
      "    梯度*学习率: ['-0.0003', '-0.0074', '-0.0062']\n",
      "    更新后权重 : ['1.6259', '0.6330', '-0.1785']\n",
      "*************** 当前循环次数: 63 | 准确率: 0.79, 训练集/测试集损失值: 0.3862/0.5011\n",
      "    之前的权重 : ['1.6259', '0.6330', '-0.1785']\n",
      "    梯度*学习率: ['-0.0004', '-0.0073', '-0.0060']\n",
      "    更新后权重 : ['1.6255', '0.6257', '-0.1846']\n",
      "*************** 当前循环次数: 64 | 准确率: 0.79, 训练集/测试集损失值: 0.3793/0.4926\n",
      "    之前的权重 : ['1.6255', '0.6257', '-0.1846']\n",
      "    梯度*学习率: ['-0.0005', '-0.0072', '-0.0058']\n",
      "    更新后权重 : ['1.6250', '0.6185', '-0.1904']\n",
      "*************** 当前循环次数: 65 | 准确率: 0.79, 训练集/测试集损失值: 0.3728/0.4845\n",
      "    之前的权重 : ['1.6250', '0.6185', '-0.1904']\n",
      "    梯度*学习率: ['-0.0006', '-0.0072', '-0.0056']\n",
      "    更新后权重 : ['1.6243', '0.6113', '-0.1960']\n",
      "*************** 当前循环次数: 66 | 准确率: 0.79, 训练集/测试集损失值: 0.3666/0.4767\n",
      "    之前的权重 : ['1.6243', '0.6113', '-0.1960']\n",
      "    梯度*学习率: ['-0.0007', '-0.0071', '-0.0055']\n",
      "    更新后权重 : ['1.6236', '0.6042', '-0.2015']\n",
      "*************** 当前循环次数: 67 | 准确率: 0.79, 训练集/测试集损失值: 0.3607/0.4693\n",
      "    之前的权重 : ['1.6236', '0.6042', '-0.2015']\n",
      "    梯度*学习率: ['-0.0008', '-0.0070', '-0.0053']\n",
      "    更新后权重 : ['1.6227', '0.5972', '-0.2067']\n",
      "*************** 当前循环次数: 68 | 准确率: 0.80, 训练集/测试集损失值: 0.3550/0.4621\n",
      "    之前的权重 : ['1.6227', '0.5972', '-0.2067']\n",
      "    梯度*学习率: ['-0.0009', '-0.0070', '-0.0051']\n",
      "    更新后权重 : ['1.6218', '0.5902', '-0.2118']\n",
      "*************** 当前循环次数: 69 | 准确率: 0.80, 训练集/测试集损失值: 0.3495/0.4553\n",
      "    之前的权重 : ['1.6218', '0.5902', '-0.2118']\n",
      "    梯度*学习率: ['-0.0010', '-0.0069', '-0.0049']\n",
      "    更新后权重 : ['1.6208', '0.5833', '-0.2168']\n",
      "*************** 当前循环次数: 70 | 准确率: 0.81, 训练集/测试集损失值: 0.3443/0.4487\n",
      "    之前的权重 : ['1.6208', '0.5833', '-0.2168']\n",
      "    梯度*学习率: ['-0.0011', '-0.0068', '-0.0047']\n",
      "    更新后权重 : ['1.6197', '0.5764', '-0.2215']\n",
      "*************** 当前循环次数: 71 | 准确率: 0.83, 训练集/测试集损失值: 0.3394/0.4424\n",
      "    之前的权重 : ['1.6197', '0.5764', '-0.2215']\n",
      "    梯度*学习率: ['-0.0012', '-0.0068', '-0.0046']\n",
      "    更新后权重 : ['1.6185', '0.5697', '-0.2261']\n",
      "*************** 当前循环次数: 72 | 准确率: 0.83, 训练集/测试集损失值: 0.3346/0.4363\n",
      "    之前的权重 : ['1.6185', '0.5697', '-0.2261']\n",
      "    梯度*学习率: ['-0.0013', '-0.0067', '-0.0044']\n",
      "    更新后权重 : ['1.6172', '0.5630', '-0.2305']\n",
      "*************** 当前循环次数: 73 | 准确率: 0.83, 训练集/测试集损失值: 0.3301/0.4305\n",
      "    之前的权重 : ['1.6172', '0.5630', '-0.2305']\n",
      "    梯度*学习率: ['-0.0014', '-0.0066', '-0.0043']\n",
      "    更新后权重 : ['1.6158', '0.5563', '-0.2348']\n",
      "*************** 当前循环次数: 74 | 准确率: 0.83, 训练集/测试集损失值: 0.3257/0.4250\n",
      "    之前的权重 : ['1.6158', '0.5563', '-0.2348']\n",
      "    梯度*学习率: ['-0.0014', '-0.0066', '-0.0041']\n",
      "    更新后权重 : ['1.6144', '0.5497', '-0.2389']\n",
      "*************** 当前循环次数: 75 | 准确率: 0.83, 训练集/测试集损失值: 0.3215/0.4196\n",
      "    之前的权重 : ['1.6144', '0.5497', '-0.2389']\n",
      "    梯度*学习率: ['-0.0015', '-0.0065', '-0.0040']\n",
      "    更新后权重 : ['1.6129', '0.5432', '-0.2428']\n",
      "*************** 当前循环次数: 76 | 准确率: 0.83, 训练集/测试集损失值: 0.3176/0.4145\n",
      "    之前的权重 : ['1.6129', '0.5432', '-0.2428']\n",
      "    梯度*学习率: ['-0.0016', '-0.0065', '-0.0038']\n",
      "    更新后权重 : ['1.6114', '0.5368', '-0.2467']\n",
      "*************** 当前循环次数: 77 | 准确率: 0.83, 训练集/测试集损失值: 0.3137/0.4095\n",
      "    之前的权重 : ['1.6114', '0.5368', '-0.2467']\n",
      "    梯度*学习率: ['-0.0016', '-0.0064', '-0.0037']\n",
      "    更新后权重 : ['1.6097', '0.5304', '-0.2503']\n",
      "*************** 当前循环次数: 78 | 准确率: 0.84, 训练集/测试集损失值: 0.3101/0.4048\n",
      "    之前的权重 : ['1.6097', '0.5304', '-0.2503']\n",
      "    梯度*学习率: ['-0.0017', '-0.0063', '-0.0035']\n",
      "    更新后权重 : ['1.6081', '0.5241', '-0.2539']\n",
      "*************** 当前循环次数: 79 | 准确率: 0.84, 训练集/测试集损失值: 0.3066/0.4002\n",
      "    之前的权重 : ['1.6081', '0.5241', '-0.2539']\n",
      "    梯度*学习率: ['-0.0017', '-0.0063', '-0.0034']\n",
      "    更新后权重 : ['1.6063', '0.5178', '-0.2573']\n",
      "*************** 当前循环次数: 80 | 准确率: 0.84, 训练集/测试集损失值: 0.3032/0.3958\n",
      "    之前的权重 : ['1.6063', '0.5178', '-0.2573']\n",
      "    梯度*学习率: ['-0.0018', '-0.0062', '-0.0033']\n",
      "    更新后权重 : ['1.6046', '0.5116', '-0.2606']\n",
      "*************** 当前循环次数: 81 | 准确率: 0.84, 训练集/测试集损失值: 0.3000/0.3916\n",
      "    之前的权重 : ['1.6046', '0.5116', '-0.2606']\n",
      "    梯度*学习率: ['-0.0018', '-0.0061', '-0.0032']\n",
      "    更新后权重 : ['1.6028', '0.5055', '-0.2637']\n",
      "*************** 当前循环次数: 82 | 准确率: 0.84, 训练集/测试集损失值: 0.2969/0.3875\n",
      "    之前的权重 : ['1.6028', '0.5055', '-0.2637']\n",
      "    梯度*学习率: ['-0.0019', '-0.0061', '-0.0030']\n",
      "    更新后权重 : ['1.6009', '0.4994', '-0.2668']\n",
      "*************** 当前循环次数: 83 | 准确率: 0.84, 训练集/测试集损失值: 0.2939/0.3836\n",
      "    之前的权重 : ['1.6009', '0.4994', '-0.2668']\n",
      "    梯度*学习率: ['-0.0019', '-0.0060', '-0.0029']\n",
      "    更新后权重 : ['1.5990', '0.4934', '-0.2697']\n",
      "*************** 当前循环次数: 84 | 准确率: 0.84, 训练集/测试集损失值: 0.2910/0.3798\n",
      "    之前的权重 : ['1.5990', '0.4934', '-0.2697']\n",
      "    梯度*学习率: ['-0.0019', '-0.0060', '-0.0028']\n",
      "    更新后权重 : ['1.5970', '0.4874', '-0.2725']\n",
      "*************** 当前循环次数: 85 | 准确率: 0.84, 训练集/测试集损失值: 0.2883/0.3761\n",
      "    之前的权重 : ['1.5970', '0.4874', '-0.2725']\n",
      "    梯度*学习率: ['-0.0020', '-0.0059', '-0.0027']\n",
      "    更新后权重 : ['1.5950', '0.4815', '-0.2752']\n",
      "*************** 当前循环次数: 86 | 准确率: 0.84, 训练集/测试集损失值: 0.2857/0.3726\n",
      "    之前的权重 : ['1.5950', '0.4815', '-0.2752']\n",
      "    梯度*学习率: ['-0.0020', '-0.0058', '-0.0026']\n",
      "    更新后权重 : ['1.5930', '0.4757', '-0.2778']\n",
      "*************** 当前循环次数: 87 | 准确率: 0.85, 训练集/测试集损失值: 0.2831/0.3692\n",
      "    之前的权重 : ['1.5930', '0.4757', '-0.2778']\n",
      "    梯度*学习率: ['-0.0021', '-0.0058', '-0.0025']\n",
      "    更新后权重 : ['1.5910', '0.4699', '-0.2803']\n",
      "*************** 当前循环次数: 88 | 准确率: 0.85, 训练集/测试集损失值: 0.2807/0.3659\n",
      "    之前的权重 : ['1.5910', '0.4699', '-0.2803']\n",
      "    梯度*学习率: ['-0.0021', '-0.0057', '-0.0024']\n",
      "    更新后权重 : ['1.5889', '0.4641', '-0.2827']\n",
      "*************** 当前循环次数: 89 | 准确率: 0.85, 训练集/测试集损失值: 0.2783/0.3627\n",
      "    之前的权重 : ['1.5889', '0.4641', '-0.2827']\n",
      "    梯度*学习率: ['-0.0021', '-0.0057', '-0.0023']\n",
      "    更新后权重 : ['1.5868', '0.4585', '-0.2849']\n",
      "*************** 当前循环次数: 90 | 准确率: 0.85, 训练集/测试集损失值: 0.2761/0.3596\n",
      "    之前的权重 : ['1.5868', '0.4585', '-0.2849']\n",
      "    梯度*学习率: ['-0.0021', '-0.0056', '-0.0022']\n",
      "    更新后权重 : ['1.5846', '0.4528', '-0.2871']\n",
      "*************** 当前循环次数: 91 | 准确率: 0.85, 训练集/测试集损失值: 0.2739/0.3566\n",
      "    之前的权重 : ['1.5846', '0.4528', '-0.2871']\n",
      "    梯度*学习率: ['-0.0022', '-0.0056', '-0.0021']\n",
      "    更新后权重 : ['1.5825', '0.4473', '-0.2892']\n",
      "*************** 当前循环次数: 92 | 准确率: 0.85, 训练集/测试集损失值: 0.2718/0.3537\n",
      "    之前的权重 : ['1.5825', '0.4473', '-0.2892']\n",
      "    梯度*学习率: ['-0.0022', '-0.0055', '-0.0020']\n",
      "    更新后权重 : ['1.5803', '0.4418', '-0.2913']\n",
      "*************** 当前循环次数: 93 | 准确率: 0.85, 训练集/测试集损失值: 0.2697/0.3509\n",
      "    之前的权重 : ['1.5803', '0.4418', '-0.2913']\n",
      "    梯度*学习率: ['-0.0022', '-0.0055', '-0.0019']\n",
      "    更新后权重 : ['1.5780', '0.4363', '-0.2932']\n",
      "*************** 当前循环次数: 94 | 准确率: 0.85, 训练集/测试集损失值: 0.2678/0.3482\n",
      "    之前的权重 : ['1.5780', '0.4363', '-0.2932']\n",
      "    梯度*学习率: ['-0.0022', '-0.0054', '-0.0018']\n",
      "    更新后权重 : ['1.5758', '0.4309', '-0.2950']\n",
      "*************** 当前循环次数: 95 | 准确率: 0.85, 训练集/测试集损失值: 0.2659/0.3455\n",
      "    之前的权重 : ['1.5758', '0.4309', '-0.2950']\n",
      "    梯度*学习率: ['-0.0023', '-0.0054', '-0.0018']\n",
      "    更新后权重 : ['1.5736', '0.4255', '-0.2968']\n",
      "*************** 当前循环次数: 96 | 准确率: 0.86, 训练集/测试集损失值: 0.2640/0.3430\n",
      "    之前的权重 : ['1.5736', '0.4255', '-0.2968']\n",
      "    梯度*学习率: ['-0.0023', '-0.0053', '-0.0017']\n",
      "    更新后权重 : ['1.5713', '0.4202', '-0.2985']\n",
      "*************** 当前循环次数: 97 | 准确率: 0.86, 训练集/测试集损失值: 0.2623/0.3405\n",
      "    之前的权重 : ['1.5713', '0.4202', '-0.2985']\n",
      "    梯度*学习率: ['-0.0023', '-0.0053', '-0.0016']\n",
      "    更新后权重 : ['1.5690', '0.4150', '-0.3001']\n",
      "*************** 当前循环次数: 98 | 准确率: 0.86, 训练集/测试集损失值: 0.2606/0.3380\n",
      "    之前的权重 : ['1.5690', '0.4150', '-0.3001']\n",
      "    梯度*学习率: ['-0.0023', '-0.0052', '-0.0015']\n",
      "    更新后权重 : ['1.5667', '0.4098', '-0.3016']\n",
      "*************** 当前循环次数: 99 | 准确率: 0.86, 训练集/测试集损失值: 0.2589/0.3357\n",
      "    之前的权重 : ['1.5667', '0.4098', '-0.3016']\n",
      "    梯度*学习率: ['-0.0023', '-0.0052', '-0.0015']\n",
      "    更新后权重 : ['1.5644', '0.4046', '-0.3030']\n",
      "*************** 当前循环次数: 100 | 准确率: 0.86, 训练集/测试集损失值: 0.2573/0.3334\n",
      "    之前的权重 : ['1.5644', '0.4046', '-0.3030']\n",
      "    梯度*学习率: ['-0.0023', '-0.0051', '-0.0014']\n",
      "    更新后权重 : ['1.5621', '0.3995', '-0.3044']\n",
      "*************** 当前循环次数: 101 | 准确率: 0.87, 训练集/测试集损失值: 0.2557/0.3312\n",
      "    之前的权重 : ['1.5621', '0.3995', '-0.3044']\n",
      "    梯度*学习率: ['-0.0023', '-0.0051', '-0.0013']\n",
      "    更新后权重 : ['1.5597', '0.3945', '-0.3058']\n",
      "*************** 当前循环次数: 102 | 准确率: 0.87, 训练集/测试集损失值: 0.2542/0.3290\n",
      "    之前的权重 : ['1.5597', '0.3945', '-0.3058']\n",
      "    梯度*学习率: ['-0.0024', '-0.0050', '-0.0013']\n",
      "    更新后权重 : ['1.5574', '0.3894', '-0.3070']\n"
     ]
    }
   ],
   "source": [
    "losses_train = []\n",
    "losses_test = []\n",
    "weights = None\n",
    "predictions = []\n",
    "\n",
    "for epoch in range(epoches):\n",
    "    # 开始训练\n",
    "    LR.train(True)\n",
    "    last_weight = get_round_weight(LR.linear.weight)\n",
    "    \n",
    "    ## 获取数据\n",
    "    inputs, labels = ds_train.feature, ds_train.label\n",
    "    optimizer.zero_grad()\n",
    "\n",
    "    ## 预测结果\n",
    "    outputs = LR(inputs)\n",
    "    outputs = outputs.squeeze(-1)\n",
    "\n",
    "    ## 计算损失\n",
    "    loss = loss_function(outputs, labels)\n",
    "\n",
    "    ## 计算权重梯度\n",
    "    loss.backward()\n",
    "    cur_grad = get_round_weight(LR.linear.weight.grad, lr=learning_rate)\n",
    "    \n",
    "    ## 改变权重\n",
    "    optimizer.step()\n",
    "    losses_train.append(loss.item())\n",
    "    cur_weight = get_round_weight(LR.linear.weight)\n",
    "\n",
    "    # 开始测试\n",
    "    LR.train(False)\n",
    "    total = 0\n",
    "    correct = 0\n",
    "\n",
    "    inputs, labels = ds_test.feature, ds_test.label\n",
    "    outputs = LR(inputs)\n",
    "    outputs = outputs.squeeze(-1)\n",
    "    loss = loss_function(outputs, labels)\n",
    "    total += labels.size(0)\n",
    "    correct += np.sum(torch.squeeze(outputs).round().detach().numpy() == labels.detach().numpy())\n",
    "\n",
    "    losses_test.append(loss.item())\n",
    "    predictions.append(outputs.detach().numpy())\n",
    "\n",
    "    # 提取模型权重\n",
    "    w1 = LR.linear.weight.detach().numpy().squeeze()\n",
    "    b1 = LR.linear.bias.detach().numpy()\n",
    "    merge = np.concatenate((w1, b1))\n",
    "    weights = merge if weights is None else np.vstack((weights, merge))\n",
    "    \n",
    "    print('*'*15,\n",
    "        '''当前循环次数: {:2d} | 准确率: {:.2f}, 训练集/测试集损失值: {:.4f}/{:.4f}\n",
    "    之前的权重 : {}\n",
    "    梯度*学习率: {}\n",
    "    更新后权重 : {}'''.format(epoch+3, correct/total, losses_train[-1], losses_test[-1], last_weight, cur_grad, cur_weight)\n",
    "    )"
   ]
  },
  {
   "cell_type": "markdown",
   "metadata": {},
   "source": [
    "# 三、结果分析"
   ]
  },
  {
   "cell_type": "code",
   "execution_count": 666,
   "metadata": {},
   "outputs": [
    {
     "data": {
      "image/png": "[encoded data removed]",
      "text/plain": [
       "<Figure size 720x648 with 2 Axes>"
      ]
     },
     "metadata": {
      "needs_background": "light"
     },
     "output_type": "display_data"
    }
   ],
   "source": [
    "# 可视化权重变化\n",
    "# FIXME\n",
    "cols = list(df_train.columns.values)[:-1]\n",
    "cols.append('bias')\n",
    "df_weights = pd.DataFrame(weights, columns=cols)\n",
    "kc, kerne_ycol, kerne_rund = df_weights.iloc[:, 2], df_weights.iloc[:, 3], df_weights.iloc[:, 9]\n",
    "\n",
    "def calculate_diff(weights):\n",
    "    result = []\n",
    "    n = weights.shape[0]\n",
    "    for i in range(1, n):\n",
    "        result.append(weights[i] - weights[i-1])\n",
    "    return result\n",
    "\n",
    "diff1, diff2, diff3 = calculate_diff(kc), calculate_diff(kerne_ycol), calculate_diff(kerne_rund)\n",
    "plt.figure(figsize=(10, 9))\n",
    "\n",
    "# 权重变化图\n",
    "plt.subplot(2, 1, 1)\n",
    "x = np.arange(0, epoches)\n",
    "plt.plot(x, kc, label='K/C')\n",
    "plt.plot(x, kerne_ycol, label='kerne_ycol')\n",
    "plt.plot(x, kerne_rund, label='kerne_rund')\n",
    "plt.title('Weight scatter plot')\n",
    "plt.xlabel('epoch')\n",
    "plt.ylabel('weight')\n",
    "plt.legend()\n",
    "\n",
    "# 权重差值变化图\n",
    "plt.subplot(2, 1, 2)\n",
    "x = np.arange(0,  len(diff1))\n",
    "plt.plot(x, diff1, label='K/C')\n",
    "plt.plot(x, diff2, label='kerne_ycol')\n",
    "plt.plot(x, diff3, label='kerne_rund')\n",
    "plt.title('Weight diff plot')\n",
    "plt.xlabel('epoch')\n",
    "plt.ylabel('weight_diff')\n",
    "plt.subplots_adjust(hspace=0.5)\n",
    "plt.legend()\n",
    "plt.show()"
   ]
  },
  {
   "cell_type": "markdown",
   "metadata": {},
   "source": [
    "由上图我们可以看出来\n",
    "- 随着训练的进行, 模型的权重在不断的变化;\n",
    "- 从第一张图可以看出, 核浆比的系数为正数, 所以核浆比和结果呈正相关, 也就是说核浆比越大, 该细胞为癌细胞概率越大, 核颜色, 核圆度反之,\n",
    "- 另外随着模型的训练, 模型会最逐渐的收敛, 权重的变化也越来越小, 到最后训练循环间权重的变化都趋近于 0. "
   ]
  },
  {
   "cell_type": "code",
   "execution_count": 667,
   "metadata": {},
   "outputs": [
    {
     "data": {
      "image/png": "[encoded data removed]",
      "text/plain": [
       "<Figure size 1080x720 with 4 Axes>"
      ]
     },
     "metadata": {
      "needs_background": "light"
     },
     "output_type": "display_data"
    }
   ],
   "source": [
    "# loss\n",
    "plt.figure(figsize=(15, 10))\n",
    "plt.subplot(2, 2, 1)\n",
    "x = np.arange(0, epoches)\n",
    "plt.plot(x, losses_train, label='train')\n",
    "plt.plot(x, losses_test, label='test')\n",
    "plt.title('LOSS')\n",
    "plt.xlabel('epoch')\n",
    "plt.ylabel('loss')\n",
    "plt.legend()\n",
    "\n",
    "# 计算 auc, 真阳率(true positive rate), 真阴率(true negative rate)\n",
    "from sklearn.metrics import confusion_matrix, roc_auc_score\n",
    "label_true = df_test['label'].to_numpy()\n",
    "aucs, tprs, tnrs = [], [], []\n",
    "theshold = 0.5\n",
    "\n",
    "for pred in predictions:\n",
    "    aucs.append(roc_auc_score(label_true, pred))\n",
    "    tmp = pred.copy()\n",
    "    tmp[tmp >= theshold] = 1\n",
    "    tmp[tmp < theshold] = 0\n",
    "    tn, fp, fn, tp = confusion_matrix(label_true, tmp).ravel()\n",
    "    tprs.append(tp/(tp+fn))\n",
    "    tnrs.append(tn/(tn+fp))\n",
    "\n",
    "# plt.figure(figsize=(10, 18))\n",
    "tittle = 'AUC TPR TNR'.split()\n",
    "x = np.arange(0, epoches)\n",
    "for index, matric in enumerate([aucs, tprs, tprs]):\n",
    "    plt.subplot(2, 2, index+2)\n",
    "    plt.plot(x, matric)\n",
    "    plt.title(tittle[index])\n",
    "    plt.xlabel('epoch')\n",
    "    plt.ylabel(tittle[index])\n",
    "plt.subplots_adjust(hspace=0.5)\n",
    "plt.show()"
   ]
  },
  {
   "cell_type": "markdown",
   "metadata": {},
   "source": [
    "由上图我们可以看出\n",
    "- 模型的损失值在不断的下降. 且训练集和测试集差距不大, 证明模型能能很好的学习;\n",
    "- 模型其他衡量指标也在随着模型训练的进行, 不断上升. AUC, 真阳率, 真阴率均超过 0.8, 证明模型能很好预测结果"
   ]
  },
  {
   "cell_type": "code",
   "execution_count": null,
   "metadata": {},
   "outputs": [],
   "source": []
  }
 ],
 "metadata": {
  "interpreter": {
   "hash": "bf3955dab283c8f8bf6f4ee4cf1e080c7100f27f8503bd99d998f370c95447ff"
  },
  "kernelspec": {
   "display_name": "cv_py36_test",
   "language": "python",
   "name": "python3"
  },
  "language_info": {
   "codemirror_mode": {
    "name": "ipython",
    "version": 3
   },
   "file_extension": ".py",
   "mimetype": "text/x-python",
   "name": "python",
   "nbconvert_exporter": "python",
   "pygments_lexer": "ipython3",
   "version": "3.8.8"
  },
  "orig_nbformat": 4
 },
 "nbformat": 4,
 "nbformat_minor": 2
}
