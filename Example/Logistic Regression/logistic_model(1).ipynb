{
 "cells": [
  {
   "cell_type": "code",
   "execution_count": 513,
   "metadata": {},
   "outputs": [
    {
     "data": {
      "text/plain": [
       "'/Users/panxingnan/QuickTourForDeepLearning/Example/Logistic Regression'"
      ]
     },
     "execution_count": 513,
     "metadata": {},
     "output_type": "execute_result"
    }
   ],
   "source": [
    "import torch\n",
    "from torch.utils.data import Dataset, DataLoader\n",
    "from torch import nn\n",
    "\n",
    "import pandas as pd\n",
    "import numpy as np\n",
    "from matplotlib import pyplot as plt\n",
    "import time\n",
    "from IPython.display import display, clear_output\n",
    "import os, sys\n",
    "os.getcwd()"
   ]
  },
  {
   "cell_type": "markdown",
   "metadata": {},
   "source": [
    "# 一、配置学习环境  \n",
    "\n",
    "![配置学习环境](./sources/0.procedure.png) "
   ]
  },
  {
   "cell_type": "markdown",
   "metadata": {},
   "source": [
    "## 1. 界定任务  \n",
    "\n",
    "应用领域：结构化数据  \n",
    "\n",
    "结果类型：2分类  \n",
    "\n",
    "![界定任务](./sources/1.task.png)  "
   ]
  },
  {
   "cell_type": "code",
   "execution_count": 514,
   "metadata": {},
   "outputs": [
    {
     "data": {
      "text/html": [
       "<div>\n",
       "<style scoped>\n",
       "    .dataframe tbody tr th:only-of-type {\n",
       "        vertical-align: middle;\n",
       "    }\n",
       "\n",
       "    .dataframe tbody tr th {\n",
       "        vertical-align: top;\n",
       "    }\n",
       "\n",
       "    .dataframe thead th {\n",
       "        text-align: right;\n",
       "    }\n",
       "</style>\n",
       "<table border=\"1\" class=\"dataframe\">\n",
       "  <thead>\n",
       "    <tr style=\"text-align: right;\">\n",
       "      <th></th>\n",
       "      <th>Kerne_A</th>\n",
       "      <th>Cyto_A</th>\n",
       "      <th>K/C</th>\n",
       "      <th>Kerne_Ycol</th>\n",
       "      <th>Cyto_Ycol</th>\n",
       "      <th>KerneShort</th>\n",
       "      <th>KerneLong</th>\n",
       "      <th>KerneElong</th>\n",
       "      <th>KerneRund</th>\n",
       "      <th>CytoShort</th>\n",
       "      <th>...</th>\n",
       "      <th>KernePeri</th>\n",
       "      <th>CytoPeri</th>\n",
       "      <th>KernePos</th>\n",
       "      <th>KerneMax</th>\n",
       "      <th>KerneMin</th>\n",
       "      <th>CytoMax</th>\n",
       "      <th>CytoMin</th>\n",
       "      <th>Class</th>\n",
       "      <th>ClassName1</th>\n",
       "      <th>ClassName2</th>\n",
       "    </tr>\n",
       "  </thead>\n",
       "  <tbody>\n",
       "    <tr>\n",
       "      <th>0</th>\n",
       "      <td>803.5</td>\n",
       "      <td>27804.1</td>\n",
       "      <td>0.0</td>\n",
       "      <td>85.9</td>\n",
       "      <td>192.5</td>\n",
       "      <td>29.8</td>\n",
       "      <td>34.8</td>\n",
       "      <td>0.9</td>\n",
       "      <td>0.8</td>\n",
       "      <td>181.6</td>\n",
       "      <td>...</td>\n",
       "      <td>101.4</td>\n",
       "      <td>673.5</td>\n",
       "      <td>0.2</td>\n",
       "      <td>44</td>\n",
       "      <td>37</td>\n",
       "      <td>649</td>\n",
       "      <td>655</td>\n",
       "      <td>1</td>\n",
       "      <td>normal_superficiel</td>\n",
       "      <td>normal</td>\n",
       "    </tr>\n",
       "    <tr>\n",
       "      <th>1</th>\n",
       "      <td>610.1</td>\n",
       "      <td>18067.9</td>\n",
       "      <td>0.0</td>\n",
       "      <td>81.5</td>\n",
       "      <td>153.4</td>\n",
       "      <td>25.3</td>\n",
       "      <td>30.8</td>\n",
       "      <td>0.8</td>\n",
       "      <td>0.8</td>\n",
       "      <td>171.1</td>\n",
       "      <td>...</td>\n",
       "      <td>85.2</td>\n",
       "      <td>597.0</td>\n",
       "      <td>0.0</td>\n",
       "      <td>36</td>\n",
       "      <td>26</td>\n",
       "      <td>502</td>\n",
       "      <td>504</td>\n",
       "      <td>1</td>\n",
       "      <td>normal_superficiel</td>\n",
       "      <td>normal</td>\n",
       "    </tr>\n",
       "    <tr>\n",
       "      <th>2</th>\n",
       "      <td>990.4</td>\n",
       "      <td>79029.9</td>\n",
       "      <td>0.0</td>\n",
       "      <td>77.8</td>\n",
       "      <td>118.0</td>\n",
       "      <td>33.6</td>\n",
       "      <td>38.3</td>\n",
       "      <td>0.9</td>\n",
       "      <td>0.9</td>\n",
       "      <td>290.3</td>\n",
       "      <td>...</td>\n",
       "      <td>111.8</td>\n",
       "      <td>1059.1</td>\n",
       "      <td>0.1</td>\n",
       "      <td>53</td>\n",
       "      <td>37</td>\n",
       "      <td>2267</td>\n",
       "      <td>2500</td>\n",
       "      <td>1</td>\n",
       "      <td>normal_superficiel</td>\n",
       "      <td>normal</td>\n",
       "    </tr>\n",
       "  </tbody>\n",
       "</table>\n",
       "<p>3 rows × 23 columns</p>\n",
       "</div>"
      ],
      "text/plain": [
       "   Kerne_A   Cyto_A  K/C  Kerne_Ycol  Cyto_Ycol  KerneShort  KerneLong  \\\n",
       "0    803.5  27804.1  0.0        85.9      192.5        29.8       34.8   \n",
       "1    610.1  18067.9  0.0        81.5      153.4        25.3       30.8   \n",
       "2    990.4  79029.9  0.0        77.8      118.0        33.6       38.3   \n",
       "\n",
       "   KerneElong  KerneRund  CytoShort  ...  KernePeri  CytoPeri  KernePos  \\\n",
       "0         0.9        0.8      181.6  ...      101.4     673.5       0.2   \n",
       "1         0.8        0.8      171.1  ...       85.2     597.0       0.0   \n",
       "2         0.9        0.9      290.3  ...      111.8    1059.1       0.1   \n",
       "\n",
       "   KerneMax  KerneMin  CytoMax  CytoMin  Class          ClassName1  ClassName2  \n",
       "0        44        37      649      655      1  normal_superficiel      normal  \n",
       "1        36        26      502      504      1  normal_superficiel      normal  \n",
       "2        53        37     2267     2500      1  normal_superficiel      normal  \n",
       "\n",
       "[3 rows x 23 columns]"
      ]
     },
     "execution_count": 514,
     "metadata": {},
     "output_type": "execute_result"
    }
   ],
   "source": [
    "path_data = './data/new_database_results.xls'\n",
    "data = pd.read_excel(path_data, sheet_name='results')\n",
    "data.iloc[0:3, 1:].round(1)"
   ]
  },
  {
   "cell_type": "markdown",
   "metadata": {},
   "source": [
    "Kerne_A：核面积  \n",
    "Cyto_A：浆面积  \n",
    "K/C：核浆比  \n",
    "Kerne_Ycol：核颜色  \n",
    "Cyto_Ycol：浆颜色  \n",
    "KerneShort：核短轴  \n",
    "KerneLong：核长轴  \n",
    "KerneRund：核圆度  \n",
    "CytoShort：浆短轴  \n",
    "CytoLong：浆长轴  \n",
    "CytoRund：浆圆度  "
   ]
  },
  {
   "cell_type": "markdown",
   "metadata": {},
   "source": [
    "## 2. 准备数据\n",
    "\n",
    "数据标注：强监督\n",
    "\n",
    "![准备数据](./sources/2.data1.png)  \n",
    "  \n",
    "  \n",
    "数据集：只生成训练集和测试集  \n",
    "\n",
    "![准备数据](./sources/2.data2.png)  "
   ]
  },
  {
   "cell_type": "markdown",
   "metadata": {},
   "source": [
    "### 2-1. 采集数据"
   ]
  },
  {
   "cell_type": "markdown",
   "metadata": {},
   "source": [
    "### 2-2. 检查、清洗数据  \n",
    "\n",
    "- 唯一性  \n",
    "\n",
    "- 一致性  \n",
    "\n",
    "- 完整性  \n",
    "\n",
    "- 准确性  "
   ]
  },
  {
   "cell_type": "markdown",
   "metadata": {},
   "source": [
    "### 2-3. 预处理数据  \n",
    "\n",
    "- 去掉不必要的列  \n",
    "\n",
    "- 生成分类标签  \n",
    "\n",
    "- 将特征归一化  \n"
   ]
  },
  {
   "cell_type": "code",
   "execution_count": 515,
   "metadata": {},
   "outputs": [],
   "source": [
    "# 去掉不必要的列\n",
    "df = data.drop(['ID', 'ClassName1', 'ClassName2'], axis=1)"
   ]
  },
  {
   "cell_type": "code",
   "execution_count": 516,
   "metadata": {},
   "outputs": [
    {
     "name": "stdout",
     "output_type": "stream",
     "text": [
      "2分类标签\n"
     ]
    },
    {
     "data": {
      "text/html": [
       "<div>\n",
       "<style scoped>\n",
       "    .dataframe tbody tr th:only-of-type {\n",
       "        vertical-align: middle;\n",
       "    }\n",
       "\n",
       "    .dataframe tbody tr th {\n",
       "        vertical-align: top;\n",
       "    }\n",
       "\n",
       "    .dataframe thead th {\n",
       "        text-align: right;\n",
       "    }\n",
       "</style>\n",
       "<table border=\"1\" class=\"dataframe\">\n",
       "  <thead>\n",
       "    <tr style=\"text-align: right;\">\n",
       "      <th></th>\n",
       "      <th>Class</th>\n",
       "      <th>label</th>\n",
       "    </tr>\n",
       "  </thead>\n",
       "  <tbody>\n",
       "    <tr>\n",
       "      <th>0</th>\n",
       "      <td>1</td>\n",
       "      <td>0</td>\n",
       "    </tr>\n",
       "    <tr>\n",
       "      <th>74</th>\n",
       "      <td>2</td>\n",
       "      <td>0</td>\n",
       "    </tr>\n",
       "    <tr>\n",
       "      <th>144</th>\n",
       "      <td>3</td>\n",
       "      <td>0</td>\n",
       "    </tr>\n",
       "    <tr>\n",
       "      <th>242</th>\n",
       "      <td>4</td>\n",
       "      <td>1</td>\n",
       "    </tr>\n",
       "    <tr>\n",
       "      <th>424</th>\n",
       "      <td>5</td>\n",
       "      <td>1</td>\n",
       "    </tr>\n",
       "    <tr>\n",
       "      <th>570</th>\n",
       "      <td>6</td>\n",
       "      <td>1</td>\n",
       "    </tr>\n",
       "    <tr>\n",
       "      <th>767</th>\n",
       "      <td>7</td>\n",
       "      <td>1</td>\n",
       "    </tr>\n",
       "  </tbody>\n",
       "</table>\n",
       "</div>"
      ],
      "text/plain": [
       "     Class label\n",
       "0        1     0\n",
       "74       2     0\n",
       "144      3     0\n",
       "242      4     1\n",
       "424      5     1\n",
       "570      6     1\n",
       "767      7     1"
      ]
     },
     "execution_count": 516,
     "metadata": {},
     "output_type": "execute_result"
    }
   ],
   "source": [
    "# 生成分类标签\n",
    "bins = [0, 3, 7]\n",
    "df['label'] = pd.cut(df['Class'], bins=bins, labels=[0, 1])\n",
    "print('2分类标签')\n",
    "df[['Class', 'label']].drop_duplicates()"
   ]
  },
  {
   "cell_type": "code",
   "execution_count": 517,
   "metadata": {},
   "outputs": [
    {
     "name": "stdout",
     "output_type": "stream",
     "text": [
      "归一化前数值\n"
     ]
    },
    {
     "data": {
      "text/html": [
       "<div>\n",
       "<style scoped>\n",
       "    .dataframe tbody tr th:only-of-type {\n",
       "        vertical-align: middle;\n",
       "    }\n",
       "\n",
       "    .dataframe tbody tr th {\n",
       "        vertical-align: top;\n",
       "    }\n",
       "\n",
       "    .dataframe thead th {\n",
       "        text-align: right;\n",
       "    }\n",
       "</style>\n",
       "<table border=\"1\" class=\"dataframe\">\n",
       "  <thead>\n",
       "    <tr style=\"text-align: right;\">\n",
       "      <th></th>\n",
       "      <th>Kerne_A</th>\n",
       "      <th>Cyto_A</th>\n",
       "      <th>K/C</th>\n",
       "      <th>Kerne_Ycol</th>\n",
       "      <th>Cyto_Ycol</th>\n",
       "      <th>KerneShort</th>\n",
       "      <th>KerneLong</th>\n",
       "      <th>KerneElong</th>\n",
       "      <th>KerneRund</th>\n",
       "      <th>CytoShort</th>\n",
       "      <th>CytoLong</th>\n",
       "      <th>CytoElong</th>\n",
       "      <th>CytoRund</th>\n",
       "      <th>KernePeri</th>\n",
       "      <th>CytoPeri</th>\n",
       "      <th>KernePos</th>\n",
       "      <th>KerneMax</th>\n",
       "      <th>KerneMin</th>\n",
       "      <th>CytoMax</th>\n",
       "      <th>CytoMin</th>\n",
       "    </tr>\n",
       "  </thead>\n",
       "  <tbody>\n",
       "    <tr>\n",
       "      <th>0</th>\n",
       "      <td>803.500</td>\n",
       "      <td>27804.125</td>\n",
       "      <td>0.028087</td>\n",
       "      <td>85.866083</td>\n",
       "      <td>192.524631</td>\n",
       "      <td>29.832191</td>\n",
       "      <td>34.828150</td>\n",
       "      <td>0.856554</td>\n",
       "      <td>0.843403</td>\n",
       "      <td>181.574886</td>\n",
       "      <td>242.043385</td>\n",
       "      <td>0.750175</td>\n",
       "      <td>0.604273</td>\n",
       "      <td>101.375</td>\n",
       "      <td>673.500</td>\n",
       "      <td>0.230067</td>\n",
       "      <td>44</td>\n",
       "      <td>37</td>\n",
       "      <td>649</td>\n",
       "      <td>655</td>\n",
       "    </tr>\n",
       "    <tr>\n",
       "      <th>1</th>\n",
       "      <td>610.125</td>\n",
       "      <td>18067.875</td>\n",
       "      <td>0.032665</td>\n",
       "      <td>81.531353</td>\n",
       "      <td>153.439838</td>\n",
       "      <td>25.319871</td>\n",
       "      <td>30.805844</td>\n",
       "      <td>0.821918</td>\n",
       "      <td>0.818583</td>\n",
       "      <td>171.108766</td>\n",
       "      <td>197.570241</td>\n",
       "      <td>0.866065</td>\n",
       "      <td>0.589351</td>\n",
       "      <td>85.250</td>\n",
       "      <td>597.000</td>\n",
       "      <td>0.043701</td>\n",
       "      <td>36</td>\n",
       "      <td>26</td>\n",
       "      <td>502</td>\n",
       "      <td>504</td>\n",
       "    </tr>\n",
       "    <tr>\n",
       "      <th>2</th>\n",
       "      <td>990.375</td>\n",
       "      <td>79029.875</td>\n",
       "      <td>0.012377</td>\n",
       "      <td>77.843655</td>\n",
       "      <td>118.001177</td>\n",
       "      <td>33.552901</td>\n",
       "      <td>38.327536</td>\n",
       "      <td>0.875425</td>\n",
       "      <td>0.858397</td>\n",
       "      <td>290.250246</td>\n",
       "      <td>355.803316</td>\n",
       "      <td>0.815760</td>\n",
       "      <td>0.794843</td>\n",
       "      <td>111.750</td>\n",
       "      <td>1059.125</td>\n",
       "      <td>0.141150</td>\n",
       "      <td>53</td>\n",
       "      <td>37</td>\n",
       "      <td>2267</td>\n",
       "      <td>2500</td>\n",
       "    </tr>\n",
       "  </tbody>\n",
       "</table>\n",
       "</div>"
      ],
      "text/plain": [
       "   Kerne_A     Cyto_A       K/C  Kerne_Ycol   Cyto_Ycol  KerneShort  \\\n",
       "0  803.500  27804.125  0.028087   85.866083  192.524631   29.832191   \n",
       "1  610.125  18067.875  0.032665   81.531353  153.439838   25.319871   \n",
       "2  990.375  79029.875  0.012377   77.843655  118.001177   33.552901   \n",
       "\n",
       "   KerneLong  KerneElong  KerneRund   CytoShort    CytoLong  CytoElong  \\\n",
       "0  34.828150    0.856554   0.843403  181.574886  242.043385   0.750175   \n",
       "1  30.805844    0.821918   0.818583  171.108766  197.570241   0.866065   \n",
       "2  38.327536    0.875425   0.858397  290.250246  355.803316   0.815760   \n",
       "\n",
       "   CytoRund  KernePeri  CytoPeri  KernePos  KerneMax  KerneMin  CytoMax  \\\n",
       "0  0.604273    101.375   673.500  0.230067        44        37      649   \n",
       "1  0.589351     85.250   597.000  0.043701        36        26      502   \n",
       "2  0.794843    111.750  1059.125  0.141150        53        37     2267   \n",
       "\n",
       "   CytoMin  \n",
       "0      655  \n",
       "1      504  \n",
       "2     2500  "
      ]
     },
     "execution_count": 517,
     "metadata": {},
     "output_type": "execute_result"
    }
   ],
   "source": [
    "# 将特征归一化\n",
    "label = df['label']\n",
    "feature = df.drop(['Class', 'label'], axis=1)\n",
    "\n",
    "print('归一化前数值')\n",
    "feature.head(3)"
   ]
  },
  {
   "cell_type": "code",
   "execution_count": 518,
   "metadata": {},
   "outputs": [
    {
     "name": "stdout",
     "output_type": "stream",
     "text": [
      "归一化后数值\n"
     ]
    },
    {
     "data": {
      "text/html": [
       "<div>\n",
       "<style scoped>\n",
       "    .dataframe tbody tr th:only-of-type {\n",
       "        vertical-align: middle;\n",
       "    }\n",
       "\n",
       "    .dataframe tbody tr th {\n",
       "        vertical-align: top;\n",
       "    }\n",
       "\n",
       "    .dataframe thead th {\n",
       "        text-align: right;\n",
       "    }\n",
       "</style>\n",
       "<table border=\"1\" class=\"dataframe\">\n",
       "  <thead>\n",
       "    <tr style=\"text-align: right;\">\n",
       "      <th></th>\n",
       "      <th>Kerne_A</th>\n",
       "      <th>Cyto_A</th>\n",
       "      <th>K/C</th>\n",
       "      <th>Kerne_Ycol</th>\n",
       "      <th>Cyto_Ycol</th>\n",
       "      <th>KerneShort</th>\n",
       "      <th>KerneLong</th>\n",
       "      <th>KerneElong</th>\n",
       "      <th>KerneRund</th>\n",
       "      <th>CytoShort</th>\n",
       "      <th>CytoLong</th>\n",
       "      <th>CytoElong</th>\n",
       "      <th>CytoRund</th>\n",
       "      <th>KernePeri</th>\n",
       "      <th>CytoPeri</th>\n",
       "      <th>KernePos</th>\n",
       "      <th>KerneMax</th>\n",
       "      <th>KerneMin</th>\n",
       "      <th>CytoMax</th>\n",
       "      <th>CytoMin</th>\n",
       "    </tr>\n",
       "  </thead>\n",
       "  <tbody>\n",
       "    <tr>\n",
       "      <th>0</th>\n",
       "      <td>-1.164601</td>\n",
       "      <td>0.675432</td>\n",
       "      <td>-1.539731</td>\n",
       "      <td>-0.212305</td>\n",
       "      <td>2.125615</td>\n",
       "      <td>-1.208496</td>\n",
       "      <td>-1.564634</td>\n",
       "      <td>0.678200</td>\n",
       "      <td>0.891219</td>\n",
       "      <td>0.882348</td>\n",
       "      <td>0.781148</td>\n",
       "      <td>0.328428</td>\n",
       "      <td>1.291274</td>\n",
       "      <td>-1.471815</td>\n",
       "      <td>0.667500</td>\n",
       "      <td>-0.268492</td>\n",
       "      <td>-1.111085</td>\n",
       "      <td>-0.905485</td>\n",
       "      <td>0.366248</td>\n",
       "      <td>0.372045</td>\n",
       "    </tr>\n",
       "    <tr>\n",
       "      <th>1</th>\n",
       "      <td>-1.267560</td>\n",
       "      <td>0.197172</td>\n",
       "      <td>-1.518272</td>\n",
       "      <td>-0.411325</td>\n",
       "      <td>0.563027</td>\n",
       "      <td>-1.449092</td>\n",
       "      <td>-1.737695</td>\n",
       "      <td>0.456926</td>\n",
       "      <td>0.730725</td>\n",
       "      <td>0.736792</td>\n",
       "      <td>0.288009</td>\n",
       "      <td>0.981822</td>\n",
       "      <td>1.204862</td>\n",
       "      <td>-1.709653</td>\n",
       "      <td>0.389174</td>\n",
       "      <td>-1.397596</td>\n",
       "      <td>-1.250199</td>\n",
       "      <td>-1.106092</td>\n",
       "      <td>0.134320</td>\n",
       "      <td>0.129158</td>\n",
       "    </tr>\n",
       "    <tr>\n",
       "      <th>2</th>\n",
       "      <td>-1.065103</td>\n",
       "      <td>3.191719</td>\n",
       "      <td>-1.613363</td>\n",
       "      <td>-0.580639</td>\n",
       "      <td>-0.853791</td>\n",
       "      <td>-1.010109</td>\n",
       "      <td>-1.414071</td>\n",
       "      <td>0.798760</td>\n",
       "      <td>0.988172</td>\n",
       "      <td>2.393732</td>\n",
       "      <td>2.042572</td>\n",
       "      <td>0.698200</td>\n",
       "      <td>2.394885</td>\n",
       "      <td>-1.318787</td>\n",
       "      <td>2.070500</td>\n",
       "      <td>-0.807197</td>\n",
       "      <td>-0.954583</td>\n",
       "      <td>-0.905485</td>\n",
       "      <td>2.919033</td>\n",
       "      <td>3.339759</td>\n",
       "    </tr>\n",
       "  </tbody>\n",
       "</table>\n",
       "</div>"
      ],
      "text/plain": [
       "    Kerne_A    Cyto_A       K/C  Kerne_Ycol  Cyto_Ycol  KerneShort  KerneLong  \\\n",
       "0 -1.164601  0.675432 -1.539731   -0.212305   2.125615   -1.208496  -1.564634   \n",
       "1 -1.267560  0.197172 -1.518272   -0.411325   0.563027   -1.449092  -1.737695   \n",
       "2 -1.065103  3.191719 -1.613363   -0.580639  -0.853791   -1.010109  -1.414071   \n",
       "\n",
       "   KerneElong  KerneRund  CytoShort  CytoLong  CytoElong  CytoRund  KernePeri  \\\n",
       "0    0.678200   0.891219   0.882348  0.781148   0.328428  1.291274  -1.471815   \n",
       "1    0.456926   0.730725   0.736792  0.288009   0.981822  1.204862  -1.709653   \n",
       "2    0.798760   0.988172   2.393732  2.042572   0.698200  2.394885  -1.318787   \n",
       "\n",
       "   CytoPeri  KernePos  KerneMax  KerneMin   CytoMax   CytoMin  \n",
       "0  0.667500 -0.268492 -1.111085 -0.905485  0.366248  0.372045  \n",
       "1  0.389174 -1.397596 -1.250199 -1.106092  0.134320  0.129158  \n",
       "2  2.070500 -0.807197 -0.954583 -0.905485  2.919033  3.339759  "
      ]
     },
     "execution_count": 518,
     "metadata": {},
     "output_type": "execute_result"
    }
   ],
   "source": [
    "feature = (feature - feature.mean())/feature.std()\n",
    "print('归一化后数值')\n",
    "feature.head(3)"
   ]
  },
  {
   "cell_type": "markdown",
   "metadata": {},
   "source": [
    "### 2-4. 划分训练集和测试集"
   ]
  },
  {
   "cell_type": "code",
   "execution_count": 519,
   "metadata": {},
   "outputs": [
    {
     "name": "stdout",
     "output_type": "stream",
     "text": [
      "训练集占80%数据\n",
      "1    538\n",
      "0    196\n",
      "Name: label, dtype: int64\n",
      "测试集占20%数据\n",
      "1    137\n",
      "0     46\n",
      "Name: label, dtype: int64\n"
     ]
    }
   ],
   "source": [
    "feature['label'] = label\n",
    "df_preprocess = feature\n",
    "\n",
    "df_train = df_preprocess.sample(frac=0.8, axis=0)\n",
    "df_test = df_preprocess[~df_preprocess.index.isin(df_train.index)]\n",
    "\n",
    "print('训练集占80%数据')\n",
    "print(df_train['label'].value_counts())\n",
    "print('测试集占20%数据')\n",
    "print(df_test['label'].value_counts())"
   ]
  },
  {
   "cell_type": "code",
   "execution_count": 520,
   "metadata": {},
   "outputs": [],
   "source": [
    "class MyDataset(Dataset):\n",
    "    def __init__(self, df:pd.DataFrame, shuffule=False):\n",
    "        feature = df.iloc[:, 0:(-1)].values\n",
    "        label = df.iloc[:, -1].values\n",
    "\n",
    "        self.feature = torch.tensor(feature, dtype=torch.float32)\n",
    "        self.label = torch.tensor(label, dtype=torch.float32)\n",
    "        self.shuffle = shuffule\n",
    "    \n",
    "    def __len__(self):\n",
    "        return len(self.feature)\n",
    "    \n",
    "    def __getitem__(self, index):\n",
    "        return self.feature[index], self.label[index]\n",
    "\n",
    "ds_train = MyDataset(df_train)\n",
    "ds_test = MyDataset(df_test)"
   ]
  },
  {
   "cell_type": "markdown",
   "metadata": {},
   "source": [
    "## 3. 定义模型结构  \n",
    "\n",
    "模型：Logistics（只有一个神经元的神经网络）  \n",
    "\n",
    "![定义模型结构](./sources/3.model.png) "
   ]
  },
  {
   "cell_type": "code",
   "execution_count": 521,
   "metadata": {},
   "outputs": [],
   "source": [
    "class LogisticRegression(nn.Module):\n",
    "    def __init__(self, input_dim):\n",
    "        super(LogisticRegression, self).__init__()\n",
    "\n",
    "        # 线性层\n",
    "        self.linear = nn.Linear(input_dim, 1)\n",
    "        \n",
    "        # 激活函数\n",
    "        self.activation_function = nn.Sigmoid()\n",
    "\n",
    "    def forward(self, x):\n",
    "        x = self.linear(x)\n",
    "        x = self.activation_function(x)\n",
    "        return x\n",
    "\n",
    "LR = LogisticRegression(df_train.shape[1] - 1)"
   ]
  },
  {
   "cell_type": "markdown",
   "metadata": {},
   "source": [
    "## 4. 选择目标函数\n",
    "\n",
    "目标函数：交叉熵损失  \n",
    "\n",
    "![选择目标函数](./sources/4.obj_function.png) "
   ]
  },
  {
   "cell_type": "code",
   "execution_count": 522,
   "metadata": {},
   "outputs": [],
   "source": [
    "loss_function = torch.nn.BCELoss()"
   ]
  },
  {
   "cell_type": "markdown",
   "metadata": {},
   "source": [
    "## 5. 选择优化器\n",
    "\n",
    "优化器：随机梯度下降  \n",
    "\n",
    "学习率：0.01  \n",
    "\n",
    "![选择优化器](./sources/5.optimization.png) "
   ]
  },
  {
   "cell_type": "code",
   "execution_count": 523,
   "metadata": {},
   "outputs": [],
   "source": [
    "learning_rate=0.1\n",
    "optimizer = torch.optim.SGD(LR.parameters(), lr=learning_rate)"
   ]
  },
  {
   "cell_type": "markdown",
   "metadata": {},
   "source": [
    "## 6. 设置环境参数"
   ]
  },
  {
   "cell_type": "code",
   "execution_count": 524,
   "metadata": {},
   "outputs": [],
   "source": [
    "epoches = 100"
   ]
  },
  {
   "cell_type": "markdown",
   "metadata": {},
   "source": [
    "# 二、学习过程\n",
    "\n",
    "![学习过程](./sources/0.procedure.png) "
   ]
  },
  {
   "cell_type": "markdown",
   "metadata": {},
   "source": [
    "## 1. 第一个循环"
   ]
  },
  {
   "cell_type": "markdown",
   "metadata": {},
   "source": [
    "### a. 初始化权重"
   ]
  },
  {
   "cell_type": "code",
   "execution_count": 525,
   "metadata": {},
   "outputs": [
    {
     "data": {
      "text/plain": [
       "(Parameter containing:\n",
       " tensor([[1., 1., 1., 1., 1., 1., 1., 1., 1., 1., 1., 1., 1., 1., 1., 1., 1., 1.,\n",
       "          1., 1.]], requires_grad=True),\n",
       " Parameter containing:\n",
       " tensor([0.], requires_grad=True))"
      ]
     },
     "execution_count": 525,
     "metadata": {},
     "output_type": "execute_result"
    }
   ],
   "source": [
    "# 将权重全部初始化为 1, 将偏置初始化为 0\n",
    "nn.init.constant_(LR.linear.weight, 1)\n",
    "nn.init.constant_(LR.linear.bias, 0)\n",
    "LR.linear.weight, LR.linear.bias"
   ]
  },
  {
   "cell_type": "markdown",
   "metadata": {},
   "source": [
    "### b. 预测结果"
   ]
  },
  {
   "cell_type": "code",
   "execution_count": 526,
   "metadata": {},
   "outputs": [
    {
     "data": {
      "text/plain": [
       "tensor([[3.1194e-05],\n",
       "        [1.0000e+00],\n",
       "        [9.9999e-01],\n",
       "        [2.0948e-05],\n",
       "        [9.9687e-01],\n",
       "        [2.0407e-01],\n",
       "        [5.3184e-04],\n",
       "        [1.2894e-03],\n",
       "        [2.2070e-03],\n",
       "        [1.1469e-01]], grad_fn=<SliceBackward>)"
      ]
     },
     "execution_count": 526,
     "metadata": {},
     "output_type": "execute_result"
    }
   ],
   "source": [
    "LR.train(True)\n",
    "outputs = LR(ds_train.feature)\n",
    "# 打印前十个结果\n",
    "outputs[:10]"
   ]
  },
  {
   "cell_type": "markdown",
   "metadata": {},
   "source": [
    "### c. 计算损失"
   ]
  },
  {
   "cell_type": "code",
   "execution_count": 527,
   "metadata": {},
   "outputs": [
    {
     "data": {
      "text/plain": [
       "tensor(3.6607, grad_fn=<BinaryCrossEntropyBackward>)"
      ]
     },
     "execution_count": 527,
     "metadata": {},
     "output_type": "execute_result"
    }
   ],
   "source": [
    "loss = loss_function(outputs.squeeze(), ds_train.label)\n",
    "loss"
   ]
  },
  {
   "cell_type": "markdown",
   "metadata": {},
   "source": [
    "### d. 计算权重梯度"
   ]
  },
  {
   "cell_type": "code",
   "execution_count": 528,
   "metadata": {},
   "outputs": [
    {
     "data": {
      "text/plain": [
       "tensor([[-0.0022,  0.4229, -0.3677, -0.0758,  0.0479, -0.0034, -0.1348,  0.2230,\n",
       "          0.2515,  0.4493,  0.4237,  0.1193,  0.3347, -0.0941,  0.4412, -0.0240,\n",
       "         -0.0066,  0.0032,  0.4131,  0.4122]])"
      ]
     },
     "execution_count": 528,
     "metadata": {},
     "output_type": "execute_result"
    }
   ],
   "source": [
    "optimizer.zero_grad()\n",
    "loss.backward()\n",
    "LR.linear.weight.grad"
   ]
  },
  {
   "cell_type": "markdown",
   "metadata": {},
   "source": [
    "## 2. 第二个循环"
   ]
  },
  {
   "cell_type": "markdown",
   "metadata": {},
   "source": [
    "### a. 改变权重"
   ]
  },
  {
   "cell_type": "code",
   "execution_count": 529,
   "metadata": {},
   "outputs": [
    {
     "data": {
      "text/plain": [
       "(Parameter containing:\n",
       " tensor([[1.0002, 0.9577, 1.0368, 1.0076, 0.9952, 1.0003, 1.0135, 0.9777, 0.9749,\n",
       "          0.9551, 0.9576, 0.9881, 0.9665, 1.0094, 0.9559, 1.0024, 1.0007, 0.9997,\n",
       "          0.9587, 0.9588]], requires_grad=True),\n",
       " Parameter containing:\n",
       " tensor([0.0269], requires_grad=True))"
      ]
     },
     "execution_count": 529,
     "metadata": {},
     "output_type": "execute_result"
    }
   ],
   "source": [
    "optimizer.step()\n",
    "LR.linear.weight, LR.linear.bias"
   ]
  },
  {
   "cell_type": "code",
   "execution_count": 530,
   "metadata": {},
   "outputs": [
    {
     "data": {
      "text/plain": [
       "tensor([[1.0002, 0.9577, 1.0368, 1.0076, 0.9952, 1.0003, 1.0135, 0.9777, 0.9749,\n",
       "         0.9551, 0.9576, 0.9881, 0.9665, 1.0094, 0.9559, 1.0024, 1.0007, 0.9997,\n",
       "         0.9587, 0.9588]])"
      ]
     },
     "execution_count": 530,
     "metadata": {},
     "output_type": "execute_result"
    }
   ],
   "source": [
    "ori_weight = torch.ones((1, 20))\n",
    "ori_weight - learning_rate * LR.linear.weight.grad"
   ]
  },
  {
   "cell_type": "markdown",
   "metadata": {},
   "source": [
    "### b. 预测结果"
   ]
  },
  {
   "cell_type": "code",
   "execution_count": 531,
   "metadata": {},
   "outputs": [
    {
     "data": {
      "text/plain": [
       "tensor([[4.1683e-05],\n",
       "        [1.0000e+00],\n",
       "        [9.9999e-01],\n",
       "        [3.0399e-05],\n",
       "        [9.9509e-01],\n",
       "        [2.1370e-01],\n",
       "        [3.8930e-04],\n",
       "        [1.3893e-03],\n",
       "        [2.8265e-03],\n",
       "        [1.2843e-01]], grad_fn=<SliceBackward>)"
      ]
     },
     "execution_count": 531,
     "metadata": {},
     "output_type": "execute_result"
    }
   ],
   "source": [
    "LR.train(True)\n",
    "outputs = LR(ds_train.feature)\n",
    "outputs[:10]"
   ]
  },
  {
   "cell_type": "markdown",
   "metadata": {},
   "source": [
    "### c. 计算损失"
   ]
  },
  {
   "cell_type": "code",
   "execution_count": 532,
   "metadata": {},
   "outputs": [
    {
     "data": {
      "text/plain": [
       "tensor(3.2745, grad_fn=<BinaryCrossEntropyBackward>)"
      ]
     },
     "execution_count": 532,
     "metadata": {},
     "output_type": "execute_result"
    }
   ],
   "source": [
    "loss = loss_function(outputs.squeeze(), ds_train.label)\n",
    "loss"
   ]
  },
  {
   "cell_type": "markdown",
   "metadata": {},
   "source": [
    "### d. 计算权重梯度"
   ]
  },
  {
   "cell_type": "code",
   "execution_count": 533,
   "metadata": {},
   "outputs": [
    {
     "data": {
      "text/plain": [
       "tensor([[ 3.5386e-05,  4.2426e-01, -3.5976e-01, -6.7739e-02,  5.2965e-02,\n",
       "         -6.7170e-04, -1.3147e-01,  2.2357e-01,  2.5155e-01,  4.4688e-01,\n",
       "          4.2093e-01,  1.1943e-01,  3.3044e-01, -9.0853e-02,  4.3958e-01,\n",
       "         -2.2197e-02, -4.7709e-03,  5.0438e-03,  4.1805e-01,  4.1717e-01]])"
      ]
     },
     "execution_count": 533,
     "metadata": {},
     "output_type": "execute_result"
    }
   ],
   "source": [
    "optimizer.zero_grad()\n",
    "loss.backward()\n",
    "LR.linear.weight.grad"
   ]
  },
  {
   "cell_type": "markdown",
   "metadata": {},
   "source": [
    "## 3. 全部循环\n",
    "观察前 8 个权重变化"
   ]
  },
  {
   "cell_type": "code",
   "execution_count": 534,
   "metadata": {},
   "outputs": [],
   "source": [
    "def get_round_weight(vector, lr=None):\n",
    "    '''\n",
    "    获取向量输出字符串, 小数取 4 位\n",
    "    '''\n",
    "    lr = 1 if lr is None else -lr\n",
    "    result = vector[:, :8].squeeze() * lr\n",
    "    result = result.detach().tolist()\n",
    "    result = ['{:.4f}'.format(x) for x in result]\n",
    "    return result"
   ]
  },
  {
   "cell_type": "code",
   "execution_count": 512,
   "metadata": {},
   "outputs": [
    {
     "name": "stdout",
     "output_type": "stream",
     "text": [
      "*************** 当前循环次数:  0 | 准确率: 0.78, 训练集/测试集损失值: 0.6020/0.5347\n",
      "    之前的权重: ['0.6838', '0.0871', '1.6353', '0.6770', '0.5224', '0.6527', '1.0606', '0.3123']\n",
      "    当前的梯度: ['-0.0081', '-0.0082', '0.0032', '-0.0107', '-0.0107', '-0.0088', '-0.0031', '-0.0101']\n",
      "    更新后权重: ['0.6758', '0.0789', '1.6385', '0.6663', '0.5118', '0.6439', '1.0575', '0.3022']\n",
      "*************** 当前循环次数:  1 | 准确率: 0.79, 训练集/测试集损失值: 0.5858/0.5194\n",
      "    之前的权重: ['0.6758', '0.0789', '1.6385', '0.6663', '0.5118', '0.6439', '1.0575', '0.3022']\n",
      "    当前的梯度: ['-0.0079', '-0.0080', '0.0029', '-0.0106', '-0.0106', '-0.0086', '-0.0031', '-0.0099']\n",
      "    更新后权重: ['0.6678', '0.0709', '1.6414', '0.6557', '0.5012', '0.6352', '1.0544', '0.2924']\n",
      "*************** 当前循环次数:  2 | 准确率: 0.79, 训练集/测试集损失值: 0.5704/0.5048\n",
      "    之前的权重: ['0.6678', '0.0709', '1.6414', '0.6557', '0.5012', '0.6352', '1.0544', '0.2924']\n",
      "    当前的梯度: ['-0.0078', '-0.0078', '0.0027', '-0.0106', '-0.0105', '-0.0085', '-0.0030', '-0.0096']\n",
      "    更新后权重: ['0.6601', '0.0631', '1.6441', '0.6451', '0.4907', '0.6267', '1.0514', '0.2827']\n",
      "*************** 当前循环次数:  3 | 准确率: 0.81, 训练集/测试集损失值: 0.5555/0.4908\n",
      "    之前的权重: ['0.6601', '0.0631', '1.6441', '0.6451', '0.4907', '0.6267', '1.0514', '0.2827']\n",
      "    当前的梯度: ['-0.0076', '-0.0076', '0.0024', '-0.0105', '-0.0103', '-0.0083', '-0.0030', '-0.0094']\n",
      "    更新后权重: ['0.6524', '0.0556', '1.6465', '0.6346', '0.4804', '0.6184', '1.0483', '0.2733']\n",
      "*************** 当前循环次数:  4 | 准确率: 0.81, 训练集/测试集损失值: 0.5413/0.4774\n",
      "    之前的权重: ['0.6524', '0.0556', '1.6465', '0.6346', '0.4804', '0.6184', '1.0483', '0.2733']\n",
      "    当前的梯度: ['-0.0075', '-0.0073', '0.0022', '-0.0104', '-0.0102', '-0.0081', '-0.0030', '-0.0092']\n",
      "    更新后权重: ['0.6450', '0.0482', '1.6487', '0.6242', '0.4702', '0.6103', '1.0454', '0.2641']\n",
      "*************** 当前循环次数:  5 | 准确率: 0.81, 训练集/测试集损失值: 0.5277/0.4646\n",
      "    之前的权重: ['0.6450', '0.0482', '1.6487', '0.6242', '0.4702', '0.6103', '1.0454', '0.2641']\n",
      "    当前的梯度: ['-0.0073', '-0.0071', '0.0020', '-0.0103', '-0.0101', '-0.0080', '-0.0029', '-0.0090']\n",
      "    更新后权重: ['0.6377', '0.0411', '1.6507', '0.6138', '0.4601', '0.6023', '1.0424', '0.2551']\n",
      "*************** 当前循环次数:  6 | 准确率: 0.81, 训练集/测试集损失值: 0.5146/0.4524\n",
      "    之前的权重: ['0.6377', '0.0411', '1.6507', '0.6138', '0.4601', '0.6023', '1.0424', '0.2551']\n",
      "    当前的梯度: ['-0.0071', '-0.0069', '0.0018', '-0.0103', '-0.0100', '-0.0078', '-0.0029', '-0.0088']\n",
      "    更新后权重: ['0.6305', '0.0342', '1.6524', '0.6036', '0.4501', '0.5945', '1.0395', '0.2463']\n",
      "*************** 当前循环次数:  7 | 准确率: 0.82, 训练集/测试集损失值: 0.5021/0.4408\n",
      "    之前的权重: ['0.6305', '0.0342', '1.6524', '0.6036', '0.4501', '0.5945', '1.0395', '0.2463']\n",
      "    当前的梯度: ['-0.0070', '-0.0067', '0.0015', '-0.0102', '-0.0098', '-0.0076', '-0.0029', '-0.0086']\n",
      "    更新后权重: ['0.6235', '0.0274', '1.6540', '0.5934', '0.4403', '0.5869', '1.0367', '0.2378']\n",
      "*************** 当前循环次数:  8 | 准确率: 0.83, 训练集/测试集损失值: 0.4902/0.4297\n",
      "    之前的权重: ['0.6235', '0.0274', '1.6540', '0.5934', '0.4403', '0.5869', '1.0367', '0.2378']\n",
      "    当前的梯度: ['-0.0068', '-0.0065', '0.0013', '-0.0101', '-0.0097', '-0.0074', '-0.0028', '-0.0083']\n",
      "    更新后权重: ['0.6167', '0.0209', '1.6553', '0.5833', '0.4306', '0.5795', '1.0339', '0.2294']\n",
      "*************** 当前循环次数:  9 | 准确率: 0.83, 训练集/测试集损失值: 0.4788/0.4190\n",
      "    之前的权重: ['0.6167', '0.0209', '1.6553', '0.5833', '0.4306', '0.5795', '1.0339', '0.2294']\n",
      "    当前的梯度: ['-0.0067', '-0.0063', '0.0011', '-0.0100', '-0.0096', '-0.0073', '-0.0028', '-0.0081']\n",
      "    更新后权重: ['0.6100', '0.0146', '1.6565', '0.5733', '0.4210', '0.5722', '1.0311', '0.2213']\n",
      "*************** 当前循环次数: 10 | 准确率: 0.83, 训练集/测试集损失值: 0.4679/0.4089\n",
      "    之前的权重: ['0.6100', '0.0146', '1.6565', '0.5733', '0.4210', '0.5722', '1.0311', '0.2213']\n",
      "    当前的梯度: ['-0.0065', '-0.0061', '0.0009', '-0.0099', '-0.0094', '-0.0071', '-0.0027', '-0.0079']\n",
      "    更新后权重: ['0.6035', '0.0085', '1.6574', '0.5634', '0.4116', '0.5652', '1.0284', '0.2134']\n",
      "*************** 当前循环次数: 11 | 准确率: 0.83, 训练集/测试集损失值: 0.4575/0.3992\n",
      "    之前的权重: ['0.6035', '0.0085', '1.6574', '0.5634', '0.4116', '0.5652', '1.0284', '0.2134']\n",
      "    当前的梯度: ['-0.0063', '-0.0059', '0.0008', '-0.0098', '-0.0093', '-0.0069', '-0.0026', '-0.0077']\n",
      "    更新后权重: ['0.5972', '0.0026', '1.6582', '0.5536', '0.4023', '0.5583', '1.0258', '0.2056']\n",
      "*************** 当前循环次数: 12 | 准确率: 0.83, 训练集/测试集损失值: 0.4476/0.3900\n",
      "    之前的权重: ['0.5972', '0.0026', '1.6582', '0.5536', '0.4023', '0.5583', '1.0258', '0.2056']\n",
      "    当前的梯度: ['-0.0062', '-0.0057', '0.0006', '-0.0097', '-0.0092', '-0.0067', '-0.0026', '-0.0075']\n",
      "    更新后权重: ['0.5910', '-0.0032', '1.6587', '0.5439', '0.3931', '0.5516', '1.0232', '0.1981']\n",
      "*************** 当前循环次数: 13 | 准确率: 0.83, 训练集/测试集损失值: 0.4381/0.3812\n",
      "    之前的权重: ['0.5910', '-0.0032', '1.6587', '0.5439', '0.3931', '0.5516', '1.0232', '0.1981']\n",
      "    当前的梯度: ['-0.0060', '-0.0056', '0.0004', '-0.0096', '-0.0090', '-0.0065', '-0.0025', '-0.0073']\n",
      "    更新后权重: ['0.5850', '-0.0087', '1.6591', '0.5342', '0.3841', '0.5450', '1.0206', '0.1908']\n",
      "*************** 当前循环次数: 14 | 准确率: 0.83, 训练集/测试集损失值: 0.4290/0.3728\n",
      "    之前的权重: ['0.5850', '-0.0087', '1.6591', '0.5342', '0.3841', '0.5450', '1.0206', '0.1908']\n",
      "    当前的梯度: ['-0.0059', '-0.0054', '0.0002', '-0.0095', '-0.0089', '-0.0064', '-0.0025', '-0.0071']\n",
      "    更新后权重: ['0.5791', '-0.0141', '1.6593', '0.5247', '0.3752', '0.5386', '1.0181', '0.1837']\n",
      "*************** 当前循环次数: 15 | 准确率: 0.83, 训练集/测试集损失值: 0.4204/0.3648\n",
      "    之前的权重: ['0.5791', '-0.0141', '1.6593', '0.5247', '0.3752', '0.5386', '1.0181', '0.1837']\n",
      "    当前的梯度: ['-0.0057', '-0.0052', '0.0001', '-0.0094', '-0.0087', '-0.0062', '-0.0024', '-0.0069']\n",
      "    更新后权重: ['0.5734', '-0.0193', '1.6594', '0.5153', '0.3665', '0.5324', '1.0157', '0.1767']\n",
      "*************** 当前循环次数: 16 | 准确率: 0.83, 训练集/测试集损失值: 0.4122/0.3572\n",
      "    之前的权重: ['0.5734', '-0.0193', '1.6594', '0.5153', '0.3665', '0.5324', '1.0157', '0.1767']\n",
      "    当前的梯度: ['-0.0055', '-0.0050', '-0.0001', '-0.0093', '-0.0086', '-0.0060', '-0.0024', '-0.0067']\n",
      "    更新后权重: ['0.5679', '-0.0244', '1.6593', '0.5060', '0.3579', '0.5264', '1.0134', '0.1700']\n",
      "*************** 当前循环次数: 17 | 准确率: 0.83, 训练集/测试集损失值: 0.4043/0.3499\n",
      "    之前的权重: ['0.5679', '-0.0244', '1.6593', '0.5060', '0.3579', '0.5264', '1.0134', '0.1700']\n",
      "    当前的梯度: ['-0.0054', '-0.0049', '-0.0002', '-0.0092', '-0.0085', '-0.0059', '-0.0023', '-0.0066']\n",
      "    更新后权重: ['0.5625', '-0.0292', '1.6591', '0.4968', '0.3494', '0.5206', '1.0111', '0.1634']\n",
      "*************** 当前循环次数: 18 | 准确率: 0.83, 训练集/测试集损失值: 0.3969/0.3429\n",
      "    之前的权重: ['0.5625', '-0.0292', '1.6591', '0.4968', '0.3494', '0.5206', '1.0111', '0.1634']\n",
      "    当前的梯度: ['-0.0052', '-0.0047', '-0.0004', '-0.0091', '-0.0083', '-0.0057', '-0.0022', '-0.0064']\n",
      "    更新后权重: ['0.5573', '-0.0339', '1.6587', '0.4877', '0.3411', '0.5149', '1.0088', '0.1570']\n",
      "*************** 当前循环次数: 19 | 准确率: 0.83, 训练集/测试集损失值: 0.3897/0.3363\n",
      "    之前的权重: ['0.5573', '-0.0339', '1.6587', '0.4877', '0.3411', '0.5149', '1.0088', '0.1570']\n",
      "    当前的梯度: ['-0.0051', '-0.0046', '-0.0005', '-0.0090', '-0.0082', '-0.0055', '-0.0022', '-0.0062']\n",
      "    更新后权重: ['0.5522', '-0.0385', '1.6582', '0.4787', '0.3330', '0.5093', '1.0067', '0.1508']\n",
      "*************** 当前循环次数: 20 | 准确率: 0.83, 训练集/测试集损失值: 0.3829/0.3299\n",
      "    之前的权重: ['0.5522', '-0.0385', '1.6582', '0.4787', '0.3330', '0.5093', '1.0067', '0.1508']\n",
      "    当前的梯度: ['-0.0049', '-0.0044', '-0.0006', '-0.0089', '-0.0080', '-0.0054', '-0.0021', '-0.0060']\n",
      "    更新后权重: ['0.5472', '-0.0429', '1.6575', '0.4698', '0.3249', '0.5040', '1.0045', '0.1448']\n",
      "*************** 当前循环次数: 21 | 准确率: 0.83, 训练集/测试集损失值: 0.3765/0.3238\n",
      "    之前的权重: ['0.5472', '-0.0429', '1.6575', '0.4698', '0.3249', '0.5040', '1.0045', '0.1448']\n",
      "    当前的梯度: ['-0.0048', '-0.0042', '-0.0008', '-0.0088', '-0.0079', '-0.0052', '-0.0020', '-0.0059']\n",
      "    更新后权重: ['0.5424', '-0.0471', '1.6568', '0.4610', '0.3170', '0.4988', '1.0025', '0.1389']\n",
      "*************** 当前循环次数: 22 | 准确率: 0.85, 训练集/测试集损失值: 0.3703/0.3181\n",
      "    之前的权重: ['0.5424', '-0.0471', '1.6568', '0.4610', '0.3170', '0.4988', '1.0025', '0.1389']\n",
      "    当前的梯度: ['-0.0047', '-0.0041', '-0.0009', '-0.0087', '-0.0078', '-0.0050', '-0.0020', '-0.0057']\n",
      "    更新后权重: ['0.5378', '-0.0512', '1.6559', '0.4523', '0.3092', '0.4938', '1.0005', '0.1332']\n",
      "*************** 当前循环次数: 23 | 准确率: 0.84, 训练集/测试集损失值: 0.3644/0.3125\n",
      "    之前的权重: ['0.5378', '-0.0512', '1.6559', '0.4523', '0.3092', '0.4938', '1.0005', '0.1332']\n",
      "    当前的梯度: ['-0.0045', '-0.0040', '-0.0010', '-0.0086', '-0.0076', '-0.0049', '-0.0019', '-0.0055']\n",
      "    更新后权重: ['0.5333', '-0.0552', '1.6549', '0.4437', '0.3016', '0.4889', '0.9986', '0.1277']\n",
      "*************** 当前循环次数: 24 | 准确率: 0.84, 训练集/测试集损失值: 0.3587/0.3072\n",
      "    之前的权重: ['0.5333', '-0.0552', '1.6549', '0.4437', '0.3016', '0.4889', '0.9986', '0.1277']\n",
      "    当前的梯度: ['-0.0044', '-0.0038', '-0.0011', '-0.0085', '-0.0075', '-0.0047', '-0.0019', '-0.0054']\n",
      "    更新后权重: ['0.5289', '-0.0590', '1.6538', '0.4353', '0.2941', '0.4841', '0.9967', '0.1223']\n",
      "*************** 当前循环次数: 25 | 准确率: 0.85, 训练集/测试集损失值: 0.3534/0.3022\n",
      "    之前的权重: ['0.5289', '-0.0590', '1.6538', '0.4353', '0.2941', '0.4841', '0.9967', '0.1223']\n",
      "    当前的梯度: ['-0.0042', '-0.0037', '-0.0012', '-0.0084', '-0.0074', '-0.0046', '-0.0018', '-0.0052']\n",
      "    更新后权重: ['0.5247', '-0.0627', '1.6525', '0.4269', '0.2867', '0.4796', '0.9950', '0.1171']\n",
      "*************** 当前循环次数: 26 | 准确率: 0.86, 训练集/测试集损失值: 0.3482/0.2973\n",
      "    之前的权重: ['0.5247', '-0.0627', '1.6525', '0.4269', '0.2867', '0.4796', '0.9950', '0.1171']\n",
      "    当前的梯度: ['-0.0041', '-0.0036', '-0.0013', '-0.0083', '-0.0073', '-0.0044', '-0.0017', '-0.0051']\n",
      "    更新后权重: ['0.5205', '-0.0663', '1.6512', '0.4186', '0.2795', '0.4751', '0.9932', '0.1120']\n",
      "*************** 当前循环次数: 27 | 准确率: 0.86, 训练集/测试集损失值: 0.3433/0.2927\n",
      "    之前的权重: ['0.5205', '-0.0663', '1.6512', '0.4186', '0.2795', '0.4751', '0.9932', '0.1120']\n",
      "    当前的梯度: ['-0.0040', '-0.0034', '-0.0014', '-0.0082', '-0.0071', '-0.0043', '-0.0017', '-0.0050']\n",
      "    更新后权重: ['0.5166', '-0.0697', '1.6498', '0.4104', '0.2723', '0.4708', '0.9916', '0.1070']\n",
      "*************** 当前循环次数: 28 | 准确率: 0.86, 训练集/测试集损失值: 0.3387/0.2883\n",
      "    之前的权重: ['0.5166', '-0.0697', '1.6498', '0.4104', '0.2723', '0.4708', '0.9916', '0.1070']\n",
      "    当前的梯度: ['-0.0039', '-0.0033', '-0.0015', '-0.0081', '-0.0070', '-0.0042', '-0.0016', '-0.0048']\n",
      "    更新后权重: ['0.5127', '-0.0730', '1.6484', '0.4024', '0.2653', '0.4667', '0.9899', '0.1022']\n",
      "*************** 当前循环次数: 29 | 准确率: 0.86, 训练集/测试集损失值: 0.3342/0.2841\n",
      "    之前的权重: ['0.5127', '-0.0730', '1.6484', '0.4024', '0.2653', '0.4667', '0.9899', '0.1022']\n",
      "    当前的梯度: ['-0.0037', '-0.0032', '-0.0016', '-0.0080', '-0.0069', '-0.0040', '-0.0015', '-0.0047']\n",
      "    更新后权重: ['0.5090', '-0.0762', '1.6468', '0.3944', '0.2584', '0.4626', '0.9884', '0.0975']\n",
      "*************** 当前循环次数: 30 | 准确率: 0.86, 训练集/测试集损失值: 0.3299/0.2800\n",
      "    之前的权重: ['0.5090', '-0.0762', '1.6468', '0.3944', '0.2584', '0.4626', '0.9884', '0.0975']\n",
      "    当前的梯度: ['-0.0036', '-0.0031', '-0.0016', '-0.0079', '-0.0068', '-0.0039', '-0.0015', '-0.0046']\n",
      "    更新后权重: ['0.5054', '-0.0793', '1.6451', '0.3865', '0.2516', '0.4588', '0.9869', '0.0930']\n",
      "*************** 当前循环次数: 31 | 准确率: 0.86, 训练集/测试集损失值: 0.3258/0.2761\n",
      "    之前的权重: ['0.5054', '-0.0793', '1.6451', '0.3865', '0.2516', '0.4588', '0.9869', '0.0930']\n",
      "    当前的梯度: ['-0.0035', '-0.0030', '-0.0017', '-0.0078', '-0.0067', '-0.0038', '-0.0014', '-0.0044']\n",
      "    更新后权重: ['0.5019', '-0.0823', '1.6434', '0.3787', '0.2450', '0.4550', '0.9855', '0.0885']\n",
      "*************** 当前循环次数: 32 | 准确率: 0.87, 训练集/测试集损失值: 0.3219/0.2724\n",
      "    之前的权重: ['0.5019', '-0.0823', '1.6434', '0.3787', '0.2450', '0.4550', '0.9855', '0.0885']\n",
      "    当前的梯度: ['-0.0034', '-0.0029', '-0.0018', '-0.0077', '-0.0066', '-0.0036', '-0.0014', '-0.0043']\n",
      "    更新后权重: ['0.4985', '-0.0851', '1.6416', '0.3710', '0.2384', '0.4514', '0.9841', '0.0842']\n",
      "*************** 当前循环次数: 33 | 准确率: 0.87, 训练集/测试集损失值: 0.3182/0.2688\n",
      "    之前的权重: ['0.4985', '-0.0851', '1.6416', '0.3710', '0.2384', '0.4514', '0.9841', '0.0842']\n",
      "    当前的梯度: ['-0.0033', '-0.0028', '-0.0019', '-0.0076', '-0.0064', '-0.0035', '-0.0013', '-0.0042']\n",
      "    更新后权重: ['0.4952', '-0.0879', '1.6398', '0.3634', '0.2320', '0.4479', '0.9828', '0.0801']\n",
      "*************** 当前循环次数: 34 | 准确率: 0.87, 训练集/测试集损失值: 0.3146/0.2654\n",
      "    之前的权重: ['0.4952', '-0.0879', '1.6398', '0.3634', '0.2320', '0.4479', '0.9828', '0.0801']\n",
      "    当前的梯度: ['-0.0032', '-0.0027', '-0.0019', '-0.0075', '-0.0063', '-0.0034', '-0.0013', '-0.0041']\n",
      "    更新后权重: ['0.4921', '-0.0905', '1.6379', '0.3559', '0.2256', '0.4445', '0.9816', '0.0760']\n",
      "*************** 当前循环次数: 35 | 准确率: 0.87, 训练集/测试集损失值: 0.3111/0.2621\n",
      "    之前的权重: ['0.4921', '-0.0905', '1.6379', '0.3559', '0.2256', '0.4445', '0.9816', '0.0760']\n",
      "    当前的梯度: ['-0.0030', '-0.0026', '-0.0020', '-0.0074', '-0.0062', '-0.0033', '-0.0012', '-0.0040']\n",
      "    更新后权重: ['0.4890', '-0.0931', '1.6359', '0.3485', '0.2194', '0.4412', '0.9804', '0.0720']\n",
      "*************** 当前循环次数: 36 | 准确率: 0.87, 训练集/测试集损失值: 0.3078/0.2590\n",
      "    之前的权重: ['0.4890', '-0.0931', '1.6359', '0.3485', '0.2194', '0.4412', '0.9804', '0.0720']\n",
      "    当前的梯度: ['-0.0029', '-0.0025', '-0.0020', '-0.0073', '-0.0061', '-0.0031', '-0.0011', '-0.0038']\n",
      "    更新后权重: ['0.4861', '-0.0956', '1.6339', '0.3412', '0.2133', '0.4381', '0.9792', '0.0682']\n",
      "*************** 当前循环次数: 37 | 准确率: 0.87, 训练集/测试集损失值: 0.3047/0.2560\n",
      "    之前的权重: ['0.4861', '-0.0956', '1.6339', '0.3412', '0.2133', '0.4381', '0.9792', '0.0682']\n",
      "    当前的梯度: ['-0.0028', '-0.0024', '-0.0021', '-0.0072', '-0.0060', '-0.0030', '-0.0011', '-0.0037']\n",
      "    更新后权重: ['0.4832', '-0.0980', '1.6318', '0.3339', '0.2073', '0.4350', '0.9781', '0.0645']\n",
      "*************** 当前循环次数: 38 | 准确率: 0.87, 训练集/测试集损失值: 0.3016/0.2531\n",
      "    之前的权重: ['0.4832', '-0.0980', '1.6318', '0.3339', '0.2073', '0.4350', '0.9781', '0.0645']\n",
      "    当前的梯度: ['-0.0027', '-0.0023', '-0.0021', '-0.0072', '-0.0059', '-0.0029', '-0.0010', '-0.0036']\n",
      "    更新后权重: ['0.4805', '-0.1002', '1.6297', '0.3268', '0.2013', '0.4321', '0.9771', '0.0608']\n"
     ]
    },
    {
     "ename": "KeyboardInterrupt",
     "evalue": "",
     "output_type": "error",
     "traceback": [
      "\u001b[0;31m---------------------------------------------------------------------------\u001b[0m",
      "\u001b[0;31mKeyboardInterrupt\u001b[0m                         Traceback (most recent call last)",
      "\u001b[0;32m<ipython-input-512-250ad96009cc>\u001b[0m in \u001b[0;36m<module>\u001b[0;34m\u001b[0m\n\u001b[1;32m     57\u001b[0m     )\n\u001b[1;32m     58\u001b[0m \u001b[0;34m\u001b[0m\u001b[0m\n\u001b[0;32m---> 59\u001b[0;31m     \u001b[0mtime\u001b[0m\u001b[0;34m.\u001b[0m\u001b[0msleep\u001b[0m\u001b[0;34m(\u001b[0m\u001b[0;36m0.5\u001b[0m\u001b[0;34m)\u001b[0m\u001b[0;34m\u001b[0m\u001b[0;34m\u001b[0m\u001b[0m\n\u001b[0m",
      "\u001b[0;31mKeyboardInterrupt\u001b[0m: "
     ]
    }
   ],
   "source": [
    "losses_train = []\n",
    "losses_test = []\n",
    "weights = None\n",
    "predictions = []\n",
    "\n",
    "for epoch in range(epoches):\n",
    "    # 开始训练\n",
    "    LR.train(True)\n",
    "    last_weight = get_round_weight(LR.linear.weight)\n",
    "    \n",
    "    ## 获取数据\n",
    "    inputs, labels = ds_train.feature, ds_train.label\n",
    "    optimizer.zero_grad()\n",
    "\n",
    "    ## 预测结果\n",
    "    outputs = LR(inputs)\n",
    "    outputs = outputs.squeeze(-1)\n",
    "\n",
    "    ## 计算损失\n",
    "    loss = loss_function(outputs, labels)\n",
    "\n",
    "    ## 计算权重梯度\n",
    "    loss.backward()\n",
    "    cur_grad = get_round_weight(LR.linear.weight.grad, lr=learning_rate)\n",
    "    \n",
    "    ## 改变权重\n",
    "    optimizer.step()\n",
    "    losses_train.append(loss.item())\n",
    "    cur_weight = get_round_weight(LR.linear.weight)\n",
    "\n",
    "    # 开始测试\n",
    "    LR.train(False)\n",
    "    total = 0\n",
    "    correct = 0\n",
    "\n",
    "    inputs, labels = ds_test.feature, ds_test.label\n",
    "    outputs = LR(inputs)\n",
    "    outputs = outputs.squeeze(-1)\n",
    "    loss = loss_function(outputs, labels)\n",
    "    total += labels.size(0)\n",
    "    correct += np.sum(torch.squeeze(outputs).round().detach().numpy() == labels.detach().numpy())\n",
    "\n",
    "    losses_test.append(loss.item())\n",
    "    predictions.append(outputs.detach().numpy())\n",
    "\n",
    "    # 提取模型权重\n",
    "    w1 = LR.linear.weight.detach().numpy().squeeze()\n",
    "    b1 = LR.linear.bias.detach().numpy()\n",
    "    merge = np.concatenate((w1, b1))\n",
    "    weights = merge if weights is None else np.vstack((weights, merge))\n",
    "    \n",
    "    print('*'*15,\n",
    "        '''当前循环次数: {:2d} | 准确率: {:.2f}, 训练集/测试集损失值: {:.4f}/{:.4f}\n",
    "    之前的权重: {}\n",
    "    当前的梯度: {}\n",
    "    更新后权重: {}'''.format(epoch, correct/total, losses_train[-1], losses_test[-1], last_weight, cur_grad, cur_weight)\n",
    "    )\n",
    "\n",
    "    time.sleep(0.5)"
   ]
  },
  {
   "cell_type": "markdown",
   "metadata": {},
   "source": [
    "# 三、结果分析"
   ]
  },
  {
   "cell_type": "code",
   "execution_count": 487,
   "metadata": {},
   "outputs": [
    {
     "name": "stdout",
     "output_type": "stream",
     "text": [
      "权重变化\n"
     ]
    },
    {
     "data": {
      "text/html": [
       "<div>\n",
       "<style scoped>\n",
       "    .dataframe tbody tr th:only-of-type {\n",
       "        vertical-align: middle;\n",
       "    }\n",
       "\n",
       "    .dataframe tbody tr th {\n",
       "        vertical-align: top;\n",
       "    }\n",
       "\n",
       "    .dataframe thead th {\n",
       "        text-align: right;\n",
       "    }\n",
       "</style>\n",
       "<table border=\"1\" class=\"dataframe\">\n",
       "  <thead>\n",
       "    <tr style=\"text-align: right;\">\n",
       "      <th></th>\n",
       "      <th>Kerne_A</th>\n",
       "      <th>Cyto_A</th>\n",
       "      <th>K/C</th>\n",
       "      <th>Kerne_Ycol</th>\n",
       "      <th>Cyto_Ycol</th>\n",
       "      <th>KerneShort</th>\n",
       "      <th>KerneLong</th>\n",
       "      <th>KerneElong</th>\n",
       "      <th>KerneRund</th>\n",
       "      <th>CytoShort</th>\n",
       "      <th>...</th>\n",
       "      <th>CytoElong</th>\n",
       "      <th>CytoRund</th>\n",
       "      <th>KernePeri</th>\n",
       "      <th>CytoPeri</th>\n",
       "      <th>KernePos</th>\n",
       "      <th>KerneMax</th>\n",
       "      <th>KerneMin</th>\n",
       "      <th>CytoMax</th>\n",
       "      <th>CytoMin</th>\n",
       "      <th>bias</th>\n",
       "    </tr>\n",
       "  </thead>\n",
       "  <tbody>\n",
       "    <tr>\n",
       "      <th>0</th>\n",
       "      <td>0.999848</td>\n",
       "      <td>0.913697</td>\n",
       "      <td>1.070735</td>\n",
       "      <td>1.011492</td>\n",
       "      <td>0.987663</td>\n",
       "      <td>1.000655</td>\n",
       "      <td>1.026907</td>\n",
       "      <td>0.956819</td>\n",
       "      <td>0.950691</td>\n",
       "      <td>0.908657</td>\n",
       "      <td>...</td>\n",
       "      <td>0.973508</td>\n",
       "      <td>0.934587</td>\n",
       "      <td>1.019003</td>\n",
       "      <td>0.910906</td>\n",
       "      <td>1.004636</td>\n",
       "      <td>1.000407</td>\n",
       "      <td>0.999277</td>\n",
       "      <td>0.915274</td>\n",
       "      <td>0.915542</td>\n",
       "      <td>0.053909</td>\n",
       "    </tr>\n",
       "    <tr>\n",
       "      <th>1</th>\n",
       "      <td>0.999424</td>\n",
       "      <td>0.870449</td>\n",
       "      <td>1.104957</td>\n",
       "      <td>1.016019</td>\n",
       "      <td>0.980745</td>\n",
       "      <td>1.000515</td>\n",
       "      <td>1.039832</td>\n",
       "      <td>0.935106</td>\n",
       "      <td>0.926009</td>\n",
       "      <td>0.863096</td>\n",
       "      <td>...</td>\n",
       "      <td>0.959718</td>\n",
       "      <td>0.902114</td>\n",
       "      <td>1.027988</td>\n",
       "      <td>0.866637</td>\n",
       "      <td>1.006632</td>\n",
       "      <td>1.000360</td>\n",
       "      <td>0.998722</td>\n",
       "      <td>0.872642</td>\n",
       "      <td>0.873003</td>\n",
       "      <td>0.080143</td>\n",
       "    </tr>\n",
       "    <tr>\n",
       "      <th>2</th>\n",
       "      <td>0.998405</td>\n",
       "      <td>0.828378</td>\n",
       "      <td>1.137836</td>\n",
       "      <td>1.019563</td>\n",
       "      <td>0.973384</td>\n",
       "      <td>0.999706</td>\n",
       "      <td>1.051887</td>\n",
       "      <td>0.913637</td>\n",
       "      <td>0.901710</td>\n",
       "      <td>0.818716</td>\n",
       "      <td>...</td>\n",
       "      <td>0.946076</td>\n",
       "      <td>0.870692</td>\n",
       "      <td>1.036147</td>\n",
       "      <td>0.823542</td>\n",
       "      <td>1.008126</td>\n",
       "      <td>0.999773</td>\n",
       "      <td>0.997700</td>\n",
       "      <td>0.831145</td>\n",
       "      <td>0.831559</td>\n",
       "      <td>0.106214</td>\n",
       "    </tr>\n",
       "    <tr>\n",
       "      <th>3</th>\n",
       "      <td>0.996779</td>\n",
       "      <td>0.787560</td>\n",
       "      <td>1.169320</td>\n",
       "      <td>1.022109</td>\n",
       "      <td>0.965597</td>\n",
       "      <td>0.998221</td>\n",
       "      <td>1.063042</td>\n",
       "      <td>0.892464</td>\n",
       "      <td>0.877848</td>\n",
       "      <td>0.775587</td>\n",
       "      <td>...</td>\n",
       "      <td>0.932611</td>\n",
       "      <td>0.840381</td>\n",
       "      <td>1.043452</td>\n",
       "      <td>0.781685</td>\n",
       "      <td>1.009133</td>\n",
       "      <td>0.998630</td>\n",
       "      <td>0.996194</td>\n",
       "      <td>0.790854</td>\n",
       "      <td>0.791283</td>\n",
       "      <td>0.132147</td>\n",
       "    </tr>\n",
       "    <tr>\n",
       "      <th>4</th>\n",
       "      <td>0.994530</td>\n",
       "      <td>0.748077</td>\n",
       "      <td>1.199370</td>\n",
       "      <td>1.023663</td>\n",
       "      <td>0.957408</td>\n",
       "      <td>0.996052</td>\n",
       "      <td>1.073266</td>\n",
       "      <td>0.871636</td>\n",
       "      <td>0.854470</td>\n",
       "      <td>0.733779</td>\n",
       "      <td>...</td>\n",
       "      <td>0.919348</td>\n",
       "      <td>0.811236</td>\n",
       "      <td>1.049880</td>\n",
       "      <td>0.741132</td>\n",
       "      <td>1.009668</td>\n",
       "      <td>0.996912</td>\n",
       "      <td>0.994184</td>\n",
       "      <td>0.751843</td>\n",
       "      <td>0.752256</td>\n",
       "      <td>0.157968</td>\n",
       "    </tr>\n",
       "    <tr>\n",
       "      <th>...</th>\n",
       "      <td>...</td>\n",
       "      <td>...</td>\n",
       "      <td>...</td>\n",
       "      <td>...</td>\n",
       "      <td>...</td>\n",
       "      <td>...</td>\n",
       "      <td>...</td>\n",
       "      <td>...</td>\n",
       "      <td>...</td>\n",
       "      <td>...</td>\n",
       "      <td>...</td>\n",
       "      <td>...</td>\n",
       "      <td>...</td>\n",
       "      <td>...</td>\n",
       "      <td>...</td>\n",
       "      <td>...</td>\n",
       "      <td>...</td>\n",
       "      <td>...</td>\n",
       "      <td>...</td>\n",
       "      <td>...</td>\n",
       "      <td>...</td>\n",
       "    </tr>\n",
       "    <tr>\n",
       "      <th>95</th>\n",
       "      <td>0.445217</td>\n",
       "      <td>-0.129852</td>\n",
       "      <td>1.588779</td>\n",
       "      <td>0.272508</td>\n",
       "      <td>0.152070</td>\n",
       "      <td>0.419218</td>\n",
       "      <td>0.949843</td>\n",
       "      <td>0.083458</td>\n",
       "      <td>0.045093</td>\n",
       "      <td>-0.302011</td>\n",
       "      <td>...</td>\n",
       "      <td>0.463099</td>\n",
       "      <td>0.313703</td>\n",
       "      <td>0.740274</td>\n",
       "      <td>-0.273557</td>\n",
       "      <td>0.494169</td>\n",
       "      <td>0.494310</td>\n",
       "      <td>0.514087</td>\n",
       "      <td>-0.132921</td>\n",
       "      <td>-0.134907</td>\n",
       "      <td>1.575394</td>\n",
       "    </tr>\n",
       "    <tr>\n",
       "      <th>96</th>\n",
       "      <td>0.443468</td>\n",
       "      <td>-0.131223</td>\n",
       "      <td>1.586321</td>\n",
       "      <td>0.266085</td>\n",
       "      <td>0.147291</td>\n",
       "      <td>0.417421</td>\n",
       "      <td>0.949290</td>\n",
       "      <td>0.081080</td>\n",
       "      <td>0.043150</td>\n",
       "      <td>-0.303478</td>\n",
       "      <td>...</td>\n",
       "      <td>0.461495</td>\n",
       "      <td>0.314469</td>\n",
       "      <td>0.738794</td>\n",
       "      <td>-0.274993</td>\n",
       "      <td>0.488330</td>\n",
       "      <td>0.492309</td>\n",
       "      <td>0.512032</td>\n",
       "      <td>-0.134609</td>\n",
       "      <td>-0.136580</td>\n",
       "      <td>1.581207</td>\n",
       "    </tr>\n",
       "    <tr>\n",
       "      <th>97</th>\n",
       "      <td>0.441781</td>\n",
       "      <td>-0.132544</td>\n",
       "      <td>1.583850</td>\n",
       "      <td>0.259728</td>\n",
       "      <td>0.142589</td>\n",
       "      <td>0.415692</td>\n",
       "      <td>0.948774</td>\n",
       "      <td>0.078755</td>\n",
       "      <td>0.041261</td>\n",
       "      <td>-0.304877</td>\n",
       "      <td>...</td>\n",
       "      <td>0.459923</td>\n",
       "      <td>0.315255</td>\n",
       "      <td>0.737363</td>\n",
       "      <td>-0.276360</td>\n",
       "      <td>0.482519</td>\n",
       "      <td>0.490360</td>\n",
       "      <td>0.510024</td>\n",
       "      <td>-0.136246</td>\n",
       "      <td>-0.138202</td>\n",
       "      <td>1.586923</td>\n",
       "    </tr>\n",
       "    <tr>\n",
       "      <th>98</th>\n",
       "      <td>0.440154</td>\n",
       "      <td>-0.133814</td>\n",
       "      <td>1.581368</td>\n",
       "      <td>0.253434</td>\n",
       "      <td>0.137961</td>\n",
       "      <td>0.414027</td>\n",
       "      <td>0.948295</td>\n",
       "      <td>0.076482</td>\n",
       "      <td>0.039425</td>\n",
       "      <td>-0.306208</td>\n",
       "      <td>...</td>\n",
       "      <td>0.458383</td>\n",
       "      <td>0.316062</td>\n",
       "      <td>0.735979</td>\n",
       "      <td>-0.277662</td>\n",
       "      <td>0.476738</td>\n",
       "      <td>0.488462</td>\n",
       "      <td>0.508062</td>\n",
       "      <td>-0.137835</td>\n",
       "      <td>-0.139775</td>\n",
       "      <td>1.592544</td>\n",
       "    </tr>\n",
       "    <tr>\n",
       "      <th>99</th>\n",
       "      <td>0.438586</td>\n",
       "      <td>-0.135037</td>\n",
       "      <td>1.578875</td>\n",
       "      <td>0.247205</td>\n",
       "      <td>0.133408</td>\n",
       "      <td>0.412426</td>\n",
       "      <td>0.947851</td>\n",
       "      <td>0.074260</td>\n",
       "      <td>0.037642</td>\n",
       "      <td>-0.307474</td>\n",
       "      <td>...</td>\n",
       "      <td>0.456873</td>\n",
       "      <td>0.316888</td>\n",
       "      <td>0.734643</td>\n",
       "      <td>-0.278901</td>\n",
       "      <td>0.470985</td>\n",
       "      <td>0.486613</td>\n",
       "      <td>0.506144</td>\n",
       "      <td>-0.139376</td>\n",
       "      <td>-0.141299</td>\n",
       "      <td>1.598072</td>\n",
       "    </tr>\n",
       "  </tbody>\n",
       "</table>\n",
       "<p>100 rows × 21 columns</p>\n",
       "</div>"
      ],
      "text/plain": [
       "     Kerne_A    Cyto_A       K/C  Kerne_Ycol  Cyto_Ycol  KerneShort  \\\n",
       "0   0.999848  0.913697  1.070735    1.011492   0.987663    1.000655   \n",
       "1   0.999424  0.870449  1.104957    1.016019   0.980745    1.000515   \n",
       "2   0.998405  0.828378  1.137836    1.019563   0.973384    0.999706   \n",
       "3   0.996779  0.787560  1.169320    1.022109   0.965597    0.998221   \n",
       "4   0.994530  0.748077  1.199370    1.023663   0.957408    0.996052   \n",
       "..       ...       ...       ...         ...        ...         ...   \n",
       "95  0.445217 -0.129852  1.588779    0.272508   0.152070    0.419218   \n",
       "96  0.443468 -0.131223  1.586321    0.266085   0.147291    0.417421   \n",
       "97  0.441781 -0.132544  1.583850    0.259728   0.142589    0.415692   \n",
       "98  0.440154 -0.133814  1.581368    0.253434   0.137961    0.414027   \n",
       "99  0.438586 -0.135037  1.578875    0.247205   0.133408    0.412426   \n",
       "\n",
       "    KerneLong  KerneElong  KerneRund  CytoShort  ...  CytoElong  CytoRund  \\\n",
       "0    1.026907    0.956819   0.950691   0.908657  ...   0.973508  0.934587   \n",
       "1    1.039832    0.935106   0.926009   0.863096  ...   0.959718  0.902114   \n",
       "2    1.051887    0.913637   0.901710   0.818716  ...   0.946076  0.870692   \n",
       "3    1.063042    0.892464   0.877848   0.775587  ...   0.932611  0.840381   \n",
       "4    1.073266    0.871636   0.854470   0.733779  ...   0.919348  0.811236   \n",
       "..        ...         ...        ...        ...  ...        ...       ...   \n",
       "95   0.949843    0.083458   0.045093  -0.302011  ...   0.463099  0.313703   \n",
       "96   0.949290    0.081080   0.043150  -0.303478  ...   0.461495  0.314469   \n",
       "97   0.948774    0.078755   0.041261  -0.304877  ...   0.459923  0.315255   \n",
       "98   0.948295    0.076482   0.039425  -0.306208  ...   0.458383  0.316062   \n",
       "99   0.947851    0.074260   0.037642  -0.307474  ...   0.456873  0.316888   \n",
       "\n",
       "    KernePeri  CytoPeri  KernePos  KerneMax  KerneMin   CytoMax   CytoMin  \\\n",
       "0    1.019003  0.910906  1.004636  1.000407  0.999277  0.915274  0.915542   \n",
       "1    1.027988  0.866637  1.006632  1.000360  0.998722  0.872642  0.873003   \n",
       "2    1.036147  0.823542  1.008126  0.999773  0.997700  0.831145  0.831559   \n",
       "3    1.043452  0.781685  1.009133  0.998630  0.996194  0.790854  0.791283   \n",
       "4    1.049880  0.741132  1.009668  0.996912  0.994184  0.751843  0.752256   \n",
       "..        ...       ...       ...       ...       ...       ...       ...   \n",
       "95   0.740274 -0.273557  0.494169  0.494310  0.514087 -0.132921 -0.134907   \n",
       "96   0.738794 -0.274993  0.488330  0.492309  0.512032 -0.134609 -0.136580   \n",
       "97   0.737363 -0.276360  0.482519  0.490360  0.510024 -0.136246 -0.138202   \n",
       "98   0.735979 -0.277662  0.476738  0.488462  0.508062 -0.137835 -0.139775   \n",
       "99   0.734643 -0.278901  0.470985  0.486613  0.506144 -0.139376 -0.141299   \n",
       "\n",
       "        bias  \n",
       "0   0.053909  \n",
       "1   0.080143  \n",
       "2   0.106214  \n",
       "3   0.132147  \n",
       "4   0.157968  \n",
       "..       ...  \n",
       "95  1.575394  \n",
       "96  1.581207  \n",
       "97  1.586923  \n",
       "98  1.592544  \n",
       "99  1.598072  \n",
       "\n",
       "[100 rows x 21 columns]"
      ]
     },
     "execution_count": 487,
     "metadata": {},
     "output_type": "execute_result"
    }
   ],
   "source": [
    "# 可视化权重变化\n",
    "# FIXME\n",
    "print('权重变化')\n",
    "pd.set_option('display.max_colwidth', None)\n",
    "cols = list(df_train.columns.values)[:-1]\n",
    "cols.append('bias')\n",
    "df_weights = pd.DataFrame(weights, columns=cols)\n",
    "df_weights"
   ]
  },
  {
   "cell_type": "code",
   "execution_count": null,
   "metadata": {},
   "outputs": [],
   "source": []
  },
  {
   "cell_type": "code",
   "execution_count": 488,
   "metadata": {},
   "outputs": [
    {
     "name": "stderr",
     "output_type": "stream",
     "text": [
      "No handles with labels found to put in legend.\n"
     ]
    },
    {
     "data": {
      "image/png": "[encoded data removed]",
      "text/plain": [
       "<Figure size 1440x1296 with 4 Axes>"
      ]
     },
     "metadata": {
      "needs_background": "light"
     },
     "output_type": "display_data"
    }
   ],
   "source": [
    "# loss\n",
    "plt.figure(figsize=(20, 18))\n",
    "plt.subplot(2, 2, 1)\n",
    "x = np.arange(0, epoches)\n",
    "plt.plot(x, losses_train, label='train')\n",
    "plt.plot(x, losses_test, label='test')\n",
    "plt.title('LOSS')\n",
    "plt.xlabel('epoch')\n",
    "plt.ylabel('loss')\n",
    "\n",
    "\n",
    "# 计算 auc, 真阳率(true positive rate), 真阴率(true negative rate)\n",
    "from sklearn.metrics import confusion_matrix, roc_auc_score\n",
    "label_true = df_test['label'].to_numpy()\n",
    "aucs, tprs, tnrs = [], [], []\n",
    "theshold = 0.5\n",
    "\n",
    "for pred in predictions:\n",
    "    aucs.append(roc_auc_score(label_true, pred))\n",
    "    tmp = pred.copy()\n",
    "    tmp[tmp >= theshold] = 1\n",
    "    tmp[tmp < theshold] = 0\n",
    "    tn, fp, fn, tp = confusion_matrix(label_true, tmp).ravel()\n",
    "    tprs.append(tp/(tp+fn))\n",
    "    tnrs.append(tn/(tn+fp))\n",
    "\n",
    "# plt.figure(figsize=(10, 18))\n",
    "tittle = 'AUC TPR TNR'.split()\n",
    "x = np.arange(0, epoches)\n",
    "for index, matric in enumerate([aucs, tprs, tprs]):\n",
    "    plt.subplot(2, 2, index+2)\n",
    "    plt.plot(x, matric)\n",
    "    plt.title(tittle[index])\n",
    "    plt.xlabel('epoch')\n",
    "    plt.ylabel(tittle[index])\n",
    "plt.legend()\n",
    "plt.show()"
   ]
  },
  {
   "cell_type": "code",
   "execution_count": null,
   "metadata": {},
   "outputs": [],
   "source": []
  }
 ],
 "metadata": {
  "interpreter": {
   "hash": "bf3955dab283c8f8bf6f4ee4cf1e080c7100f27f8503bd99d998f370c95447ff"
  },
  "kernelspec": {
   "display_name": "cv_py36_test",
   "language": "python",
   "name": "python3"
  },
  "language_info": {
   "codemirror_mode": {
    "name": "ipython",
    "version": 3
   },
   "file_extension": ".py",
   "mimetype": "text/x-python",
   "name": "python",
   "nbconvert_exporter": "python",
   "pygments_lexer": "ipython3",
   "version": "3.8.8"
  },
  "orig_nbformat": 4
 },
 "nbformat": 4,
 "nbformat_minor": 2
}
