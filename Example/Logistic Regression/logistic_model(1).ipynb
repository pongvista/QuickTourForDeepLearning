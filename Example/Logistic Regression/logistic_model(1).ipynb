{
 "cells": [
  {
   "cell_type": "code",
   "execution_count": 598,
   "metadata": {},
   "outputs": [
    {
     "data": {
      "text/plain": [
       "'/Users/panxingnan/QuickTourForDeepLearning/Example/Logistic Regression'"
      ]
     },
     "execution_count": 598,
     "metadata": {},
     "output_type": "execute_result"
    }
   ],
   "source": [
    "import torch\n",
    "from torch.utils.data import Dataset, DataLoader\n",
    "from torch import nn\n",
    "\n",
    "import pandas as pd\n",
    "import numpy as np\n",
    "from matplotlib import pyplot as plt\n",
    "import time\n",
    "from IPython.display import display, clear_output\n",
    "import os, sys\n",
    "os.getcwd()"
   ]
  },
  {
   "cell_type": "markdown",
   "metadata": {},
   "source": [
    "# 一、配置学习环境  \n",
    "\n",
    "![配置学习环境](./sources/0.procedure.png) "
   ]
  },
  {
   "cell_type": "markdown",
   "metadata": {},
   "source": [
    "## 1. 界定任务  \n",
    "\n",
    "应用领域：结构化数据  \n",
    "\n",
    "结果类型：2分类  \n",
    "\n",
    "![界定任务](./sources/1.task.png)  "
   ]
  },
  {
   "cell_type": "code",
   "execution_count": 599,
   "metadata": {},
   "outputs": [
    {
     "data": {
      "text/html": [
       "<div>\n",
       "<style scoped>\n",
       "    .dataframe tbody tr th:only-of-type {\n",
       "        vertical-align: middle;\n",
       "    }\n",
       "\n",
       "    .dataframe tbody tr th {\n",
       "        vertical-align: top;\n",
       "    }\n",
       "\n",
       "    .dataframe thead th {\n",
       "        text-align: right;\n",
       "    }\n",
       "</style>\n",
       "<table border=\"1\" class=\"dataframe\">\n",
       "  <thead>\n",
       "    <tr style=\"text-align: right;\">\n",
       "      <th></th>\n",
       "      <th>Kerne_A</th>\n",
       "      <th>Cyto_A</th>\n",
       "      <th>K/C</th>\n",
       "      <th>Kerne_Ycol</th>\n",
       "      <th>Cyto_Ycol</th>\n",
       "      <th>KerneShort</th>\n",
       "      <th>KerneLong</th>\n",
       "      <th>KerneElong</th>\n",
       "      <th>KerneRund</th>\n",
       "      <th>CytoShort</th>\n",
       "      <th>...</th>\n",
       "      <th>KernePeri</th>\n",
       "      <th>CytoPeri</th>\n",
       "      <th>KernePos</th>\n",
       "      <th>KerneMax</th>\n",
       "      <th>KerneMin</th>\n",
       "      <th>CytoMax</th>\n",
       "      <th>CytoMin</th>\n",
       "      <th>Class</th>\n",
       "      <th>ClassName1</th>\n",
       "      <th>ClassName2</th>\n",
       "    </tr>\n",
       "  </thead>\n",
       "  <tbody>\n",
       "    <tr>\n",
       "      <th>0</th>\n",
       "      <td>803.5</td>\n",
       "      <td>27804.1</td>\n",
       "      <td>0.0</td>\n",
       "      <td>85.9</td>\n",
       "      <td>192.5</td>\n",
       "      <td>29.8</td>\n",
       "      <td>34.8</td>\n",
       "      <td>0.9</td>\n",
       "      <td>0.8</td>\n",
       "      <td>181.6</td>\n",
       "      <td>...</td>\n",
       "      <td>101.4</td>\n",
       "      <td>673.5</td>\n",
       "      <td>0.2</td>\n",
       "      <td>44</td>\n",
       "      <td>37</td>\n",
       "      <td>649</td>\n",
       "      <td>655</td>\n",
       "      <td>1</td>\n",
       "      <td>normal_superficiel</td>\n",
       "      <td>normal</td>\n",
       "    </tr>\n",
       "    <tr>\n",
       "      <th>1</th>\n",
       "      <td>610.1</td>\n",
       "      <td>18067.9</td>\n",
       "      <td>0.0</td>\n",
       "      <td>81.5</td>\n",
       "      <td>153.4</td>\n",
       "      <td>25.3</td>\n",
       "      <td>30.8</td>\n",
       "      <td>0.8</td>\n",
       "      <td>0.8</td>\n",
       "      <td>171.1</td>\n",
       "      <td>...</td>\n",
       "      <td>85.2</td>\n",
       "      <td>597.0</td>\n",
       "      <td>0.0</td>\n",
       "      <td>36</td>\n",
       "      <td>26</td>\n",
       "      <td>502</td>\n",
       "      <td>504</td>\n",
       "      <td>1</td>\n",
       "      <td>normal_superficiel</td>\n",
       "      <td>normal</td>\n",
       "    </tr>\n",
       "    <tr>\n",
       "      <th>2</th>\n",
       "      <td>990.4</td>\n",
       "      <td>79029.9</td>\n",
       "      <td>0.0</td>\n",
       "      <td>77.8</td>\n",
       "      <td>118.0</td>\n",
       "      <td>33.6</td>\n",
       "      <td>38.3</td>\n",
       "      <td>0.9</td>\n",
       "      <td>0.9</td>\n",
       "      <td>290.3</td>\n",
       "      <td>...</td>\n",
       "      <td>111.8</td>\n",
       "      <td>1059.1</td>\n",
       "      <td>0.1</td>\n",
       "      <td>53</td>\n",
       "      <td>37</td>\n",
       "      <td>2267</td>\n",
       "      <td>2500</td>\n",
       "      <td>1</td>\n",
       "      <td>normal_superficiel</td>\n",
       "      <td>normal</td>\n",
       "    </tr>\n",
       "  </tbody>\n",
       "</table>\n",
       "<p>3 rows × 23 columns</p>\n",
       "</div>"
      ],
      "text/plain": [
       "   Kerne_A   Cyto_A  K/C  Kerne_Ycol  Cyto_Ycol  KerneShort  KerneLong  \\\n",
       "0    803.5  27804.1  0.0        85.9      192.5        29.8       34.8   \n",
       "1    610.1  18067.9  0.0        81.5      153.4        25.3       30.8   \n",
       "2    990.4  79029.9  0.0        77.8      118.0        33.6       38.3   \n",
       "\n",
       "   KerneElong  KerneRund  CytoShort  ...  KernePeri  CytoPeri  KernePos  \\\n",
       "0         0.9        0.8      181.6  ...      101.4     673.5       0.2   \n",
       "1         0.8        0.8      171.1  ...       85.2     597.0       0.0   \n",
       "2         0.9        0.9      290.3  ...      111.8    1059.1       0.1   \n",
       "\n",
       "   KerneMax  KerneMin  CytoMax  CytoMin  Class          ClassName1  ClassName2  \n",
       "0        44        37      649      655      1  normal_superficiel      normal  \n",
       "1        36        26      502      504      1  normal_superficiel      normal  \n",
       "2        53        37     2267     2500      1  normal_superficiel      normal  \n",
       "\n",
       "[3 rows x 23 columns]"
      ]
     },
     "execution_count": 599,
     "metadata": {},
     "output_type": "execute_result"
    }
   ],
   "source": [
    "path_data = './data/new_database_results.xls'\n",
    "data = pd.read_excel(path_data, sheet_name='results')\n",
    "data.iloc[0:3, 1:].round(1)"
   ]
  },
  {
   "cell_type": "markdown",
   "metadata": {},
   "source": [
    "Kerne_A：核面积  \n",
    "Cyto_A：浆面积  \n",
    "K/C：核浆比  \n",
    "Kerne_Ycol：核颜色  \n",
    "Cyto_Ycol：浆颜色  \n",
    "KerneShort：核短轴  \n",
    "KerneLong：核长轴  \n",
    "KerneRund：核圆度  \n",
    "CytoShort：浆短轴  \n",
    "CytoLong：浆长轴  \n",
    "CytoRund：浆圆度  "
   ]
  },
  {
   "cell_type": "markdown",
   "metadata": {},
   "source": [
    "## 2. 准备数据\n",
    "\n",
    "数据标注：强监督\n",
    "\n",
    "![准备数据](./sources/2.data1.png)  \n",
    "  \n",
    "  \n",
    "数据集：只生成训练集和测试集  \n",
    "\n",
    "![准备数据](./sources/2.data2.png)  "
   ]
  },
  {
   "cell_type": "markdown",
   "metadata": {},
   "source": [
    "### 2-1. 采集数据"
   ]
  },
  {
   "cell_type": "markdown",
   "metadata": {},
   "source": [
    "### 2-2. 检查、清洗数据  \n",
    "\n",
    "- 唯一性  \n",
    "\n",
    "- 一致性  \n",
    "\n",
    "- 完整性  \n",
    "\n",
    "- 准确性  "
   ]
  },
  {
   "cell_type": "markdown",
   "metadata": {},
   "source": [
    "### 2-3. 预处理数据  \n",
    "\n",
    "- 去掉不必要的列  \n",
    "\n",
    "- 生成分类标签  \n",
    "\n",
    "- 将特征归一化  \n"
   ]
  },
  {
   "cell_type": "code",
   "execution_count": 601,
   "metadata": {},
   "outputs": [],
   "source": [
    "# 去掉不必要的列\n",
    "df = data.drop(['ID', 'ClassName1', 'ClassName2'], axis=1)"
   ]
  },
  {
   "cell_type": "code",
   "execution_count": 602,
   "metadata": {},
   "outputs": [
    {
     "name": "stdout",
     "output_type": "stream",
     "text": [
      "2分类标签\n"
     ]
    },
    {
     "data": {
      "text/html": [
       "<div>\n",
       "<style scoped>\n",
       "    .dataframe tbody tr th:only-of-type {\n",
       "        vertical-align: middle;\n",
       "    }\n",
       "\n",
       "    .dataframe tbody tr th {\n",
       "        vertical-align: top;\n",
       "    }\n",
       "\n",
       "    .dataframe thead th {\n",
       "        text-align: right;\n",
       "    }\n",
       "</style>\n",
       "<table border=\"1\" class=\"dataframe\">\n",
       "  <thead>\n",
       "    <tr style=\"text-align: right;\">\n",
       "      <th></th>\n",
       "      <th>Class</th>\n",
       "      <th>label</th>\n",
       "    </tr>\n",
       "  </thead>\n",
       "  <tbody>\n",
       "    <tr>\n",
       "      <th>0</th>\n",
       "      <td>1</td>\n",
       "      <td>0</td>\n",
       "    </tr>\n",
       "    <tr>\n",
       "      <th>74</th>\n",
       "      <td>2</td>\n",
       "      <td>0</td>\n",
       "    </tr>\n",
       "    <tr>\n",
       "      <th>144</th>\n",
       "      <td>3</td>\n",
       "      <td>0</td>\n",
       "    </tr>\n",
       "    <tr>\n",
       "      <th>242</th>\n",
       "      <td>4</td>\n",
       "      <td>1</td>\n",
       "    </tr>\n",
       "    <tr>\n",
       "      <th>424</th>\n",
       "      <td>5</td>\n",
       "      <td>1</td>\n",
       "    </tr>\n",
       "    <tr>\n",
       "      <th>570</th>\n",
       "      <td>6</td>\n",
       "      <td>1</td>\n",
       "    </tr>\n",
       "    <tr>\n",
       "      <th>767</th>\n",
       "      <td>7</td>\n",
       "      <td>1</td>\n",
       "    </tr>\n",
       "  </tbody>\n",
       "</table>\n",
       "</div>"
      ],
      "text/plain": [
       "     Class label\n",
       "0        1     0\n",
       "74       2     0\n",
       "144      3     0\n",
       "242      4     1\n",
       "424      5     1\n",
       "570      6     1\n",
       "767      7     1"
      ]
     },
     "execution_count": 602,
     "metadata": {},
     "output_type": "execute_result"
    }
   ],
   "source": [
    "# 生成分类标签\n",
    "bins = [0, 3, 7]\n",
    "df['label'] = pd.cut(df['Class'], bins=bins, labels=[0, 1])\n",
    "print('2分类标签')\n",
    "df[['Class', 'label']].drop_duplicates()"
   ]
  },
  {
   "cell_type": "code",
   "execution_count": 603,
   "metadata": {},
   "outputs": [
    {
     "name": "stdout",
     "output_type": "stream",
     "text": [
      "归一化前数值\n"
     ]
    },
    {
     "data": {
      "text/html": [
       "<div>\n",
       "<style scoped>\n",
       "    .dataframe tbody tr th:only-of-type {\n",
       "        vertical-align: middle;\n",
       "    }\n",
       "\n",
       "    .dataframe tbody tr th {\n",
       "        vertical-align: top;\n",
       "    }\n",
       "\n",
       "    .dataframe thead th {\n",
       "        text-align: right;\n",
       "    }\n",
       "</style>\n",
       "<table border=\"1\" class=\"dataframe\">\n",
       "  <thead>\n",
       "    <tr style=\"text-align: right;\">\n",
       "      <th></th>\n",
       "      <th>Kerne_A</th>\n",
       "      <th>Cyto_A</th>\n",
       "      <th>K/C</th>\n",
       "      <th>Kerne_Ycol</th>\n",
       "      <th>Cyto_Ycol</th>\n",
       "      <th>KerneShort</th>\n",
       "      <th>KerneLong</th>\n",
       "      <th>KerneElong</th>\n",
       "      <th>KerneRund</th>\n",
       "      <th>CytoShort</th>\n",
       "      <th>CytoLong</th>\n",
       "      <th>CytoElong</th>\n",
       "      <th>CytoRund</th>\n",
       "      <th>KernePeri</th>\n",
       "      <th>CytoPeri</th>\n",
       "      <th>KernePos</th>\n",
       "      <th>KerneMax</th>\n",
       "      <th>KerneMin</th>\n",
       "      <th>CytoMax</th>\n",
       "      <th>CytoMin</th>\n",
       "    </tr>\n",
       "  </thead>\n",
       "  <tbody>\n",
       "    <tr>\n",
       "      <th>0</th>\n",
       "      <td>803.500</td>\n",
       "      <td>27804.125</td>\n",
       "      <td>0.028087</td>\n",
       "      <td>85.866083</td>\n",
       "      <td>192.524631</td>\n",
       "      <td>29.832191</td>\n",
       "      <td>34.828150</td>\n",
       "      <td>0.856554</td>\n",
       "      <td>0.843403</td>\n",
       "      <td>181.574886</td>\n",
       "      <td>242.043385</td>\n",
       "      <td>0.750175</td>\n",
       "      <td>0.604273</td>\n",
       "      <td>101.375</td>\n",
       "      <td>673.500</td>\n",
       "      <td>0.230067</td>\n",
       "      <td>44</td>\n",
       "      <td>37</td>\n",
       "      <td>649</td>\n",
       "      <td>655</td>\n",
       "    </tr>\n",
       "    <tr>\n",
       "      <th>1</th>\n",
       "      <td>610.125</td>\n",
       "      <td>18067.875</td>\n",
       "      <td>0.032665</td>\n",
       "      <td>81.531353</td>\n",
       "      <td>153.439838</td>\n",
       "      <td>25.319871</td>\n",
       "      <td>30.805844</td>\n",
       "      <td>0.821918</td>\n",
       "      <td>0.818583</td>\n",
       "      <td>171.108766</td>\n",
       "      <td>197.570241</td>\n",
       "      <td>0.866065</td>\n",
       "      <td>0.589351</td>\n",
       "      <td>85.250</td>\n",
       "      <td>597.000</td>\n",
       "      <td>0.043701</td>\n",
       "      <td>36</td>\n",
       "      <td>26</td>\n",
       "      <td>502</td>\n",
       "      <td>504</td>\n",
       "    </tr>\n",
       "    <tr>\n",
       "      <th>2</th>\n",
       "      <td>990.375</td>\n",
       "      <td>79029.875</td>\n",
       "      <td>0.012377</td>\n",
       "      <td>77.843655</td>\n",
       "      <td>118.001177</td>\n",
       "      <td>33.552901</td>\n",
       "      <td>38.327536</td>\n",
       "      <td>0.875425</td>\n",
       "      <td>0.858397</td>\n",
       "      <td>290.250246</td>\n",
       "      <td>355.803316</td>\n",
       "      <td>0.815760</td>\n",
       "      <td>0.794843</td>\n",
       "      <td>111.750</td>\n",
       "      <td>1059.125</td>\n",
       "      <td>0.141150</td>\n",
       "      <td>53</td>\n",
       "      <td>37</td>\n",
       "      <td>2267</td>\n",
       "      <td>2500</td>\n",
       "    </tr>\n",
       "  </tbody>\n",
       "</table>\n",
       "</div>"
      ],
      "text/plain": [
       "   Kerne_A     Cyto_A       K/C  Kerne_Ycol   Cyto_Ycol  KerneShort  \\\n",
       "0  803.500  27804.125  0.028087   85.866083  192.524631   29.832191   \n",
       "1  610.125  18067.875  0.032665   81.531353  153.439838   25.319871   \n",
       "2  990.375  79029.875  0.012377   77.843655  118.001177   33.552901   \n",
       "\n",
       "   KerneLong  KerneElong  KerneRund   CytoShort    CytoLong  CytoElong  \\\n",
       "0  34.828150    0.856554   0.843403  181.574886  242.043385   0.750175   \n",
       "1  30.805844    0.821918   0.818583  171.108766  197.570241   0.866065   \n",
       "2  38.327536    0.875425   0.858397  290.250246  355.803316   0.815760   \n",
       "\n",
       "   CytoRund  KernePeri  CytoPeri  KernePos  KerneMax  KerneMin  CytoMax  \\\n",
       "0  0.604273    101.375   673.500  0.230067        44        37      649   \n",
       "1  0.589351     85.250   597.000  0.043701        36        26      502   \n",
       "2  0.794843    111.750  1059.125  0.141150        53        37     2267   \n",
       "\n",
       "   CytoMin  \n",
       "0      655  \n",
       "1      504  \n",
       "2     2500  "
      ]
     },
     "execution_count": 603,
     "metadata": {},
     "output_type": "execute_result"
    }
   ],
   "source": [
    "# 将特征归一化\n",
    "label = df['label']\n",
    "feature = df.drop(['Class', 'label'], axis=1)\n",
    "\n",
    "print('归一化前数值')\n",
    "feature.head(3)"
   ]
  },
  {
   "cell_type": "code",
   "execution_count": 604,
   "metadata": {},
   "outputs": [
    {
     "name": "stdout",
     "output_type": "stream",
     "text": [
      "归一化后数值\n"
     ]
    },
    {
     "data": {
      "text/html": [
       "<div>\n",
       "<style scoped>\n",
       "    .dataframe tbody tr th:only-of-type {\n",
       "        vertical-align: middle;\n",
       "    }\n",
       "\n",
       "    .dataframe tbody tr th {\n",
       "        vertical-align: top;\n",
       "    }\n",
       "\n",
       "    .dataframe thead th {\n",
       "        text-align: right;\n",
       "    }\n",
       "</style>\n",
       "<table border=\"1\" class=\"dataframe\">\n",
       "  <thead>\n",
       "    <tr style=\"text-align: right;\">\n",
       "      <th></th>\n",
       "      <th>Kerne_A</th>\n",
       "      <th>Cyto_A</th>\n",
       "      <th>K/C</th>\n",
       "      <th>Kerne_Ycol</th>\n",
       "      <th>Cyto_Ycol</th>\n",
       "      <th>KerneShort</th>\n",
       "      <th>KerneLong</th>\n",
       "      <th>KerneElong</th>\n",
       "      <th>KerneRund</th>\n",
       "      <th>CytoShort</th>\n",
       "      <th>CytoLong</th>\n",
       "      <th>CytoElong</th>\n",
       "      <th>CytoRund</th>\n",
       "      <th>KernePeri</th>\n",
       "      <th>CytoPeri</th>\n",
       "      <th>KernePos</th>\n",
       "      <th>KerneMax</th>\n",
       "      <th>KerneMin</th>\n",
       "      <th>CytoMax</th>\n",
       "      <th>CytoMin</th>\n",
       "    </tr>\n",
       "  </thead>\n",
       "  <tbody>\n",
       "    <tr>\n",
       "      <th>0</th>\n",
       "      <td>-1.164601</td>\n",
       "      <td>0.675432</td>\n",
       "      <td>-1.539731</td>\n",
       "      <td>-0.212305</td>\n",
       "      <td>2.125615</td>\n",
       "      <td>-1.208496</td>\n",
       "      <td>-1.564634</td>\n",
       "      <td>0.678200</td>\n",
       "      <td>0.891219</td>\n",
       "      <td>0.882348</td>\n",
       "      <td>0.781148</td>\n",
       "      <td>0.328428</td>\n",
       "      <td>1.291274</td>\n",
       "      <td>-1.471815</td>\n",
       "      <td>0.667500</td>\n",
       "      <td>-0.268492</td>\n",
       "      <td>-1.111085</td>\n",
       "      <td>-0.905485</td>\n",
       "      <td>0.366248</td>\n",
       "      <td>0.372045</td>\n",
       "    </tr>\n",
       "    <tr>\n",
       "      <th>1</th>\n",
       "      <td>-1.267560</td>\n",
       "      <td>0.197172</td>\n",
       "      <td>-1.518272</td>\n",
       "      <td>-0.411325</td>\n",
       "      <td>0.563027</td>\n",
       "      <td>-1.449092</td>\n",
       "      <td>-1.737695</td>\n",
       "      <td>0.456926</td>\n",
       "      <td>0.730725</td>\n",
       "      <td>0.736792</td>\n",
       "      <td>0.288009</td>\n",
       "      <td>0.981822</td>\n",
       "      <td>1.204862</td>\n",
       "      <td>-1.709653</td>\n",
       "      <td>0.389174</td>\n",
       "      <td>-1.397596</td>\n",
       "      <td>-1.250199</td>\n",
       "      <td>-1.106092</td>\n",
       "      <td>0.134320</td>\n",
       "      <td>0.129158</td>\n",
       "    </tr>\n",
       "    <tr>\n",
       "      <th>2</th>\n",
       "      <td>-1.065103</td>\n",
       "      <td>3.191719</td>\n",
       "      <td>-1.613363</td>\n",
       "      <td>-0.580639</td>\n",
       "      <td>-0.853791</td>\n",
       "      <td>-1.010109</td>\n",
       "      <td>-1.414071</td>\n",
       "      <td>0.798760</td>\n",
       "      <td>0.988172</td>\n",
       "      <td>2.393732</td>\n",
       "      <td>2.042572</td>\n",
       "      <td>0.698200</td>\n",
       "      <td>2.394885</td>\n",
       "      <td>-1.318787</td>\n",
       "      <td>2.070500</td>\n",
       "      <td>-0.807197</td>\n",
       "      <td>-0.954583</td>\n",
       "      <td>-0.905485</td>\n",
       "      <td>2.919033</td>\n",
       "      <td>3.339759</td>\n",
       "    </tr>\n",
       "  </tbody>\n",
       "</table>\n",
       "</div>"
      ],
      "text/plain": [
       "    Kerne_A    Cyto_A       K/C  Kerne_Ycol  Cyto_Ycol  KerneShort  KerneLong  \\\n",
       "0 -1.164601  0.675432 -1.539731   -0.212305   2.125615   -1.208496  -1.564634   \n",
       "1 -1.267560  0.197172 -1.518272   -0.411325   0.563027   -1.449092  -1.737695   \n",
       "2 -1.065103  3.191719 -1.613363   -0.580639  -0.853791   -1.010109  -1.414071   \n",
       "\n",
       "   KerneElong  KerneRund  CytoShort  CytoLong  CytoElong  CytoRund  KernePeri  \\\n",
       "0    0.678200   0.891219   0.882348  0.781148   0.328428  1.291274  -1.471815   \n",
       "1    0.456926   0.730725   0.736792  0.288009   0.981822  1.204862  -1.709653   \n",
       "2    0.798760   0.988172   2.393732  2.042572   0.698200  2.394885  -1.318787   \n",
       "\n",
       "   CytoPeri  KernePos  KerneMax  KerneMin   CytoMax   CytoMin  \n",
       "0  0.667500 -0.268492 -1.111085 -0.905485  0.366248  0.372045  \n",
       "1  0.389174 -1.397596 -1.250199 -1.106092  0.134320  0.129158  \n",
       "2  2.070500 -0.807197 -0.954583 -0.905485  2.919033  3.339759  "
      ]
     },
     "execution_count": 604,
     "metadata": {},
     "output_type": "execute_result"
    }
   ],
   "source": [
    "feature = (feature - feature.mean())/feature.std()\n",
    "print('归一化后数值')\n",
    "feature.head(3)"
   ]
  },
  {
   "cell_type": "markdown",
   "metadata": {},
   "source": [
    "### 2-4. 划分训练集和测试集"
   ]
  },
  {
   "cell_type": "code",
   "execution_count": 605,
   "metadata": {},
   "outputs": [
    {
     "name": "stdout",
     "output_type": "stream",
     "text": [
      "训练集占80%数据\n",
      "1    542\n",
      "0    192\n",
      "Name: label, dtype: int64\n",
      "测试集占20%数据\n",
      "1    133\n",
      "0     50\n",
      "Name: label, dtype: int64\n"
     ]
    }
   ],
   "source": [
    "feature['label'] = label\n",
    "df_preprocess = feature\n",
    "\n",
    "df_train = df_preprocess.sample(frac=0.8, axis=0)\n",
    "df_test = df_preprocess[~df_preprocess.index.isin(df_train.index)]\n",
    "\n",
    "print('训练集占80%数据')\n",
    "print(df_train['label'].value_counts())\n",
    "print('测试集占20%数据')\n",
    "print(df_test['label'].value_counts())"
   ]
  },
  {
   "cell_type": "code",
   "execution_count": 606,
   "metadata": {},
   "outputs": [],
   "source": [
    "class MyDataset(Dataset):\n",
    "    def __init__(self, df:pd.DataFrame):\n",
    "        feature = df.iloc[:, 0:(-1)].values\n",
    "        label = df.iloc[:, -1].values\n",
    "\n",
    "        self.feature = torch.tensor(feature, dtype=torch.float32)\n",
    "        self.label = torch.tensor(label, dtype=torch.float32)\n",
    "    \n",
    "    def __len__(self):\n",
    "        return len(self.feature)\n",
    "    \n",
    "    def __getitem__(self, index):\n",
    "        return self.feature[index], self.label[index]\n",
    "\n",
    "ds_train = MyDataset(df_train)\n",
    "ds_test = MyDataset(df_test)"
   ]
  },
  {
   "cell_type": "markdown",
   "metadata": {},
   "source": [
    "## 3. 定义模型结构  \n",
    "\n",
    "模型：Logistics（只有一个神经元的神经网络）  \n",
    "\n",
    "![定义模型结构](./sources/3.model.png) "
   ]
  },
  {
   "cell_type": "code",
   "execution_count": 607,
   "metadata": {},
   "outputs": [],
   "source": [
    "class LogisticRegression(nn.Module):\n",
    "    def __init__(self, input_dim):\n",
    "        super(LogisticRegression, self).__init__()\n",
    "\n",
    "        # 线性层\n",
    "        self.linear = nn.Linear(input_dim, 1)\n",
    "        \n",
    "        # 激活函数\n",
    "        self.activation_function = nn.Sigmoid()\n",
    "\n",
    "    def forward(self, x):\n",
    "        x = self.linear(x)\n",
    "        x = self.activation_function(x)\n",
    "        return x\n",
    "\n",
    "LR = LogisticRegression(df_train.shape[1] - 1)"
   ]
  },
  {
   "cell_type": "markdown",
   "metadata": {},
   "source": [
    "## 4. 选择目标函数\n",
    "\n",
    "目标函数：交叉熵损失  \n",
    "\n",
    "![选择目标函数](./sources/4.obj_function.png) "
   ]
  },
  {
   "cell_type": "code",
   "execution_count": 608,
   "metadata": {},
   "outputs": [],
   "source": [
    "loss_function = torch.nn.BCELoss()"
   ]
  },
  {
   "cell_type": "markdown",
   "metadata": {},
   "source": [
    "## 5. 选择优化器\n",
    "\n",
    "优化器：随机梯度下降  \n",
    "\n",
    "学习率：0.01  \n",
    "\n",
    "![选择优化器](./sources/5.optimization.png) "
   ]
  },
  {
   "cell_type": "code",
   "execution_count": 609,
   "metadata": {},
   "outputs": [],
   "source": [
    "learning_rate=0.1\n",
    "optimizer = torch.optim.SGD(LR.parameters(), lr=learning_rate)"
   ]
  },
  {
   "cell_type": "markdown",
   "metadata": {},
   "source": [
    "# 二、学习过程\n",
    "\n",
    "![学习过程](./sources/0.procedure.png) "
   ]
  },
  {
   "cell_type": "markdown",
   "metadata": {},
   "source": [
    "### a. 初始化权重\n",
    "将权重全部初始化为 1, 将偏置初始化为 0"
   ]
  },
  {
   "cell_type": "code",
   "execution_count": 610,
   "metadata": {},
   "outputs": [
    {
     "data": {
      "text/plain": [
       "(array([1., 1., 1., 1., 1., 1., 1., 1., 1., 1., 1., 1., 1., 1., 1., 1., 1.,\n",
       "        1., 1., 1.], dtype=float32),\n",
       " array(0., dtype=float32))"
      ]
     },
     "execution_count": 610,
     "metadata": {},
     "output_type": "execute_result"
    }
   ],
   "source": [
    "nn.init.constant_(LR.linear.weight, 1)\n",
    "nn.init.constant_(LR.linear.bias, 0)\n",
    "LR.linear.weight.squeeze().detach().numpy(), LR.linear.bias.squeeze().detach().numpy()"
   ]
  },
  {
   "cell_type": "code",
   "execution_count": 611,
   "metadata": {},
   "outputs": [],
   "source": [
    "def get_round_weight(vector, lr=None):\n",
    "    '''\n",
    "    与模型无关\n",
    "    用于获取核浆比, 核颜色和核圆度相关向量的输出字符串, 小数取 4 位\n",
    "    '''\n",
    "    lr = 1 if lr is None else -lr\n",
    "    result = vector[:, [2, 3, 9]].squeeze() * lr\n",
    "    result = result.detach().tolist()\n",
    "    result = ['{:.4f}'.format(x) for x in result]\n",
    "    return result"
   ]
  },
  {
   "cell_type": "markdown",
   "metadata": {},
   "source": [
    "## 1. 第一个循环\n",
    "我们选出三个比较关键的参数`核浆比, 核颜色和核圆度`, 并观察他们的权重变化"
   ]
  },
  {
   "cell_type": "markdown",
   "metadata": {},
   "source": [
    "### a. 预测结果\n",
    "首先我们将特征数据输入模型, 然后直接让模型预测结果. 打印前10条记录的`预测结果`"
   ]
  },
  {
   "cell_type": "code",
   "execution_count": 612,
   "metadata": {},
   "outputs": [
    {
     "data": {
      "text/plain": [
       "tensor([[4.3282e-05],\n",
       "        [3.8824e-01],\n",
       "        [1.4641e-01],\n",
       "        [4.7256e-02],\n",
       "        [2.4841e-02],\n",
       "        [9.9236e-01],\n",
       "        [2.0974e-02],\n",
       "        [8.7013e-03],\n",
       "        [8.1735e-01],\n",
       "        [9.8497e-01]], grad_fn=<SliceBackward>)"
      ]
     },
     "execution_count": 612,
     "metadata": {},
     "output_type": "execute_result"
    }
   ],
   "source": [
    "LR.train(True)\n",
    "outputs = LR(ds_train.feature)\n",
    "outputs[:10]"
   ]
  },
  {
   "cell_type": "markdown",
   "metadata": {},
   "source": [
    "### b. 计算损失值\n",
    "然后我们通过`损失函数`去计算和衡量`预测结果与真实情况`之间差距"
   ]
  },
  {
   "cell_type": "code",
   "execution_count": 613,
   "metadata": {},
   "outputs": [
    {
     "data": {
      "text/plain": [
       "tensor(3.4953, grad_fn=<BinaryCrossEntropyBackward>)"
      ]
     },
     "execution_count": 613,
     "metadata": {},
     "output_type": "execute_result"
    }
   ],
   "source": [
    "loss = loss_function(outputs.squeeze(), ds_train.label)\n",
    "loss"
   ]
  },
  {
   "cell_type": "markdown",
   "metadata": {},
   "source": [
    "### c. 计算权重梯度\n",
    "当我们有损失值后, 我们需要通过`反向传播`的方式更新特征对应的系数值."
   ]
  },
  {
   "cell_type": "code",
   "execution_count": 614,
   "metadata": {},
   "outputs": [
    {
     "name": "stdout",
     "output_type": "stream",
     "text": [
      "当前梯度是: ['-0.3521', '-0.0515', '0.4476']\n"
     ]
    }
   ],
   "source": [
    "optimizer.zero_grad()\n",
    "loss.backward()\n",
    "cur_grad = get_round_weight(LR.linear.weight.grad)\n",
    "print('当前梯度是: {}'.format(cur_grad))"
   ]
  },
  {
   "cell_type": "markdown",
   "metadata": {},
   "source": [
    "### d. 更新权重\n",
    "我们用上面获得的梯度, 更新权重\n",
    "```\n",
    "新权重值 = 老权重值 + (学习率 * 梯度)\n",
    "```"
   ]
  },
  {
   "cell_type": "code",
   "execution_count": 615,
   "metadata": {},
   "outputs": [
    {
     "name": "stdout",
     "output_type": "stream",
     "text": [
      "当前循环次数 1:\n",
      "  之前的权重 : ['1.0000', '1.0000', '1.0000']\n",
      "  当前学习率 : 0.1\n",
      "  学习率*梯度: ['0.0352', '0.0052', '-0.0448']\n",
      "  更新后权重 : ['1.0352', '1.0052', '0.9552'] \n"
     ]
    }
   ],
   "source": [
    "last_weight=get_round_weight(LR.linear.weight)\n",
    "cur_update =get_round_weight(LR.linear.weight.grad, lr=learning_rate)\n",
    "optimizer.step()\n",
    "cur_weight=get_round_weight(LR.linear.weight)\n",
    "print('''当前循环次数 1:\n",
    "  之前的权重 : {}\n",
    "  当前学习率 : {}\n",
    "  学习率*梯度: {}\n",
    "  更新后权重 : {} '''.format(last_weight, learning_rate, cur_update, cur_weight))"
   ]
  },
  {
   "cell_type": "markdown",
   "metadata": {},
   "source": [
    "## 2. 第二个循环\n",
    "重复上面第一个循环"
   ]
  },
  {
   "cell_type": "markdown",
   "metadata": {},
   "source": [
    "### a. 预测结果"
   ]
  },
  {
   "cell_type": "code",
   "execution_count": 616,
   "metadata": {},
   "outputs": [
    {
     "data": {
      "text/plain": [
       "tensor([[5.5573e-05],\n",
       "        [2.8375e-01],\n",
       "        [1.7817e-01],\n",
       "        [3.2371e-02],\n",
       "        [2.8932e-02],\n",
       "        [9.9210e-01],\n",
       "        [2.5952e-02],\n",
       "        [9.7919e-03],\n",
       "        [8.4851e-01],\n",
       "        [9.8591e-01]], grad_fn=<SliceBackward>)"
      ]
     },
     "execution_count": 616,
     "metadata": {},
     "output_type": "execute_result"
    }
   ],
   "source": [
    "LR.train(True)\n",
    "outputs = LR(ds_train.feature)\n",
    "outputs[:10]"
   ]
  },
  {
   "cell_type": "markdown",
   "metadata": {},
   "source": [
    "### b. 计算损失"
   ]
  },
  {
   "cell_type": "code",
   "execution_count": 617,
   "metadata": {},
   "outputs": [
    {
     "data": {
      "text/plain": [
       "tensor(3.2287, grad_fn=<BinaryCrossEntropyBackward>)"
      ]
     },
     "execution_count": 617,
     "metadata": {},
     "output_type": "execute_result"
    }
   ],
   "source": [
    "loss = loss_function(outputs.squeeze(), ds_train.label)\n",
    "loss"
   ]
  },
  {
   "cell_type": "markdown",
   "metadata": {},
   "source": [
    "### c. 计算权重梯度"
   ]
  },
  {
   "cell_type": "code",
   "execution_count": 618,
   "metadata": {},
   "outputs": [
    {
     "name": "stdout",
     "output_type": "stream",
     "text": [
      "当前梯度是: ['-0.3428', '-0.0428', '0.4419']\n"
     ]
    }
   ],
   "source": [
    "optimizer.zero_grad()\n",
    "loss.backward()\n",
    "cur_grad = get_round_weight(LR.linear.weight.grad)\n",
    "print('当前梯度是: {}'.format(cur_grad))"
   ]
  },
  {
   "cell_type": "markdown",
   "metadata": {},
   "source": [
    "### d. 更新权重"
   ]
  },
  {
   "cell_type": "code",
   "execution_count": 619,
   "metadata": {},
   "outputs": [
    {
     "name": "stdout",
     "output_type": "stream",
     "text": [
      "当前循环次数 2:\n",
      "  之前的权重 : ['1.0352', '1.0052', '0.9552']\n",
      "  当前学习率 : 0.1\n",
      "  学习率*梯度: ['0.0343', '0.0043', '-0.0442']\n",
      "  更新后权重 : ['1.0695', '1.0094', '0.9110'] \n"
     ]
    }
   ],
   "source": [
    "last_weight=get_round_weight(LR.linear.weight)\n",
    "cur_update =get_round_weight(LR.linear.weight.grad, lr=learning_rate)\n",
    "optimizer.step()\n",
    "cur_weight=get_round_weight(LR.linear.weight)\n",
    "print('''当前循环次数 2:\n",
    "  之前的权重 : {}\n",
    "  当前学习率 : {}\n",
    "  学习率*梯度: {}\n",
    "  更新后权重 : {} '''.format(last_weight, learning_rate, cur_update, cur_weight))"
   ]
  },
  {
   "cell_type": "markdown",
   "metadata": {},
   "source": [
    "## 3. 全部循环\n",
    "观察`核浆比, 核颜色和核圆度`权重变化"
   ]
  },
  {
   "cell_type": "markdown",
   "metadata": {},
   "source": [
    "### 设置迭代次数"
   ]
  },
  {
   "cell_type": "code",
   "execution_count": 620,
   "metadata": {},
   "outputs": [],
   "source": [
    "epoches = 100"
   ]
  },
  {
   "cell_type": "code",
   "execution_count": 621,
   "metadata": {},
   "outputs": [
    {
     "name": "stdout",
     "output_type": "stream",
     "text": [
      "*************** 当前循环次数:  3 | 准确率: 0.53, 训练集/测试集损失值: 2.8510/2.6596\n",
      "    之前的权重 : ['1.0695', '1.0094', '0.9110']\n",
      "    梯度*学习率: ['0.0335', '0.0035', '-0.0442']\n",
      "    更新后权重 : ['1.1030', '1.0129', '0.8668']\n",
      "*************** 当前循环次数:  4 | 准确率: 0.54, 训练集/测试集损失值: 2.7044/2.5022\n",
      "    之前的权重 : ['1.1030', '1.0129', '0.8668']\n",
      "    梯度*学习率: ['0.0323', '0.0026', '-0.0432']\n",
      "    更新后权重 : ['1.1353', '1.0155', '0.8236']\n",
      "*************** 当前循环次数:  5 | 准确率: 0.54, 训练集/测试集损失值: 2.5645/2.3540\n",
      "    之前的权重 : ['1.1353', '1.0155', '0.8236']\n",
      "    梯度*学习率: ['0.0310', '0.0017', '-0.0421']\n",
      "    更新后权重 : ['1.1663', '1.0172', '0.7816']\n",
      "*************** 当前循环次数:  6 | 准确率: 0.58, 训练集/测试集损失值: 2.4320/2.2157\n",
      "    之前的权重 : ['1.1663', '1.0172', '0.7816']\n",
      "    梯度*学习率: ['0.0297', '0.0008', '-0.0409']\n",
      "    更新后权重 : ['1.1960', '1.0180', '0.7407']\n",
      "*************** 当前循环次数:  7 | 准确率: 0.59, 训练集/测试集损失值: 2.3066/2.0867\n",
      "    之前的权重 : ['1.1960', '1.0180', '0.7407']\n",
      "    梯度*学习率: ['0.0284', '-0.0001', '-0.0397']\n",
      "    更新后权重 : ['1.2244', '1.0180', '0.7010']\n",
      "*************** 当前循环次数:  8 | 准确率: 0.61, 训练集/测试集损失值: 2.1884/1.9673\n",
      "    之前的权重 : ['1.2244', '1.0180', '0.7010']\n",
      "    梯度*学习率: ['0.0271', '-0.0009', '-0.0384']\n",
      "    更新后权重 : ['1.2515', '1.0170', '0.6626']\n",
      "*************** 当前循环次数:  9 | 准确率: 0.64, 训练集/测试集损失值: 2.0774/1.8569\n",
      "    之前的权重 : ['1.2515', '1.0170', '0.6626']\n",
      "    梯度*学习率: ['0.0258', '-0.0018', '-0.0371']\n",
      "    更新后权重 : ['1.2773', '1.0153', '0.6255']\n",
      "*************** 当前循环次数: 10 | 准确率: 0.65, 训练集/测试集损失值: 1.9735/1.7552\n",
      "    之前的权重 : ['1.2773', '1.0153', '0.6255']\n",
      "    梯度*学习率: ['0.0245', '-0.0026', '-0.0357']\n",
      "    更新后权重 : ['1.3017', '1.0127', '0.5898']\n",
      "*************** 当前循环次数: 11 | 准确率: 0.65, 训练集/测试集损失值: 1.8769/1.6617\n",
      "    之前的权重 : ['1.3017', '1.0127', '0.5898']\n",
      "    梯度*学习率: ['0.0231', '-0.0034', '-0.0342']\n",
      "    更新后权重 : ['1.3249', '1.0093', '0.5557']\n",
      "*************** 当前循环次数: 12 | 准确率: 0.67, 训练集/测试集损失值: 1.7873/1.5760\n",
      "    之前的权重 : ['1.3249', '1.0093', '0.5557']\n",
      "    梯度*学习率: ['0.0218', '-0.0041', '-0.0326']\n",
      "    更新后权重 : ['1.3467', '1.0052', '0.5230']\n",
      "*************** 当前循环次数: 13 | 准确率: 0.67, 训练集/测试集损失值: 1.7046/1.4975\n",
      "    之前的权重 : ['1.3467', '1.0052', '0.5230']\n",
      "    梯度*学习率: ['0.0206', '-0.0049', '-0.0311']\n",
      "    更新后权重 : ['1.3673', '1.0003', '0.4920']\n",
      "*************** 当前循环次数: 14 | 准确率: 0.69, 训练集/测试集损失值: 1.6284/1.4259\n",
      "    之前的权重 : ['1.3673', '1.0003', '0.4920']\n",
      "    梯度*学习率: ['0.0193', '-0.0056', '-0.0295']\n",
      "    更新后权重 : ['1.3866', '0.9947', '0.4625']\n",
      "*************** 当前循环次数: 15 | 准确率: 0.70, 训练集/测试集损失值: 1.5583/1.3606\n",
      "    之前的权重 : ['1.3866', '0.9947', '0.4625']\n",
      "    梯度*学习率: ['0.0182', '-0.0062', '-0.0280']\n",
      "    更新后权重 : ['1.4048', '0.9885', '0.4344']\n",
      "*************** 当前循环次数: 16 | 准确率: 0.71, 训练集/测试集损失值: 1.4935/1.3008\n",
      "    之前的权重 : ['1.4048', '0.9885', '0.4344']\n",
      "    梯度*学习率: ['0.0171', '-0.0068', '-0.0266']\n",
      "    更新后权重 : ['1.4218', '0.9817', '0.4078']\n",
      "*************** 当前循环次数: 17 | 准确率: 0.72, 训练集/测试集损失值: 1.4336/1.2461\n",
      "    之前的权重 : ['1.4218', '0.9817', '0.4078']\n",
      "    梯度*学习率: ['0.0161', '-0.0073', '-0.0253']\n",
      "    更新后权重 : ['1.4379', '0.9744', '0.3824']\n",
      "*************** 当前循环次数: 18 | 准确率: 0.72, 训练集/测试集损失值: 1.3779/1.1957\n",
      "    之前的权重 : ['1.4379', '0.9744', '0.3824']\n",
      "    梯度*学习率: ['0.0151', '-0.0078', '-0.0242']\n",
      "    更新后权重 : ['1.4530', '0.9666', '0.3583']\n",
      "*************** 当前循环次数: 19 | 准确率: 0.73, 训练集/测试集损失值: 1.3258/1.1492\n",
      "    之前的权重 : ['1.4530', '0.9666', '0.3583']\n",
      "    梯度*学习率: ['0.0143', '-0.0082', '-0.0231']\n",
      "    更新后权重 : ['1.4673', '0.9584', '0.3352']\n",
      "*************** 当前循环次数: 20 | 准确率: 0.73, 训练集/测试集损失值: 1.2769/1.1060\n",
      "    之前的权重 : ['1.4673', '0.9584', '0.3352']\n",
      "    梯度*学习率: ['0.0135', '-0.0085', '-0.0221']\n",
      "    更新后权重 : ['1.4809', '0.9499', '0.3130']\n",
      "*************** 当前循环次数: 21 | 准确率: 0.74, 训练集/测试集损失值: 1.2307/1.0659\n",
      "    之前的权重 : ['1.4809', '0.9499', '0.3130']\n",
      "    梯度*学习率: ['0.0129', '-0.0088', '-0.0213']\n",
      "    更新后权重 : ['1.4937', '0.9411', '0.2917']\n",
      "*************** 当前循环次数: 22 | 准确率: 0.74, 训练集/测试集损失值: 1.1870/1.0284\n",
      "    之前的权重 : ['1.4937', '0.9411', '0.2917']\n",
      "    梯度*学习率: ['0.0122', '-0.0091', '-0.0205']\n",
      "    更新后权重 : ['1.5059', '0.9319', '0.2712']\n",
      "*************** 当前循环次数: 23 | 准确率: 0.75, 训练集/测试集损失值: 1.1454/0.9934\n",
      "    之前的权重 : ['1.5059', '0.9319', '0.2712']\n",
      "    梯度*学习率: ['0.0116', '-0.0093', '-0.0197']\n",
      "    更新后权重 : ['1.5175', '0.9226', '0.2515']\n",
      "*************** 当前循环次数: 24 | 准确率: 0.76, 训练集/测试集损失值: 1.1058/0.9604\n",
      "    之前的权重 : ['1.5175', '0.9226', '0.2515']\n",
      "    梯度*学习率: ['0.0111', '-0.0095', '-0.0191']\n",
      "    更新后权重 : ['1.5286', '0.9131', '0.2324']\n",
      "*************** 当前循环次数: 25 | 准确率: 0.76, 训练集/测试集损失值: 1.0680/0.9292\n",
      "    之前的权重 : ['1.5286', '0.9131', '0.2324']\n",
      "    梯度*学习率: ['0.0105', '-0.0097', '-0.0185']\n",
      "    更新后权重 : ['1.5391', '0.9034', '0.2140']\n",
      "*************** 当前循环次数: 26 | 准确率: 0.77, 训练集/测试集损失值: 1.0318/0.8997\n",
      "    之前的权重 : ['1.5391', '0.9034', '0.2140']\n",
      "    梯度*学习率: ['0.0100', '-0.0098', '-0.0179']\n",
      "    更新后权重 : ['1.5492', '0.8936', '0.1961']\n",
      "*************** 当前循环次数: 27 | 准确率: 0.78, 训练集/测试集损失值: 0.9971/0.8716\n",
      "    之前的权重 : ['1.5492', '0.8936', '0.1961']\n",
      "    梯度*学习率: ['0.0096', '-0.0099', '-0.0173']\n",
      "    更新后权重 : ['1.5587', '0.8837', '0.1788']\n",
      "*************** 当前循环次数: 28 | 准确率: 0.79, 训练集/测试集损失值: 0.9638/0.8449\n",
      "    之前的权重 : ['1.5587', '0.8837', '0.1788']\n",
      "    梯度*学习率: ['0.0091', '-0.0100', '-0.0168']\n",
      "    更新后权重 : ['1.5679', '0.8736', '0.1620']\n",
      "*************** 当前循环次数: 29 | 准确率: 0.80, 训练集/测试集损失值: 0.9319/0.8194\n",
      "    之前的权重 : ['1.5679', '0.8736', '0.1620']\n",
      "    梯度*学习率: ['0.0087', '-0.0101', '-0.0163']\n",
      "    更新后权重 : ['1.5765', '0.8635', '0.1456']\n",
      "*************** 当前循环次数: 30 | 准确率: 0.80, 训练集/测试集损失值: 0.9012/0.7951\n",
      "    之前的权重 : ['1.5765', '0.8635', '0.1456']\n",
      "    梯度*学习率: ['0.0083', '-0.0102', '-0.0159']\n",
      "    更新后权重 : ['1.5848', '0.8533', '0.1298']\n",
      "*************** 当前循环次数: 31 | 准确率: 0.80, 训练集/测试集损失值: 0.8718/0.7718\n",
      "    之前的权重 : ['1.5848', '0.8533', '0.1298']\n",
      "    梯度*学习率: ['0.0079', '-0.0102', '-0.0154']\n",
      "    更新后权重 : ['1.5927', '0.8431', '0.1143']\n",
      "*************** 当前循环次数: 32 | 准确率: 0.80, 训练集/测试集损失值: 0.8435/0.7495\n",
      "    之前的权重 : ['1.5927', '0.8431', '0.1143']\n",
      "    梯度*学习率: ['0.0075', '-0.0103', '-0.0150']\n",
      "    更新后权重 : ['1.6002', '0.8328', '0.0993']\n",
      "*************** 当前循环次数: 33 | 准确率: 0.80, 训练集/测试集损失值: 0.8163/0.7282\n",
      "    之前的权重 : ['1.6002', '0.8328', '0.0993']\n",
      "    梯度*学习率: ['0.0071', '-0.0103', '-0.0146']\n",
      "    更新后权重 : ['1.6073', '0.8225', '0.0848']\n",
      "*************** 当前循环次数: 34 | 准确率: 0.81, 训练集/测试集损失值: 0.7902/0.7078\n",
      "    之前的权重 : ['1.6073', '0.8225', '0.0848']\n",
      "    梯度*学习率: ['0.0068', '-0.0103', '-0.0142']\n",
      "    更新后权重 : ['1.6141', '0.8122', '0.0706']\n",
      "*************** 当前循环次数: 35 | 准确率: 0.82, 训练集/测试集损失值: 0.7651/0.6882\n",
      "    之前的权重 : ['1.6141', '0.8122', '0.0706']\n",
      "    梯度*学习率: ['0.0064', '-0.0103', '-0.0138']\n",
      "    更新后权重 : ['1.6205', '0.8019', '0.0568']\n",
      "*************** 当前循环次数: 36 | 准确率: 0.82, 训练集/测试集损失值: 0.7411/0.6694\n",
      "    之前的权重 : ['1.6205', '0.8019', '0.0568']\n",
      "    梯度*学习率: ['0.0061', '-0.0103', '-0.0134']\n",
      "    更新后权重 : ['1.6266', '0.7915', '0.0434']\n",
      "*************** 当前循环次数: 37 | 准确率: 0.82, 训练集/测试集损失值: 0.7180/0.6514\n",
      "    之前的权重 : ['1.6266', '0.7915', '0.0434']\n",
      "    梯度*学习率: ['0.0058', '-0.0103', '-0.0131']\n",
      "    更新后权重 : ['1.6324', '0.7812', '0.0303']\n",
      "*************** 当前循环次数: 38 | 准确率: 0.82, 训练集/测试集损失值: 0.6959/0.6342\n",
      "    之前的权重 : ['1.6324', '0.7812', '0.0303']\n",
      "    梯度*学习率: ['0.0054', '-0.0103', '-0.0127']\n",
      "    更新后权重 : ['1.6378', '0.7709', '0.0176']\n",
      "*************** 当前循环次数: 39 | 准确率: 0.82, 训练集/测试集损失值: 0.6746/0.6177\n",
      "    之前的权重 : ['1.6378', '0.7709', '0.0176']\n",
      "    梯度*学习率: ['0.0051', '-0.0103', '-0.0123']\n",
      "    更新后权重 : ['1.6429', '0.7605', '0.0053']\n",
      "*************** 当前循环次数: 40 | 准确率: 0.82, 训练集/测试集损失值: 0.6543/0.6019\n",
      "    之前的权重 : ['1.6429', '0.7605', '0.0053']\n",
      "    梯度*学习率: ['0.0048', '-0.0103', '-0.0120']\n",
      "    更新后权重 : ['1.6478', '0.7503', '-0.0067']\n",
      "*************** 当前循环次数: 41 | 准确率: 0.82, 训练集/测试集损失值: 0.6348/0.5867\n",
      "    之前的权重 : ['1.6478', '0.7503', '-0.0067']\n",
      "    梯度*学习率: ['0.0045', '-0.0103', '-0.0117']\n",
      "    更新后权重 : ['1.6523', '0.7400', '-0.0184']\n",
      "*************** 当前循环次数: 42 | 准确率: 0.81, 训练集/测试集损失值: 0.6161/0.5721\n",
      "    之前的权重 : ['1.6523', '0.7400', '-0.0184']\n",
      "    梯度*学习率: ['0.0042', '-0.0102', '-0.0113']\n",
      "    更新后权重 : ['1.6565', '0.7298', '-0.0297']\n",
      "*************** 当前循环次数: 43 | 准确率: 0.81, 训练集/测试集损失值: 0.5983/0.5582\n",
      "    之前的权重 : ['1.6565', '0.7298', '-0.0297']\n",
      "    梯度*学习率: ['0.0040', '-0.0102', '-0.0110']\n",
      "    更新后权重 : ['1.6605', '0.7196', '-0.0407']\n",
      "*************** 当前循环次数: 44 | 准确率: 0.82, 训练集/测试集损失值: 0.5812/0.5448\n",
      "    之前的权重 : ['1.6605', '0.7196', '-0.0407']\n",
      "    梯度*学习率: ['0.0037', '-0.0101', '-0.0107']\n",
      "    更新后权重 : ['1.6642', '0.7095', '-0.0514']\n",
      "*************** 当前循环次数: 45 | 准确率: 0.83, 训练集/测试集损失值: 0.5649/0.5321\n",
      "    之前的权重 : ['1.6642', '0.7095', '-0.0514']\n",
      "    梯度*学习率: ['0.0034', '-0.0101', '-0.0104']\n",
      "    更新后权重 : ['1.6677', '0.6994', '-0.0618']\n",
      "*************** 当前循环次数: 46 | 准确率: 0.83, 训练集/测试集损失值: 0.5493/0.5198\n",
      "    之前的权重 : ['1.6677', '0.6994', '-0.0618']\n",
      "    梯度*学习率: ['0.0032', '-0.0100', '-0.0101']\n",
      "    更新后权重 : ['1.6709', '0.6894', '-0.0719']\n",
      "*************** 当前循环次数: 47 | 准确率: 0.83, 训练集/测试集损失值: 0.5345/0.5081\n",
      "    之前的权重 : ['1.6709', '0.6894', '-0.0719']\n",
      "    梯度*学习率: ['0.0029', '-0.0100', '-0.0098']\n",
      "    更新后权重 : ['1.6738', '0.6794', '-0.0816']\n",
      "*************** 当前循环次数: 48 | 准确率: 0.82, 训练集/测试集损失值: 0.5203/0.4969\n",
      "    之前的权重 : ['1.6738', '0.6794', '-0.0816']\n",
      "    梯度*学习率: ['0.0027', '-0.0099', '-0.0095']\n",
      "    更新后权重 : ['1.6765', '0.6695', '-0.0911']\n",
      "*************** 当前循环次数: 49 | 准确率: 0.81, 训练集/测试集损失值: 0.5068/0.4861\n",
      "    之前的权重 : ['1.6765', '0.6695', '-0.0911']\n",
      "    梯度*学习率: ['0.0025', '-0.0098', '-0.0092']\n",
      "    更新后权重 : ['1.6790', '0.6597', '-0.1003']\n",
      "*************** 当前循环次数: 50 | 准确率: 0.81, 训练集/测试集损失值: 0.4939/0.4759\n",
      "    之前的权重 : ['1.6790', '0.6597', '-0.1003']\n",
      "    梯度*学习率: ['0.0023', '-0.0098', '-0.0089']\n",
      "    更新后权重 : ['1.6812', '0.6499', '-0.1092']\n",
      "*************** 当前循环次数: 51 | 准确率: 0.81, 训练集/测试集损失值: 0.4816/0.4661\n",
      "    之前的权重 : ['1.6812', '0.6499', '-0.1092']\n",
      "    梯度*学习率: ['0.0020', '-0.0097', '-0.0086']\n",
      "    更新后权重 : ['1.6833', '0.6402', '-0.1178']\n",
      "*************** 当前循环次数: 52 | 准确率: 0.81, 训练集/测试集损失值: 0.4699/0.4567\n",
      "    之前的权重 : ['1.6833', '0.6402', '-0.1178']\n",
      "    梯度*学习率: ['0.0018', '-0.0096', '-0.0083']\n",
      "    更新后权重 : ['1.6851', '0.6306', '-0.1261']\n",
      "*************** 当前循环次数: 53 | 准确率: 0.81, 训练集/测试集损失值: 0.4587/0.4477\n",
      "    之前的权重 : ['1.6851', '0.6306', '-0.1261']\n",
      "    梯度*学习率: ['0.0016', '-0.0095', '-0.0081']\n",
      "    更新后权重 : ['1.6867', '0.6211', '-0.1341']\n",
      "*************** 当前循环次数: 54 | 准确率: 0.81, 训练集/测试集损失值: 0.4481/0.4392\n",
      "    之前的权重 : ['1.6867', '0.6211', '-0.1341']\n",
      "    梯度*学习率: ['0.0014', '-0.0094', '-0.0078']\n",
      "    更新后权重 : ['1.6882', '0.6117', '-0.1419']\n",
      "*************** 当前循环次数: 55 | 准确率: 0.81, 训练集/测试集损失值: 0.4380/0.4310\n",
      "    之前的权重 : ['1.6882', '0.6117', '-0.1419']\n",
      "    梯度*学习率: ['0.0012', '-0.0094', '-0.0075']\n",
      "    更新后权重 : ['1.6894', '0.6023', '-0.1494']\n",
      "*************** 当前循环次数: 56 | 准确率: 0.81, 训练集/测试集损失值: 0.4284/0.4232\n",
      "    之前的权重 : ['1.6894', '0.6023', '-0.1494']\n",
      "    梯度*学习率: ['0.0011', '-0.0093', '-0.0073']\n",
      "    更新后权重 : ['1.6905', '0.5930', '-0.1567']\n",
      "*************** 当前循环次数: 57 | 准确率: 0.82, 训练集/测试集损失值: 0.4192/0.4158\n",
      "    之前的权重 : ['1.6905', '0.5930', '-0.1567']\n",
      "    梯度*学习率: ['0.0009', '-0.0092', '-0.0070']\n",
      "    更新后权重 : ['1.6914', '0.5839', '-0.1637']\n",
      "*************** 当前循环次数: 58 | 准确率: 0.82, 训练集/测试集损失值: 0.4105/0.4087\n",
      "    之前的权重 : ['1.6914', '0.5839', '-0.1637']\n",
      "    梯度*学习率: ['0.0007', '-0.0091', '-0.0068']\n",
      "    更新后权重 : ['1.6921', '0.5748', '-0.1705']\n",
      "*************** 当前循环次数: 59 | 准确率: 0.82, 训练集/测试集损失值: 0.4022/0.4019\n",
      "    之前的权重 : ['1.6921', '0.5748', '-0.1705']\n",
      "    梯度*学习率: ['0.0006', '-0.0090', '-0.0066']\n",
      "    更新后权重 : ['1.6927', '0.5658', '-0.1771']\n",
      "*************** 当前循环次数: 60 | 准确率: 0.83, 训练集/测试集损失值: 0.3943/0.3954\n",
      "    之前的权重 : ['1.6927', '0.5658', '-0.1771']\n",
      "    梯度*学习率: ['0.0004', '-0.0089', '-0.0063']\n",
      "    更新后权重 : ['1.6931', '0.5569', '-0.1834']\n",
      "*************** 当前循环次数: 61 | 准确率: 0.83, 训练集/测试集损失值: 0.3868/0.3893\n",
      "    之前的权重 : ['1.6931', '0.5569', '-0.1834']\n",
      "    梯度*学习率: ['0.0003', '-0.0088', '-0.0061']\n",
      "    更新后权重 : ['1.6934', '0.5480', '-0.1895']\n",
      "*************** 当前循环次数: 62 | 准确率: 0.83, 训练集/测试集损失值: 0.3797/0.3834\n",
      "    之前的权重 : ['1.6934', '0.5480', '-0.1895']\n",
      "    梯度*学习率: ['0.0001', '-0.0087', '-0.0059']\n",
      "    更新后权重 : ['1.6935', '0.5393', '-0.1954']\n",
      "*************** 当前循环次数: 63 | 准确率: 0.83, 训练集/测试集损失值: 0.3729/0.3777\n",
      "    之前的权重 : ['1.6935', '0.5393', '-0.1954']\n",
      "    梯度*学习率: ['0.0000', '-0.0086', '-0.0057']\n",
      "    更新后权重 : ['1.6935', '0.5307', '-0.2011']\n",
      "*************** 当前循环次数: 64 | 准确率: 0.83, 训练集/测试集损失值: 0.3664/0.3724\n",
      "    之前的权重 : ['1.6935', '0.5307', '-0.2011']\n",
      "    梯度*学习率: ['-0.0001', '-0.0085', '-0.0055']\n",
      "    更新后权重 : ['1.6934', '0.5221', '-0.2065']\n",
      "*************** 当前循环次数: 65 | 准确率: 0.83, 训练集/测试集损失值: 0.3602/0.3672\n",
      "    之前的权重 : ['1.6934', '0.5221', '-0.2065']\n",
      "    梯度*学习率: ['-0.0002', '-0.0085', '-0.0053']\n",
      "    更新后权重 : ['1.6932', '0.5137', '-0.2118']\n",
      "*************** 当前循环次数: 66 | 准确率: 0.83, 训练集/测试集损失值: 0.3543/0.3623\n",
      "    之前的权重 : ['1.6932', '0.5137', '-0.2118']\n",
      "    梯度*学习率: ['-0.0003', '-0.0084', '-0.0051']\n",
      "    更新后权重 : ['1.6929', '0.5053', '-0.2169']\n",
      "*************** 当前循环次数: 67 | 准确率: 0.83, 训练集/测试集损失值: 0.3487/0.3577\n",
      "    之前的权重 : ['1.6929', '0.5053', '-0.2169']\n",
      "    梯度*学习率: ['-0.0004', '-0.0083', '-0.0049']\n",
      "    更新后权重 : ['1.6924', '0.4970', '-0.2218']\n",
      "*************** 当前循环次数: 68 | 准确率: 0.83, 训练集/测试集损失值: 0.3434/0.3532\n",
      "    之前的权重 : ['1.6924', '0.4970', '-0.2218']\n",
      "    梯度*学习率: ['-0.0005', '-0.0082', '-0.0047']\n",
      "    更新后权重 : ['1.6919', '0.4889', '-0.2265']\n",
      "*************** 当前循环次数: 69 | 准确率: 0.84, 训练集/测试集损失值: 0.3383/0.3489\n",
      "    之前的权重 : ['1.6919', '0.4889', '-0.2265']\n",
      "    梯度*学习率: ['-0.0006', '-0.0081', '-0.0046']\n",
      "    更新后权重 : ['1.6912', '0.4808', '-0.2311']\n",
      "*************** 当前循环次数: 70 | 准确率: 0.84, 训练集/测试集损失值: 0.3334/0.3448\n",
      "    之前的权重 : ['1.6912', '0.4808', '-0.2311']\n",
      "    梯度*学习率: ['-0.0007', '-0.0080', '-0.0044']\n",
      "    更新后权重 : ['1.6905', '0.4728', '-0.2355']\n",
      "*************** 当前循环次数: 71 | 准确率: 0.84, 训练集/测试集损失值: 0.3287/0.3409\n",
      "    之前的权重 : ['1.6905', '0.4728', '-0.2355']\n",
      "    梯度*学习率: ['-0.0008', '-0.0079', '-0.0042']\n",
      "    更新后权重 : ['1.6897', '0.4648', '-0.2397']\n",
      "*************** 当前循环次数: 72 | 准确率: 0.84, 训练集/测试集损失值: 0.3243/0.3372\n",
      "    之前的权重 : ['1.6897', '0.4648', '-0.2397']\n",
      "    梯度*学习率: ['-0.0009', '-0.0078', '-0.0041']\n",
      "    更新后权重 : ['1.6888', '0.4570', '-0.2438']\n",
      "*************** 当前循环次数: 73 | 准确率: 0.84, 训练集/测试集损失值: 0.3200/0.3336\n",
      "    之前的权重 : ['1.6888', '0.4570', '-0.2438']\n",
      "    梯度*学习率: ['-0.0010', '-0.0077', '-0.0039']\n",
      "    更新后权重 : ['1.6879', '0.4493', '-0.2477']\n",
      "*************** 当前循环次数: 74 | 准确率: 0.84, 训练集/测试集损失值: 0.3160/0.3302\n",
      "    之前的权重 : ['1.6879', '0.4493', '-0.2477']\n",
      "    梯度*学习率: ['-0.0010', '-0.0077', '-0.0038']\n",
      "    更新后权重 : ['1.6868', '0.4416', '-0.2514']\n",
      "*************** 当前循环次数: 75 | 准确率: 0.85, 训练集/测试集损失值: 0.3121/0.3269\n",
      "    之前的权重 : ['1.6868', '0.4416', '-0.2514']\n",
      "    梯度*学习率: ['-0.0011', '-0.0076', '-0.0036']\n",
      "    更新后权重 : ['1.6857', '0.4340', '-0.2550']\n",
      "*************** 当前循环次数: 76 | 准确率: 0.85, 训练集/测试集损失值: 0.3084/0.3238\n",
      "    之前的权重 : ['1.6857', '0.4340', '-0.2550']\n",
      "    梯度*学习率: ['-0.0012', '-0.0075', '-0.0035']\n",
      "    更新后权重 : ['1.6845', '0.4265', '-0.2585']\n",
      "*************** 当前循环次数: 77 | 准确率: 0.85, 训练集/测试集损失值: 0.3048/0.3208\n",
      "    之前的权重 : ['1.6845', '0.4265', '-0.2585']\n",
      "    梯度*学习率: ['-0.0012', '-0.0074', '-0.0033']\n",
      "    更新后权重 : ['1.6833', '0.4191', '-0.2619']\n",
      "*************** 当前循环次数: 78 | 准确率: 0.85, 训练集/测试集损失值: 0.3014/0.3179\n",
      "    之前的权重 : ['1.6833', '0.4191', '-0.2619']\n",
      "    梯度*学习率: ['-0.0013', '-0.0073', '-0.0032']\n",
      "    更新后权重 : ['1.6820', '0.4118', '-0.2651']\n",
      "*************** 当前循环次数: 79 | 准确率: 0.85, 训练集/测试集损失值: 0.2981/0.3151\n",
      "    之前的权重 : ['1.6820', '0.4118', '-0.2651']\n",
      "    梯度*学习率: ['-0.0013', '-0.0073', '-0.0031']\n",
      "    更新后权重 : ['1.6807', '0.4045', '-0.2682']\n",
      "*************** 当前循环次数: 80 | 准确率: 0.85, 训练集/测试集损失值: 0.2950/0.3124\n",
      "    之前的权重 : ['1.6807', '0.4045', '-0.2682']\n",
      "    梯度*学习率: ['-0.0014', '-0.0072', '-0.0030']\n",
      "    更新后权重 : ['1.6793', '0.3974', '-0.2711']\n",
      "*************** 当前循环次数: 81 | 准确率: 0.85, 训练集/测试集损失值: 0.2920/0.3099\n",
      "    之前的权重 : ['1.6793', '0.3974', '-0.2711']\n",
      "    梯度*学习率: ['-0.0014', '-0.0071', '-0.0028']\n",
      "    更新后权重 : ['1.6779', '0.3903', '-0.2740']\n",
      "*************** 当前循环次数: 82 | 准确率: 0.85, 训练集/测试集损失值: 0.2891/0.3074\n",
      "    之前的权重 : ['1.6779', '0.3903', '-0.2740']\n",
      "    梯度*学习率: ['-0.0015', '-0.0070', '-0.0027']\n",
      "    更新后权重 : ['1.6764', '0.3832', '-0.2767']\n",
      "*************** 当前循环次数: 83 | 准确率: 0.85, 训练集/测试集损失值: 0.2863/0.3051\n",
      "    之前的权重 : ['1.6764', '0.3832', '-0.2767']\n",
      "    梯度*学习率: ['-0.0015', '-0.0069', '-0.0026']\n",
      "    更新后权重 : ['1.6749', '0.3763', '-0.2793']\n",
      "*************** 当前循环次数: 84 | 准确率: 0.85, 训练集/测试集损失值: 0.2837/0.3028\n",
      "    之前的权重 : ['1.6749', '0.3763', '-0.2793']\n",
      "    梯度*学习率: ['-0.0016', '-0.0069', '-0.0025']\n",
      "    更新后权重 : ['1.6733', '0.3694', '-0.2819']\n",
      "*************** 当前循环次数: 85 | 准确率: 0.85, 训练集/测试集损失值: 0.2811/0.3006\n",
      "    之前的权重 : ['1.6733', '0.3694', '-0.2819']\n",
      "    梯度*学习率: ['-0.0016', '-0.0068', '-0.0024']\n",
      "    更新后权重 : ['1.6717', '0.3626', '-0.2843']\n",
      "*************** 当前循环次数: 86 | 准确率: 0.85, 训练集/测试集损失值: 0.2787/0.2985\n",
      "    之前的权重 : ['1.6717', '0.3626', '-0.2843']\n",
      "    梯度*学习率: ['-0.0016', '-0.0067', '-0.0023']\n",
      "    更新后权重 : ['1.6701', '0.3559', '-0.2866']\n",
      "*************** 当前循环次数: 87 | 准确率: 0.86, 训练集/测试集损失值: 0.2763/0.2965\n",
      "    之前的权重 : ['1.6701', '0.3559', '-0.2866']\n",
      "    梯度*学习率: ['-0.0017', '-0.0067', '-0.0022']\n",
      "    更新后权重 : ['1.6684', '0.3493', '-0.2888']\n",
      "*************** 当前循环次数: 88 | 准确率: 0.86, 训练集/测试集损失值: 0.2740/0.2945\n",
      "    之前的权重 : ['1.6684', '0.3493', '-0.2888']\n",
      "    梯度*学习率: ['-0.0017', '-0.0066', '-0.0021']\n",
      "    更新后权重 : ['1.6667', '0.3427', '-0.2909']\n",
      "*************** 当前循环次数: 89 | 准确率: 0.86, 训练集/测试集损失值: 0.2718/0.2926\n",
      "    之前的权重 : ['1.6667', '0.3427', '-0.2909']\n",
      "    梯度*学习率: ['-0.0017', '-0.0065', '-0.0020']\n",
      "    更新后权重 : ['1.6650', '0.3362', '-0.2929']\n",
      "*************** 当前循环次数: 90 | 准确率: 0.86, 训练集/测试集损失值: 0.2697/0.2908\n",
      "    之前的权重 : ['1.6650', '0.3362', '-0.2929']\n",
      "    梯度*学习率: ['-0.0018', '-0.0064', '-0.0019']\n",
      "    更新后权重 : ['1.6632', '0.3297', '-0.2949']\n",
      "*************** 当前循环次数: 91 | 准确率: 0.86, 训练集/测试集损失值: 0.2677/0.2891\n",
      "    之前的权重 : ['1.6632', '0.3297', '-0.2949']\n",
      "    梯度*学习率: ['-0.0018', '-0.0064', '-0.0019']\n",
      "    更新后权重 : ['1.6614', '0.3234', '-0.2967']\n",
      "*************** 当前循环次数: 92 | 准确率: 0.86, 训练集/测试集损失值: 0.2657/0.2874\n",
      "    之前的权重 : ['1.6614', '0.3234', '-0.2967']\n",
      "    梯度*学习率: ['-0.0018', '-0.0063', '-0.0018']\n",
      "    更新后权重 : ['1.6596', '0.3171', '-0.2985']\n",
      "*************** 当前循环次数: 93 | 准确率: 0.86, 训练集/测试集损失值: 0.2638/0.2857\n",
      "    之前的权重 : ['1.6596', '0.3171', '-0.2985']\n",
      "    梯度*学习率: ['-0.0018', '-0.0062', '-0.0017']\n",
      "    更新后权重 : ['1.6578', '0.3108', '-0.3002']\n",
      "*************** 当前循环次数: 94 | 准确率: 0.86, 训练集/测试集损失值: 0.2620/0.2841\n",
      "    之前的权重 : ['1.6578', '0.3108', '-0.3002']\n",
      "    梯度*学习率: ['-0.0018', '-0.0062', '-0.0016']\n",
      "    更新后权重 : ['1.6560', '0.3046', '-0.3018']\n",
      "*************** 当前循环次数: 95 | 准确率: 0.86, 训练集/测试集损失值: 0.2602/0.2826\n",
      "    之前的权重 : ['1.6560', '0.3046', '-0.3018']\n",
      "    梯度*学习率: ['-0.0019', '-0.0061', '-0.0015']\n",
      "    更新后权重 : ['1.6541', '0.2985', '-0.3034']\n",
      "*************** 当前循环次数: 96 | 准确率: 0.86, 训练集/测试集损失值: 0.2585/0.2811\n",
      "    之前的权重 : ['1.6541', '0.2985', '-0.3034']\n",
      "    梯度*学习率: ['-0.0019', '-0.0060', '-0.0015']\n",
      "    更新后权重 : ['1.6522', '0.2925', '-0.3048']\n",
      "*************** 当前循环次数: 97 | 准确率: 0.86, 训练集/测试集损失值: 0.2568/0.2797\n",
      "    之前的权重 : ['1.6522', '0.2925', '-0.3048']\n",
      "    梯度*学习率: ['-0.0019', '-0.0060', '-0.0014']\n",
      "    更新后权重 : ['1.6503', '0.2865', '-0.3062']\n",
      "*************** 当前循环次数: 98 | 准确率: 0.86, 训练集/测试集损失值: 0.2552/0.2783\n",
      "    之前的权重 : ['1.6503', '0.2865', '-0.3062']\n",
      "    梯度*学习率: ['-0.0019', '-0.0059', '-0.0013']\n",
      "    更新后权重 : ['1.6484', '0.2806', '-0.3076']\n",
      "*************** 当前循环次数: 99 | 准确率: 0.86, 训练集/测试集损失值: 0.2536/0.2769\n",
      "    之前的权重 : ['1.6484', '0.2806', '-0.3076']\n",
      "    梯度*学习率: ['-0.0019', '-0.0059', '-0.0013']\n",
      "    更新后权重 : ['1.6465', '0.2747', '-0.3088']\n",
      "*************** 当前循环次数: 100 | 准确率: 0.87, 训练集/测试集损失值: 0.2521/0.2756\n",
      "    之前的权重 : ['1.6465', '0.2747', '-0.3088']\n",
      "    梯度*学习率: ['-0.0019', '-0.0058', '-0.0012']\n",
      "    更新后权重 : ['1.6445', '0.2689', '-0.3100']\n",
      "*************** 当前循环次数: 101 | 准确率: 0.87, 训练集/测试集损失值: 0.2507/0.2743\n",
      "    之前的权重 : ['1.6445', '0.2689', '-0.3100']\n",
      "    梯度*学习率: ['-0.0020', '-0.0057', '-0.0011']\n",
      "    更新后权重 : ['1.6426', '0.2632', '-0.3112']\n",
      "*************** 当前循环次数: 102 | 准确率: 0.87, 训练集/测试集损失值: 0.2493/0.2731\n",
      "    之前的权重 : ['1.6426', '0.2632', '-0.3112']\n",
      "    梯度*学习率: ['-0.0020', '-0.0057', '-0.0011']\n",
      "    更新后权重 : ['1.6406', '0.2575', '-0.3123']\n"
     ]
    }
   ],
   "source": [
    "losses_train = []\n",
    "losses_test = []\n",
    "weights = None\n",
    "predictions = []\n",
    "\n",
    "for epoch in range(epoches):\n",
    "    # 开始训练\n",
    "    LR.train(True)\n",
    "    last_weight = get_round_weight(LR.linear.weight)\n",
    "    \n",
    "    ## 获取数据\n",
    "    inputs, labels = ds_train.feature, ds_train.label\n",
    "    optimizer.zero_grad()\n",
    "\n",
    "    ## 预测结果\n",
    "    outputs = LR(inputs)\n",
    "    outputs = outputs.squeeze(-1)\n",
    "\n",
    "    ## 计算损失\n",
    "    loss = loss_function(outputs, labels)\n",
    "\n",
    "    ## 计算权重梯度\n",
    "    loss.backward()\n",
    "    cur_grad = get_round_weight(LR.linear.weight.grad, lr=learning_rate)\n",
    "    \n",
    "    ## 改变权重\n",
    "    optimizer.step()\n",
    "    losses_train.append(loss.item())\n",
    "    cur_weight = get_round_weight(LR.linear.weight)\n",
    "\n",
    "    # 开始测试\n",
    "    LR.train(False)\n",
    "    total = 0\n",
    "    correct = 0\n",
    "\n",
    "    inputs, labels = ds_test.feature, ds_test.label\n",
    "    outputs = LR(inputs)\n",
    "    outputs = outputs.squeeze(-1)\n",
    "    loss = loss_function(outputs, labels)\n",
    "    total += labels.size(0)\n",
    "    correct += np.sum(torch.squeeze(outputs).round().detach().numpy() == labels.detach().numpy())\n",
    "\n",
    "    losses_test.append(loss.item())\n",
    "    predictions.append(outputs.detach().numpy())\n",
    "\n",
    "    # 提取模型权重\n",
    "    w1 = LR.linear.weight.detach().numpy().squeeze()\n",
    "    b1 = LR.linear.bias.detach().numpy()\n",
    "    merge = np.concatenate((w1, b1))\n",
    "    weights = merge if weights is None else np.vstack((weights, merge))\n",
    "    \n",
    "    print('*'*15,\n",
    "        '''当前循环次数: {:2d} | 准确率: {:.2f}, 训练集/测试集损失值: {:.4f}/{:.4f}\n",
    "    之前的权重 : {}\n",
    "    梯度*学习率: {}\n",
    "    更新后权重 : {}'''.format(epoch+3, correct/total, losses_train[-1], losses_test[-1], last_weight, cur_grad, cur_weight)\n",
    "    )\n",
    "\n",
    "    time.sleep(0.5)"
   ]
  },
  {
   "cell_type": "markdown",
   "metadata": {},
   "source": [
    "# 三、结果分析"
   ]
  },
  {
   "cell_type": "code",
   "execution_count": 640,
   "metadata": {},
   "outputs": [
    {
     "data": {
      "image/png": "[encoded data removed]",
      "text/plain": [
       "<Figure size 720x648 with 2 Axes>"
      ]
     },
     "metadata": {
      "needs_background": "light"
     },
     "output_type": "display_data"
    }
   ],
   "source": [
    "# 可视化权重变化\n",
    "# FIXME\n",
    "cols = list(df_train.columns.values)[:-1]\n",
    "cols.append('bias')\n",
    "df_weights = pd.DataFrame(weights, columns=cols)\n",
    "kc, kerne_ycol, kerne_rund = df_weights.iloc[:, 2], df_weights.iloc[:, 3], df_weights.iloc[:, 9]\n",
    "\n",
    "def calculate_diff(weights):\n",
    "    result = []\n",
    "    n = weights.shape[0]\n",
    "    for i in range(1, n):\n",
    "        result.append(weights[i] - weights[i-1])\n",
    "    return result\n",
    "\n",
    "diff1, diff2, diff3 = calculate_diff(kc), calculate_diff(kerne_ycol), calculate_diff(kerne_rund)\n",
    "plt.figure(figsize=(10, 9))\n",
    "\n",
    "# 权重变化图\n",
    "plt.subplot(2, 1, 1)\n",
    "x = np.arange(0, epoches)\n",
    "plt.plot(x, kc, label='K/C')\n",
    "plt.plot(x, kerne_ycol, label='kerne_ycol')\n",
    "plt.plot(x, kerne_rund, label='kerne_rund')\n",
    "plt.title('Weight scatter plot')\n",
    "plt.xlabel('epoch')\n",
    "plt.ylabel('weight')\n",
    "plt.legend()\n",
    "\n",
    "# 权重差值变化图\n",
    "plt.subplot(2, 1, 2)\n",
    "x = np.arange(0,  len(diff1))\n",
    "plt.plot(x, diff1, label='K/C')\n",
    "plt.plot(x, diff2, label='kerne_ycol')\n",
    "plt.plot(x, diff3, label='kerne_rund')\n",
    "plt.title('Weight diff plot')\n",
    "plt.xlabel('epoch')\n",
    "plt.ylabel('weight_diff')\n",
    "plt.subplots_adjust(hspace=0.5)\n",
    "plt.legend()\n",
    "plt.show()"
   ]
  },
  {
   "cell_type": "markdown",
   "metadata": {},
   "source": [
    "由上图我们可以看出来\n",
    "- 随着训练的进行, 模型的权重在不断的变化;\n",
    "- 从第一张图可以看出, 核浆比的系数为正数, 所以核浆比和结果呈正相关, 也就是说核浆比越大, 该细胞为癌细胞概率越大, 核颜色, 核圆度反之,\n",
    "- 另外随着模型的训练, 模型会最逐渐的收敛, 权重的变化也越来越小, 到最后训练循环间权重的变化都趋近于 0. "
   ]
  },
  {
   "cell_type": "code",
   "execution_count": 642,
   "metadata": {},
   "outputs": [
    {
     "data": {
      "image/png": "[encoded data removed]",
      "text/plain": [
       "<Figure size 1080x720 with 4 Axes>"
      ]
     },
     "metadata": {
      "needs_background": "light"
     },
     "output_type": "display_data"
    }
   ],
   "source": [
    "# loss\n",
    "plt.figure(figsize=(15, 10))\n",
    "plt.subplot(2, 2, 1)\n",
    "x = np.arange(0, epoches)\n",
    "plt.plot(x, losses_train, label='train')\n",
    "plt.plot(x, losses_test, label='test')\n",
    "plt.title('LOSS')\n",
    "plt.xlabel('epoch')\n",
    "plt.ylabel('loss')\n",
    "plt.legend()\n",
    "\n",
    "# 计算 auc, 真阳率(true positive rate), 真阴率(true negative rate)\n",
    "from sklearn.metrics import confusion_matrix, roc_auc_score\n",
    "label_true = df_test['label'].to_numpy()\n",
    "aucs, tprs, tnrs = [], [], []\n",
    "theshold = 0.5\n",
    "\n",
    "for pred in predictions:\n",
    "    aucs.append(roc_auc_score(label_true, pred))\n",
    "    tmp = pred.copy()\n",
    "    tmp[tmp >= theshold] = 1\n",
    "    tmp[tmp < theshold] = 0\n",
    "    tn, fp, fn, tp = confusion_matrix(label_true, tmp).ravel()\n",
    "    tprs.append(tp/(tp+fn))\n",
    "    tnrs.append(tn/(tn+fp))\n",
    "\n",
    "# plt.figure(figsize=(10, 18))\n",
    "tittle = 'AUC TPR TNR'.split()\n",
    "x = np.arange(0, epoches)\n",
    "for index, matric in enumerate([aucs, tprs, tprs]):\n",
    "    plt.subplot(2, 2, index+2)\n",
    "    plt.plot(x, matric)\n",
    "    plt.title(tittle[index])\n",
    "    plt.xlabel('epoch')\n",
    "    plt.ylabel(tittle[index])\n",
    "plt.subplots_adjust(hspace=0.5)\n",
    "plt.show()"
   ]
  },
  {
   "cell_type": "markdown",
   "metadata": {},
   "source": [
    "由上图我们可以看出\n",
    "- 模型的损失值在不断的下降. 且训练集和测试集差距不大, 证明模型能能很好的学习;\n",
    "- 模型其他衡量指标也在随着模型训练的进行, 不断上升. AUC, 真阳率, 真阴率均超过 0.8, 证明模型能很好预测结果"
   ]
  },
  {
   "cell_type": "code",
   "execution_count": null,
   "metadata": {},
   "outputs": [],
   "source": []
  }
 ],
 "metadata": {
  "interpreter": {
   "hash": "bf3955dab283c8f8bf6f4ee4cf1e080c7100f27f8503bd99d998f370c95447ff"
  },
  "kernelspec": {
   "display_name": "cv_py36_test",
   "language": "python",
   "name": "python3"
  },
  "language_info": {
   "codemirror_mode": {
    "name": "ipython",
    "version": 3
   },
   "file_extension": ".py",
   "mimetype": "text/x-python",
   "name": "python",
   "nbconvert_exporter": "python",
   "pygments_lexer": "ipython3",
   "version": "3.8.8"
  },
  "orig_nbformat": 4
 },
 "nbformat": 4,
 "nbformat_minor": 2
}
